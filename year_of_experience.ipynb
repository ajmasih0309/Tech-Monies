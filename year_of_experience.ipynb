{
  "nbformat": 4,
  "nbformat_minor": 0,
  "metadata": {
    "colab": {
      "name": "year_of_experience.ipynb",
      "provenance": [],
      "collapsed_sections": [],
      "authorship_tag": "ABX9TyN4flGVitVZi2a5ceQJ4MEx",
      "include_colab_link": true
    },
    "kernelspec": {
      "name": "python3",
      "display_name": "Python 3"
    },
    "language_info": {
      "name": "python"
    }
  },
  "cells": [
    {
      "cell_type": "markdown",
      "metadata": {
        "id": "view-in-github",
        "colab_type": "text"
      },
      "source": [
        "<a href=\"https://colab.research.google.com/github/lifepopkay/Tech-Monies/blob/Data-cleaning/year_of_experience.ipynb\" target=\"_parent\"><img src=\"https://colab.research.google.com/assets/colab-badge.svg\" alt=\"Open In Colab\"/></a>"
      ]
    },
    {
      "cell_type": "code",
      "execution_count": 43,
      "metadata": {
        "id": "Kn4eN_sy9-1M"
      },
      "outputs": [],
      "source": [
        "import pandas as pd\n",
        "import numpy as np\n",
        "from nltk.corpus import stopwords\n",
        "import re"
      ]
    },
    {
      "cell_type": "code",
      "source": [
        "tech_monies = pd.read_excel('monies.xlsx')"
      ],
      "metadata": {
        "id": "3KYys0w9E2eV"
      },
      "execution_count": 44,
      "outputs": []
    },
    {
      "cell_type": "code",
      "source": [
        "tech_monies.head(1)"
      ],
      "metadata": {
        "colab": {
          "base_uri": "https://localhost:8080/",
          "height": 194
        },
        "id": "sMOPBzNxFTgL",
        "outputId": "c9739c31-e972-41e8-aa7e-c9b91ca40819"
      },
      "execution_count": 45,
      "outputs": [
        {
          "output_type": "execute_result",
          "data": {
            "text/plain": [
              "                      title                    id   company location  \\\n",
              "0  Senior Software Engineer  job_3e1d31dda6c5cb4b  Offerzen    Lagos   \n",
              "\n",
              "                                                link salaryDesc     postDate  \\\n",
              "0  /company/OfferZen/jobs/Senior-Software-Enginee...  Full-time  Just posted   \n",
              "\n",
              "                                             JobDesc title scraped for  \\\n",
              "0  The Opportunity\\nOur newly formed Marketplace ...    Data Scientist   \n",
              "\n",
              "   Country  \n",
              "0  Nigeria  "
            ],
            "text/html": [
              "\n",
              "  <div id=\"df-7d7b4c06-9ee5-4439-ac24-a5e24c302125\">\n",
              "    <div class=\"colab-df-container\">\n",
              "      <div>\n",
              "<style scoped>\n",
              "    .dataframe tbody tr th:only-of-type {\n",
              "        vertical-align: middle;\n",
              "    }\n",
              "\n",
              "    .dataframe tbody tr th {\n",
              "        vertical-align: top;\n",
              "    }\n",
              "\n",
              "    .dataframe thead th {\n",
              "        text-align: right;\n",
              "    }\n",
              "</style>\n",
              "<table border=\"1\" class=\"dataframe\">\n",
              "  <thead>\n",
              "    <tr style=\"text-align: right;\">\n",
              "      <th></th>\n",
              "      <th>title</th>\n",
              "      <th>id</th>\n",
              "      <th>company</th>\n",
              "      <th>location</th>\n",
              "      <th>link</th>\n",
              "      <th>salaryDesc</th>\n",
              "      <th>postDate</th>\n",
              "      <th>JobDesc</th>\n",
              "      <th>title scraped for</th>\n",
              "      <th>Country</th>\n",
              "    </tr>\n",
              "  </thead>\n",
              "  <tbody>\n",
              "    <tr>\n",
              "      <th>0</th>\n",
              "      <td>Senior Software Engineer</td>\n",
              "      <td>job_3e1d31dda6c5cb4b</td>\n",
              "      <td>Offerzen</td>\n",
              "      <td>Lagos</td>\n",
              "      <td>/company/OfferZen/jobs/Senior-Software-Enginee...</td>\n",
              "      <td>Full-time</td>\n",
              "      <td>Just posted</td>\n",
              "      <td>The Opportunity\\nOur newly formed Marketplace ...</td>\n",
              "      <td>Data Scientist</td>\n",
              "      <td>Nigeria</td>\n",
              "    </tr>\n",
              "  </tbody>\n",
              "</table>\n",
              "</div>\n",
              "      <button class=\"colab-df-convert\" onclick=\"convertToInteractive('df-7d7b4c06-9ee5-4439-ac24-a5e24c302125')\"\n",
              "              title=\"Convert this dataframe to an interactive table.\"\n",
              "              style=\"display:none;\">\n",
              "        \n",
              "  <svg xmlns=\"http://www.w3.org/2000/svg\" height=\"24px\"viewBox=\"0 0 24 24\"\n",
              "       width=\"24px\">\n",
              "    <path d=\"M0 0h24v24H0V0z\" fill=\"none\"/>\n",
              "    <path d=\"M18.56 5.44l.94 2.06.94-2.06 2.06-.94-2.06-.94-.94-2.06-.94 2.06-2.06.94zm-11 1L8.5 8.5l.94-2.06 2.06-.94-2.06-.94L8.5 2.5l-.94 2.06-2.06.94zm10 10l.94 2.06.94-2.06 2.06-.94-2.06-.94-.94-2.06-.94 2.06-2.06.94z\"/><path d=\"M17.41 7.96l-1.37-1.37c-.4-.4-.92-.59-1.43-.59-.52 0-1.04.2-1.43.59L10.3 9.45l-7.72 7.72c-.78.78-.78 2.05 0 2.83L4 21.41c.39.39.9.59 1.41.59.51 0 1.02-.2 1.41-.59l7.78-7.78 2.81-2.81c.8-.78.8-2.07 0-2.86zM5.41 20L4 18.59l7.72-7.72 1.47 1.35L5.41 20z\"/>\n",
              "  </svg>\n",
              "      </button>\n",
              "      \n",
              "  <style>\n",
              "    .colab-df-container {\n",
              "      display:flex;\n",
              "      flex-wrap:wrap;\n",
              "      gap: 12px;\n",
              "    }\n",
              "\n",
              "    .colab-df-convert {\n",
              "      background-color: #E8F0FE;\n",
              "      border: none;\n",
              "      border-radius: 50%;\n",
              "      cursor: pointer;\n",
              "      display: none;\n",
              "      fill: #1967D2;\n",
              "      height: 32px;\n",
              "      padding: 0 0 0 0;\n",
              "      width: 32px;\n",
              "    }\n",
              "\n",
              "    .colab-df-convert:hover {\n",
              "      background-color: #E2EBFA;\n",
              "      box-shadow: 0px 1px 2px rgba(60, 64, 67, 0.3), 0px 1px 3px 1px rgba(60, 64, 67, 0.15);\n",
              "      fill: #174EA6;\n",
              "    }\n",
              "\n",
              "    [theme=dark] .colab-df-convert {\n",
              "      background-color: #3B4455;\n",
              "      fill: #D2E3FC;\n",
              "    }\n",
              "\n",
              "    [theme=dark] .colab-df-convert:hover {\n",
              "      background-color: #434B5C;\n",
              "      box-shadow: 0px 1px 3px 1px rgba(0, 0, 0, 0.15);\n",
              "      filter: drop-shadow(0px 1px 2px rgba(0, 0, 0, 0.3));\n",
              "      fill: #FFFFFF;\n",
              "    }\n",
              "  </style>\n",
              "\n",
              "      <script>\n",
              "        const buttonEl =\n",
              "          document.querySelector('#df-7d7b4c06-9ee5-4439-ac24-a5e24c302125 button.colab-df-convert');\n",
              "        buttonEl.style.display =\n",
              "          google.colab.kernel.accessAllowed ? 'block' : 'none';\n",
              "\n",
              "        async function convertToInteractive(key) {\n",
              "          const element = document.querySelector('#df-7d7b4c06-9ee5-4439-ac24-a5e24c302125');\n",
              "          const dataTable =\n",
              "            await google.colab.kernel.invokeFunction('convertToInteractive',\n",
              "                                                     [key], {});\n",
              "          if (!dataTable) return;\n",
              "\n",
              "          const docLinkHtml = 'Like what you see? Visit the ' +\n",
              "            '<a target=\"_blank\" href=https://colab.research.google.com/notebooks/data_table.ipynb>data table notebook</a>'\n",
              "            + ' to learn more about interactive tables.';\n",
              "          element.innerHTML = '';\n",
              "          dataTable['output_type'] = 'display_data';\n",
              "          await google.colab.output.renderOutput(dataTable, element);\n",
              "          const docLink = document.createElement('div');\n",
              "          docLink.innerHTML = docLinkHtml;\n",
              "          element.appendChild(docLink);\n",
              "        }\n",
              "      </script>\n",
              "    </div>\n",
              "  </div>\n",
              "  "
            ]
          },
          "metadata": {},
          "execution_count": 45
        }
      ]
    },
    {
      "cell_type": "code",
      "source": [
        "tech_monies.shape\n"
      ],
      "metadata": {
        "colab": {
          "base_uri": "https://localhost:8080/"
        },
        "id": "RMcsEwPpGq0T",
        "outputId": "dffddcc2-dd69-47e6-ecb5-a0e5aea2599d"
      },
      "execution_count": 46,
      "outputs": [
        {
          "output_type": "execute_result",
          "data": {
            "text/plain": [
              "(8700, 10)"
            ]
          },
          "metadata": {},
          "execution_count": 46
        }
      ]
    },
    {
      "cell_type": "code",
      "source": [
        "tech_monies.columns"
      ],
      "metadata": {
        "colab": {
          "base_uri": "https://localhost:8080/"
        },
        "id": "SKR-oX_gGyAZ",
        "outputId": "ded6db0a-d9c4-49f5-f904-34d0a383258e"
      },
      "execution_count": 47,
      "outputs": [
        {
          "output_type": "execute_result",
          "data": {
            "text/plain": [
              "Index(['title', 'id', 'company', 'location', 'link', 'salaryDesc', 'postDate',\n",
              "       'JobDesc', 'title scraped for', 'Country'],\n",
              "      dtype='object')"
            ]
          },
          "metadata": {},
          "execution_count": 47
        }
      ]
    },
    {
      "cell_type": "code",
      "source": [
        "sample = pd.DataFrame(tech_monies.JobDesc)"
      ],
      "metadata": {
        "id": "QpVSb0o6HoOD"
      },
      "execution_count": 58,
      "outputs": []
    },
    {
      "cell_type": "code",
      "source": [
        "sample.shape"
      ],
      "metadata": {
        "colab": {
          "base_uri": "https://localhost:8080/"
        },
        "id": "flfcK35J1jll",
        "outputId": "25eabbc8-d787-4464-a183-510329d06e93"
      },
      "execution_count": 59,
      "outputs": [
        {
          "output_type": "execute_result",
          "data": {
            "text/plain": [
              "(8700, 1)"
            ]
          },
          "metadata": {},
          "execution_count": 59
        }
      ]
    },
    {
      "cell_type": "code",
      "source": [
        "sample.head()"
      ],
      "metadata": {
        "colab": {
          "base_uri": "https://localhost:8080/",
          "height": 206
        },
        "id": "2fUyZISS7yxl",
        "outputId": "66918dbc-9002-4d7f-b9fa-e4da9dee89b1"
      },
      "execution_count": 60,
      "outputs": [
        {
          "output_type": "execute_result",
          "data": {
            "text/plain": [
              "                                             JobDesc\n",
              "0  The Opportunity\\nOur newly formed Marketplace ...\n",
              "1  Our client requires the skills of a Data Scien...\n",
              "2  \\nWork with development teams and product mana...\n",
              "3  \\n\\n\\n\\nSuperintendent Pharmaceutical Officer\\...\n",
              "4  \\n\\n  Company : Worley \\n \\n\\nPrimary Location..."
            ],
            "text/html": [
              "\n",
              "  <div id=\"df-674ef433-7b34-49e3-9d59-ce02f21c7005\">\n",
              "    <div class=\"colab-df-container\">\n",
              "      <div>\n",
              "<style scoped>\n",
              "    .dataframe tbody tr th:only-of-type {\n",
              "        vertical-align: middle;\n",
              "    }\n",
              "\n",
              "    .dataframe tbody tr th {\n",
              "        vertical-align: top;\n",
              "    }\n",
              "\n",
              "    .dataframe thead th {\n",
              "        text-align: right;\n",
              "    }\n",
              "</style>\n",
              "<table border=\"1\" class=\"dataframe\">\n",
              "  <thead>\n",
              "    <tr style=\"text-align: right;\">\n",
              "      <th></th>\n",
              "      <th>JobDesc</th>\n",
              "    </tr>\n",
              "  </thead>\n",
              "  <tbody>\n",
              "    <tr>\n",
              "      <th>0</th>\n",
              "      <td>The Opportunity\\nOur newly formed Marketplace ...</td>\n",
              "    </tr>\n",
              "    <tr>\n",
              "      <th>1</th>\n",
              "      <td>Our client requires the skills of a Data Scien...</td>\n",
              "    </tr>\n",
              "    <tr>\n",
              "      <th>2</th>\n",
              "      <td>\\nWork with development teams and product mana...</td>\n",
              "    </tr>\n",
              "    <tr>\n",
              "      <th>3</th>\n",
              "      <td>\\n\\n\\n\\nSuperintendent Pharmaceutical Officer\\...</td>\n",
              "    </tr>\n",
              "    <tr>\n",
              "      <th>4</th>\n",
              "      <td>\\n\\n  Company : Worley \\n \\n\\nPrimary Location...</td>\n",
              "    </tr>\n",
              "  </tbody>\n",
              "</table>\n",
              "</div>\n",
              "      <button class=\"colab-df-convert\" onclick=\"convertToInteractive('df-674ef433-7b34-49e3-9d59-ce02f21c7005')\"\n",
              "              title=\"Convert this dataframe to an interactive table.\"\n",
              "              style=\"display:none;\">\n",
              "        \n",
              "  <svg xmlns=\"http://www.w3.org/2000/svg\" height=\"24px\"viewBox=\"0 0 24 24\"\n",
              "       width=\"24px\">\n",
              "    <path d=\"M0 0h24v24H0V0z\" fill=\"none\"/>\n",
              "    <path d=\"M18.56 5.44l.94 2.06.94-2.06 2.06-.94-2.06-.94-.94-2.06-.94 2.06-2.06.94zm-11 1L8.5 8.5l.94-2.06 2.06-.94-2.06-.94L8.5 2.5l-.94 2.06-2.06.94zm10 10l.94 2.06.94-2.06 2.06-.94-2.06-.94-.94-2.06-.94 2.06-2.06.94z\"/><path d=\"M17.41 7.96l-1.37-1.37c-.4-.4-.92-.59-1.43-.59-.52 0-1.04.2-1.43.59L10.3 9.45l-7.72 7.72c-.78.78-.78 2.05 0 2.83L4 21.41c.39.39.9.59 1.41.59.51 0 1.02-.2 1.41-.59l7.78-7.78 2.81-2.81c.8-.78.8-2.07 0-2.86zM5.41 20L4 18.59l7.72-7.72 1.47 1.35L5.41 20z\"/>\n",
              "  </svg>\n",
              "      </button>\n",
              "      \n",
              "  <style>\n",
              "    .colab-df-container {\n",
              "      display:flex;\n",
              "      flex-wrap:wrap;\n",
              "      gap: 12px;\n",
              "    }\n",
              "\n",
              "    .colab-df-convert {\n",
              "      background-color: #E8F0FE;\n",
              "      border: none;\n",
              "      border-radius: 50%;\n",
              "      cursor: pointer;\n",
              "      display: none;\n",
              "      fill: #1967D2;\n",
              "      height: 32px;\n",
              "      padding: 0 0 0 0;\n",
              "      width: 32px;\n",
              "    }\n",
              "\n",
              "    .colab-df-convert:hover {\n",
              "      background-color: #E2EBFA;\n",
              "      box-shadow: 0px 1px 2px rgba(60, 64, 67, 0.3), 0px 1px 3px 1px rgba(60, 64, 67, 0.15);\n",
              "      fill: #174EA6;\n",
              "    }\n",
              "\n",
              "    [theme=dark] .colab-df-convert {\n",
              "      background-color: #3B4455;\n",
              "      fill: #D2E3FC;\n",
              "    }\n",
              "\n",
              "    [theme=dark] .colab-df-convert:hover {\n",
              "      background-color: #434B5C;\n",
              "      box-shadow: 0px 1px 3px 1px rgba(0, 0, 0, 0.15);\n",
              "      filter: drop-shadow(0px 1px 2px rgba(0, 0, 0, 0.3));\n",
              "      fill: #FFFFFF;\n",
              "    }\n",
              "  </style>\n",
              "\n",
              "      <script>\n",
              "        const buttonEl =\n",
              "          document.querySelector('#df-674ef433-7b34-49e3-9d59-ce02f21c7005 button.colab-df-convert');\n",
              "        buttonEl.style.display =\n",
              "          google.colab.kernel.accessAllowed ? 'block' : 'none';\n",
              "\n",
              "        async function convertToInteractive(key) {\n",
              "          const element = document.querySelector('#df-674ef433-7b34-49e3-9d59-ce02f21c7005');\n",
              "          const dataTable =\n",
              "            await google.colab.kernel.invokeFunction('convertToInteractive',\n",
              "                                                     [key], {});\n",
              "          if (!dataTable) return;\n",
              "\n",
              "          const docLinkHtml = 'Like what you see? Visit the ' +\n",
              "            '<a target=\"_blank\" href=https://colab.research.google.com/notebooks/data_table.ipynb>data table notebook</a>'\n",
              "            + ' to learn more about interactive tables.';\n",
              "          element.innerHTML = '';\n",
              "          dataTable['output_type'] = 'display_data';\n",
              "          await google.colab.output.renderOutput(dataTable, element);\n",
              "          const docLink = document.createElement('div');\n",
              "          docLink.innerHTML = docLinkHtml;\n",
              "          element.appendChild(docLink);\n",
              "        }\n",
              "      </script>\n",
              "    </div>\n",
              "  </div>\n",
              "  "
            ]
          },
          "metadata": {},
          "execution_count": 60
        }
      ]
    },
    {
      "cell_type": "code",
      "source": [
        "txt =sample.JobDesc[0]"
      ],
      "metadata": {
        "id": "CsOP__oA8Brr"
      },
      "execution_count": 77,
      "outputs": []
    },
    {
      "cell_type": "code",
      "source": [
        "import nltk\n",
        "nltk.download('punkt')\n",
        "\n",
        "from nltk.corpus import stopwords\n",
        "from nltk.tokenize import word_tokenize\n",
        "\n",
        "stop = set(stopwords.words('english'))\n",
        "toke = word_tokenize(sample.JobDesc[0])\n",
        "\n",
        "\n",
        "filtered_sentence = [items for items in toke if not items.lower() in  stop]  \n",
        "\n",
        "# filtered_sentence = []\n",
        "\n",
        "# for w in toke:\n",
        "#   if w not in stop:\n",
        "#     filtered_sentence.append(w)\n",
        "\n",
        "\n",
        "\n",
        "print(filtered_sentence)\n"
      ],
      "metadata": {
        "colab": {
          "base_uri": "https://localhost:8080/"
        },
        "id": "JhECVkLK98m3",
        "outputId": "7c09a87c-9d1b-4f2b-bf75-18a9b2e1b03e"
      },
      "execution_count": 115,
      "outputs": [
        {
          "output_type": "stream",
          "name": "stdout",
          "text": [
            "['Opportunity', 'newly', 'formed', 'Marketplace', 'Enablement', 'squad', 'responsible', 'improving', 'experience', 'success', 'rate', 'candidates', 'companies', 'marketplace', ',', 'well', 'enabling', 'operational', 'teams', 'deliver', 'highly', 'human', 'service', 'effectively', 'efficiently', 'scale', '.', 'looking', 'Fullstack', 'JS', 'Engineer', 'join', 'Marketplace', 'Enablement', 'squad', 'part', 'larger', 'product', 'group', '.', 'product', 'squads', 'cross-functional', 'teams', 'talented', 'engineers', ',', 'product', 'managers', 'designers', 'working', 'together', 'design', 'deliver', 'impactful', 'quality', 'software', '.', 'We‚Äôre', 'big', 'developer', 'productivity', '(', 'hence', 'React', ',', 'GraphQL', ',', 'Ruby', 'Rails', ')', ',', 'continuous', 'improvement', '(', 'we‚Äôre', 'currently', 'Kent', 'C.', 'Dodds‚Äô', 'epicreact.dev', ')', 'delivering', 'value', 'customers', '(', 'check', 'feature', 'released', 'last', 'quarter', ':', 'https', ':', '//lnkd.in/gKYRruQ', ')', '.What', 'you‚Äôll', 'Design', ',', 'test', ',', 'ship', 'quality', 'front-end', 'back-end', '(', 'Ruby-on-Rails', '&', 'React', ')', 'code', 'every', 'week', 'build', 'impactful', 'new', 'features', 'internal', 'operational', 'teams', '.', 'Help', 'design', 'architect', 'backend', 'features', 'delivery', 'team', '.', 'Actively', 'sharing', 'knowledge', 'peers', 'upskilling', 'engineers', 'code', 'reviews', 'pair-programming', '.', 'Work', 'wide', 'range', 'systems', ',', 'stakeholders', ',', 'processes', 'technologies', 'solve', 'problems', 'design', 'delivery', '.', 'Uphold', 'improve', 'engineering', 'standards', 'processes', '.', 'Debug', 'production', 'issues', 'across', 'services', 'multiple', 'levels', 'stack', 'conversations', 'architectural', 'design', '&', 'contributing', 'technical', 'requirements', '.', 'needed', ',', 'producing', 'easy', 'understand', 'technical', 'documents', '.', 'Contribute', 'technical', 'product', 'roadmap', 'Actively', 'contribute', 'Planning', ',', 'Grooming', ',', 'Retros', '&', 'daily', 'standup', 'meetings', '.', 'Contribute', 'success', 'team', ',', 'extending', 'helping', 'hand', 'team', 'needed', '.', 'You‚Äôll', 'great', 'fit', 'role', ':', '5+', 'years', 'experience', 'software', 'development', 'Senior', 'Developer', 'least', '2', 'years', '.', 'experience', 'Cloud', 'Architectures', '(', 'preferably', 'AWS', 'Heroku', ')', '.', 'quick', 'learner', 'looking', 'delivery', 'maximum', 'value', 'autonomous', 'environment', 'whilst', 'remaining', 'accountable', 'delivery', 'experience', 'working', 'within', 'high', 'growth', 'tech', 'startup/scale', 'preferable', 'excellent', 'problem', 'solving', 'abilities', 'combine', 'product', 'design', ',', 'process', 'technical', 'aspects', 'ability', 'clearly', 'articulate', 'solutions', 'technical', 'non-technical', 'audience', 'room', 'closet', 'numerous', 'free', 't-shirts', ':', ')', \"'s\", 'like', 'work', 'hereWe', 'love', 'fun', 'stuff', 'together', '.', 'focused', 'building', 'connected', 'tribe', 'sense', 'belonging', '.', 'value', 'unique', 'diverse', 'approaches', 'ensure', 'create', 'opportunities', 'share', 'learn', '.', 'regular', 'online', 'in-person', 'team', 'events', ',', 'show', 'tell', 'book', 'club', 'well', 'regional', 'annual', 'off-site', 'events', '.', \"'re\", 'dedicated', 'authenticity', ':', 'treat', 'people', 'people', ',', 'caring', 'personally', 'speaking', 'openly', '.', 'foster', 'low-ego', 'behaviour', '-', 'mistakes', 'well', 'victories', '.', \"'re\", 'never', 'blame', '.', \"'re\", 'always', 'honesty', ',', 'learning', 'continuous', 'improvement', '.', 'ensure', 'lots', 'transparency', 'visibility', '.', 'OKRs', 'strategy', 'analytics', 'company', 'performance', 'numbers', ',', \"'s\", 'available', 'see', 'understand', '.', \"'re\", 'passionate', 'learning', 'levelling', ':', 'Everyone', 'OfferZen', 'strives', 'growth', 'mindset', 'annual', 'training', 'budget', 'use', 'upskill', '.', 'internal', 'book', 'clubs', 'include', 'free', 'books', ',', 'listen', 'podcasts', ',', 'share', 'expertise', 'obsessively', ',', 'take', 'hard', 'challenges', 'smart', 'guidance', 'support', '.', 'things', 'go', 'wrong', ',', 'look', 'learnings', 'improve', '.', \"'re\", 'balance', ':', 'believe', 'maintaining', 'healthy', 'balance', 'home', 'work', 'key', 'feeling', 'happier', 'productive', '.', 'work', 'fully', 'remote', ',', 'provide', 'annual', \"'unsick\", \"'\", 'day', 'use', 'leisure', 'also', 'offer', '24', 'days', 'leave', 'year', 'available', 'use', 'time', 'start', '.', 'OfferZen', 'Story', 'OfferZen', 'mission', 'improve', 'experience', 'finding', 'work', 'people', 'involved', 'making', 'software', ',', 'developers', 'designers', 'data', 'scientists', 'utilisation', 'world', 'class', 'online', 'recruitment', 'marketplace', '.', 'flipping', 'traditional', 'recruitment', 'model', 'head', 'getting', 'companies', 'reach', 'candidates', 'upfront', 'offers', '.', 'last', '6', 'years', ',', 'managed', 'make', 'large', 'dent', 'South', 'African', 'online', 'tech', 'recruitment', 'marketplace', '‚Äì', \"'re\", 'speeding', '.', 'team', '150+', 'people', 'offices', 'Cape', 'Town', 'Amsterdam', '.', '6', 'years', 'young', ',', \"'re\", 'still', 'exciting', 'scale-up', 'phase', 'allows', 'us', 'develop', 'new', 'exciting', 'ideas', ',', 'innovate', 'product', ',', 'think', 'creatively', 'solving', 'real', 'problems', '.', 'Empathy', 'Ca', \"n't\", 'Automated', ':', 'Solving', 'Complex', 'Problems', 'Tech', 'Marketplace', '.', 'article', 'gives', 'insight', 'world', 'tech', 'marketplace', 'advisors', '.', 'One', 'Tech', 'Talent', 'Advisors', ',', 'wrote', 'experience', 'working', 'OfferZen', 'blog', '.', 'role', 'excites', 'sounds', 'like', 'great', 'fit', ',', 'please', 'apply', '!', 'Job', 'Type', ':', 'Full-time']\n"
          ]
        },
        {
          "output_type": "stream",
          "name": "stderr",
          "text": [
            "[nltk_data] Downloading package punkt to /root/nltk_data...\n",
            "[nltk_data]   Package punkt is already up-to-date!\n"
          ]
        }
      ]
    },
    {
      "cell_type": "code",
      "source": [
        "\n",
        "for i in txt.split():\n",
        "  "
      ],
      "metadata": {
        "colab": {
          "base_uri": "https://localhost:8080/",
          "height": 130
        },
        "id": "uKWfDShYEefy",
        "outputId": "061a269d-3dd3-4727-b3fe-5ffe67c2a683"
      },
      "execution_count": 114,
      "outputs": [
        {
          "output_type": "error",
          "ename": "SyntaxError",
          "evalue": "ignored",
          "traceback": [
            "\u001b[0;36m  File \u001b[0;32m\"<ipython-input-114-00dacf8c8558>\"\u001b[0;36m, line \u001b[0;32m2\u001b[0m\n\u001b[0;31m    is 'years' in i\u001b[0m\n\u001b[0m     ^\u001b[0m\n\u001b[0;31mSyntaxError\u001b[0m\u001b[0;31m:\u001b[0m invalid syntax\n"
          ]
        }
      ]
    },
    {
      "cell_type": "code",
      "source": [
        "txt[1907:1923]"
      ],
      "metadata": {
        "colab": {
          "base_uri": "https://localhost:8080/",
          "height": 35
        },
        "id": "vbJP2JfpIVS_",
        "outputId": "1423e4e5-997f-435f-d82b-9714461daf9b"
      },
      "execution_count": 91,
      "outputs": [
        {
          "output_type": "execute_result",
          "data": {
            "text/plain": [
              "'years experience'"
            ],
            "application/vnd.google.colaboratory.intrinsic+json": {
              "type": "string"
            }
          },
          "metadata": {},
          "execution_count": 91
        }
      ]
    },
    {
      "cell_type": "code",
      "source": [
        ""
      ],
      "metadata": {
        "id": "Lv8xIV7GNgh3"
      },
      "execution_count": null,
      "outputs": []
    }
  ]
}
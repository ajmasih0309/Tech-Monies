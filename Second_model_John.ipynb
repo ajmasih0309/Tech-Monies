{
  "cells": [
    {
      "cell_type": "markdown",
      "metadata": {
        "id": "view-in-github",
        "colab_type": "text"
      },
      "source": [
        "<a href=\"https://colab.research.google.com/github/ajmasih0309/Tech-Monies/blob/Modelling/Second_model_John.ipynb\" target=\"_parent\"><img src=\"https://colab.research.google.com/assets/colab-badge.svg\" alt=\"Open In Colab\"/></a>"
      ]
    },
    {
      "cell_type": "code",
      "execution_count": null,
      "id": "f2a4ce07",
      "metadata": {
        "id": "f2a4ce07"
      },
      "outputs": [],
      "source": [
        "# Importing the required libraries\n",
        "import pandas as pd\n",
        "import numpy as np\n",
        "from sklearn.linear_model import LinearRegression\n",
        "from sklearn.model_selection import train_test_split\n",
        "from sklearn.preprocessing import StandardScaler\n",
        "from sklearn.metrics import r2_score, mean_squared_error\n",
        "import seaborn as sns\n",
        "import matplotlib.pyplot as plt\n",
        "import pickle"
      ]
    },
    {
      "cell_type": "code",
      "execution_count": null,
      "id": "32c122a1",
      "metadata": {
        "id": "32c122a1"
      },
      "outputs": [],
      "source": [
        "url = 'https://raw.githubusercontent.com/lifepopkay/Tech-Monies/Modelling/Mergered%20Cleaned%20Data.csv'\n",
        "#https://github.com/lifepopkay/Tech-Monies/blob/Modelling/Mergered%20Cleaned%20Data.csv\n",
        "df = pd.read_csv(url)"
      ]
    },
    {
      "cell_type": "code",
      "execution_count": null,
      "id": "877c79b8",
      "metadata": {
        "colab": {
          "base_uri": "https://localhost:8080/",
          "height": 277
        },
        "id": "877c79b8",
        "outputId": "c41720a6-8dbb-49d8-ba02-0770fd9cc331"
      },
      "outputs": [
        {
          "output_type": "execute_result",
          "data": {
            "text/plain": [
              "   Unnamed: 0                    id       company location     postDate  \\\n",
              "0           0  job_3e1d31dda6c5cb4b      Offerzen    Lagos  Just posted   \n",
              "1           1  job_c3e2ed6ba483528b  GVA Partners    Lagos        Today   \n",
              "\n",
              "  title scraped for  Country  upper_salary  lower_salary payment_frequency  \\\n",
              "0    Data Scientist  Nigeria           NaN           NaN               NaN   \n",
              "1    Data Scientist  Nigeria           NaN           NaN               NaN   \n",
              "\n",
              "   State  age      Position  year_of_exp contract_type    eligibility  \\\n",
              "0  Lagos  NaN  Senior Level          2.0     Full-time            NaN   \n",
              "1  Lagos  NaN           NaN          4.0           NaN  undergraduate   \n",
              "\n",
              "              title_cleaned                                        skills_list  \n",
              "0  Senior Software Engineer                      ['asp', 'D', 'C', 'R', 'AWS']  \n",
              "1            Data Scientist  ['asp', 'Prescriptive Analytics', 'Go', 'Flask...  "
            ],
            "text/html": [
              "\n",
              "  <div id=\"df-68a5b855-a8dc-4058-8d57-bc30cad9cfc8\">\n",
              "    <div class=\"colab-df-container\">\n",
              "      <div>\n",
              "<style scoped>\n",
              "    .dataframe tbody tr th:only-of-type {\n",
              "        vertical-align: middle;\n",
              "    }\n",
              "\n",
              "    .dataframe tbody tr th {\n",
              "        vertical-align: top;\n",
              "    }\n",
              "\n",
              "    .dataframe thead th {\n",
              "        text-align: right;\n",
              "    }\n",
              "</style>\n",
              "<table border=\"1\" class=\"dataframe\">\n",
              "  <thead>\n",
              "    <tr style=\"text-align: right;\">\n",
              "      <th></th>\n",
              "      <th>Unnamed: 0</th>\n",
              "      <th>id</th>\n",
              "      <th>company</th>\n",
              "      <th>location</th>\n",
              "      <th>postDate</th>\n",
              "      <th>title scraped for</th>\n",
              "      <th>Country</th>\n",
              "      <th>upper_salary</th>\n",
              "      <th>lower_salary</th>\n",
              "      <th>payment_frequency</th>\n",
              "      <th>State</th>\n",
              "      <th>age</th>\n",
              "      <th>Position</th>\n",
              "      <th>year_of_exp</th>\n",
              "      <th>contract_type</th>\n",
              "      <th>eligibility</th>\n",
              "      <th>title_cleaned</th>\n",
              "      <th>skills_list</th>\n",
              "    </tr>\n",
              "  </thead>\n",
              "  <tbody>\n",
              "    <tr>\n",
              "      <th>0</th>\n",
              "      <td>0</td>\n",
              "      <td>job_3e1d31dda6c5cb4b</td>\n",
              "      <td>Offerzen</td>\n",
              "      <td>Lagos</td>\n",
              "      <td>Just posted</td>\n",
              "      <td>Data Scientist</td>\n",
              "      <td>Nigeria</td>\n",
              "      <td>NaN</td>\n",
              "      <td>NaN</td>\n",
              "      <td>NaN</td>\n",
              "      <td>Lagos</td>\n",
              "      <td>NaN</td>\n",
              "      <td>Senior Level</td>\n",
              "      <td>2.0</td>\n",
              "      <td>Full-time</td>\n",
              "      <td>NaN</td>\n",
              "      <td>Senior Software Engineer</td>\n",
              "      <td>['asp', 'D', 'C', 'R', 'AWS']</td>\n",
              "    </tr>\n",
              "    <tr>\n",
              "      <th>1</th>\n",
              "      <td>1</td>\n",
              "      <td>job_c3e2ed6ba483528b</td>\n",
              "      <td>GVA Partners</td>\n",
              "      <td>Lagos</td>\n",
              "      <td>Today</td>\n",
              "      <td>Data Scientist</td>\n",
              "      <td>Nigeria</td>\n",
              "      <td>NaN</td>\n",
              "      <td>NaN</td>\n",
              "      <td>NaN</td>\n",
              "      <td>Lagos</td>\n",
              "      <td>NaN</td>\n",
              "      <td>NaN</td>\n",
              "      <td>4.0</td>\n",
              "      <td>NaN</td>\n",
              "      <td>undergraduate</td>\n",
              "      <td>Data Scientist</td>\n",
              "      <td>['asp', 'Prescriptive Analytics', 'Go', 'Flask...</td>\n",
              "    </tr>\n",
              "  </tbody>\n",
              "</table>\n",
              "</div>\n",
              "      <button class=\"colab-df-convert\" onclick=\"convertToInteractive('df-68a5b855-a8dc-4058-8d57-bc30cad9cfc8')\"\n",
              "              title=\"Convert this dataframe to an interactive table.\"\n",
              "              style=\"display:none;\">\n",
              "        \n",
              "  <svg xmlns=\"http://www.w3.org/2000/svg\" height=\"24px\"viewBox=\"0 0 24 24\"\n",
              "       width=\"24px\">\n",
              "    <path d=\"M0 0h24v24H0V0z\" fill=\"none\"/>\n",
              "    <path d=\"M18.56 5.44l.94 2.06.94-2.06 2.06-.94-2.06-.94-.94-2.06-.94 2.06-2.06.94zm-11 1L8.5 8.5l.94-2.06 2.06-.94-2.06-.94L8.5 2.5l-.94 2.06-2.06.94zm10 10l.94 2.06.94-2.06 2.06-.94-2.06-.94-.94-2.06-.94 2.06-2.06.94z\"/><path d=\"M17.41 7.96l-1.37-1.37c-.4-.4-.92-.59-1.43-.59-.52 0-1.04.2-1.43.59L10.3 9.45l-7.72 7.72c-.78.78-.78 2.05 0 2.83L4 21.41c.39.39.9.59 1.41.59.51 0 1.02-.2 1.41-.59l7.78-7.78 2.81-2.81c.8-.78.8-2.07 0-2.86zM5.41 20L4 18.59l7.72-7.72 1.47 1.35L5.41 20z\"/>\n",
              "  </svg>\n",
              "      </button>\n",
              "      \n",
              "  <style>\n",
              "    .colab-df-container {\n",
              "      display:flex;\n",
              "      flex-wrap:wrap;\n",
              "      gap: 12px;\n",
              "    }\n",
              "\n",
              "    .colab-df-convert {\n",
              "      background-color: #E8F0FE;\n",
              "      border: none;\n",
              "      border-radius: 50%;\n",
              "      cursor: pointer;\n",
              "      display: none;\n",
              "      fill: #1967D2;\n",
              "      height: 32px;\n",
              "      padding: 0 0 0 0;\n",
              "      width: 32px;\n",
              "    }\n",
              "\n",
              "    .colab-df-convert:hover {\n",
              "      background-color: #E2EBFA;\n",
              "      box-shadow: 0px 1px 2px rgba(60, 64, 67, 0.3), 0px 1px 3px 1px rgba(60, 64, 67, 0.15);\n",
              "      fill: #174EA6;\n",
              "    }\n",
              "\n",
              "    [theme=dark] .colab-df-convert {\n",
              "      background-color: #3B4455;\n",
              "      fill: #D2E3FC;\n",
              "    }\n",
              "\n",
              "    [theme=dark] .colab-df-convert:hover {\n",
              "      background-color: #434B5C;\n",
              "      box-shadow: 0px 1px 3px 1px rgba(0, 0, 0, 0.15);\n",
              "      filter: drop-shadow(0px 1px 2px rgba(0, 0, 0, 0.3));\n",
              "      fill: #FFFFFF;\n",
              "    }\n",
              "  </style>\n",
              "\n",
              "      <script>\n",
              "        const buttonEl =\n",
              "          document.querySelector('#df-68a5b855-a8dc-4058-8d57-bc30cad9cfc8 button.colab-df-convert');\n",
              "        buttonEl.style.display =\n",
              "          google.colab.kernel.accessAllowed ? 'block' : 'none';\n",
              "\n",
              "        async function convertToInteractive(key) {\n",
              "          const element = document.querySelector('#df-68a5b855-a8dc-4058-8d57-bc30cad9cfc8');\n",
              "          const dataTable =\n",
              "            await google.colab.kernel.invokeFunction('convertToInteractive',\n",
              "                                                     [key], {});\n",
              "          if (!dataTable) return;\n",
              "\n",
              "          const docLinkHtml = 'Like what you see? Visit the ' +\n",
              "            '<a target=\"_blank\" href=https://colab.research.google.com/notebooks/data_table.ipynb>data table notebook</a>'\n",
              "            + ' to learn more about interactive tables.';\n",
              "          element.innerHTML = '';\n",
              "          dataTable['output_type'] = 'display_data';\n",
              "          await google.colab.output.renderOutput(dataTable, element);\n",
              "          const docLink = document.createElement('div');\n",
              "          docLink.innerHTML = docLinkHtml;\n",
              "          element.appendChild(docLink);\n",
              "        }\n",
              "      </script>\n",
              "    </div>\n",
              "  </div>\n",
              "  "
            ]
          },
          "metadata": {},
          "execution_count": 3
        }
      ],
      "source": [
        "df.head(2)"
      ]
    },
    {
      "cell_type": "code",
      "execution_count": null,
      "id": "5554adff",
      "metadata": {
        "id": "5554adff"
      },
      "outputs": [],
      "source": [
        "# Standardizing the title \n",
        "ML=['Machine Learning', 'Machine Learning ']\n",
        "for title in ML:\n",
        "    df['title scraped for'].replace(title,'Machine Learning Engineer', inplace = True)"
      ]
    },
    {
      "cell_type": "code",
      "execution_count": null,
      "id": "b15d405e",
      "metadata": {
        "id": "b15d405e"
      },
      "outputs": [],
      "source": [
        "# Dropping records with missing values for lower salary range\n",
        "df.dropna(subset=[\"lower_salary\"], inplace = True)"
      ]
    },
    {
      "cell_type": "code",
      "execution_count": null,
      "id": "9e516b9e",
      "metadata": {
        "id": "9e516b9e"
      },
      "outputs": [],
      "source": [
        "# Columns to drop\n",
        "columns_to_drop = [\"company\", \"location\", \"State\", \"age\", \"Unnamed: 0\", \"id\",\"postDate\"]"
      ]
    },
    {
      "cell_type": "code",
      "execution_count": null,
      "id": "9ab014b4",
      "metadata": {
        "id": "9ab014b4"
      },
      "outputs": [],
      "source": [
        "# Drop unnecessary columns\n",
        "df.drop(columns_to_drop, axis=\"columns\", inplace = True)"
      ]
    },
    {
      "cell_type": "code",
      "execution_count": null,
      "id": "06b3e5f3",
      "metadata": {
        "id": "06b3e5f3"
      },
      "outputs": [],
      "source": [
        "# Selecting Job posting with years of experience less than 20 which is the 95th percentile of the Years of experience\n",
        "df = df.query(\"year_of_exp <= 30 \")"
      ]
    },
    {
      "cell_type": "raw",
      "id": "1e1c4502",
      "metadata": {
        "id": "1e1c4502"
      },
      "source": [
        "# Defining a function the determines the Position based on the Years of Experience\n",
        "def position_based_on_yoe(df_YOE):\n",
        "    if df_YOE < 4:\n",
        "        return \"Entry Level\"\n",
        "    elif df_YOE > 4 and df_YOE < 7:\n",
        "        return \"Mid-Level\"\n",
        "    else:\n",
        "        return \"Senior Level\"\n",
        "        "
      ]
    },
    {
      "cell_type": "code",
      "execution_count": null,
      "id": "43d5bd81",
      "metadata": {
        "id": "43d5bd81"
      },
      "outputs": [],
      "source": [
        "# Replace \"hs\" with \"high school diploma\" in eligibility\n",
        "df.eligibility.replace(\"hs\",'high school diploma', inplace = True)\n",
        "\n",
        "# Fill missing values for eligibility with \"high school diploma\"\n",
        "df.eligibility.fillna('high school diploma', inplace = True)"
      ]
    },
    {
      "cell_type": "code",
      "execution_count": null,
      "id": "abb91b42",
      "metadata": {
        "id": "abb91b42"
      },
      "outputs": [],
      "source": [
        "# Fill missing values for contract_type with the mode of contract_type\n",
        "df.contract_type.fillna(df.contract_type.mode()[0], inplace = True)"
      ]
    },
    {
      "cell_type": "code",
      "execution_count": null,
      "id": "21dd96de",
      "metadata": {
        "id": "21dd96de"
      },
      "outputs": [],
      "source": [
        "# Creating an exchange rate for each country currency with respect to UD dollars\n",
        "Exchange_rate = {\"Nigeria\": 427.88,\n",
        "\"India\": 79.97,\n",
        "\"USA\": 1,\n",
        "\"UK\": 1.17}\n",
        "df[\"Exchange_rate\"] = df.Country.map(Exchange_rate)\n",
        "\n",
        "# Converting the salary currency for each Job to US dollars\n",
        "df.upper_salary = df.upper_salary / df.Exchange_rate\n",
        "df.lower_salary = df.lower_salary / df.Exchange_rate\n",
        "\n",
        "df.drop('Exchange_rate', axis= \"columns\", inplace = True)"
      ]
    },
    {
      "cell_type": "markdown",
      "id": "a4979c6b",
      "metadata": {
        "id": "a4979c6b"
      },
      "source": [
        "On exploring the salary for missing Payment frequency, it was discovered that the salary far exceeds the salary for hourly payment frequency and is far below the salary for minthly payment frequency. \n",
        "\n",
        "So the the missing values for payment frequency will be filled with \"Weekly\""
      ]
    },
    {
      "cell_type": "code",
      "execution_count": null,
      "id": "df5ea3aa",
      "metadata": {
        "id": "df5ea3aa"
      },
      "outputs": [],
      "source": [
        "# Filling the missing values for payment frequency with \"Weekly\"\n",
        "df.payment_frequency.fillna(\"Weekly\", inplace = True)"
      ]
    },
    {
      "cell_type": "code",
      "execution_count": null,
      "id": "DV__NB-w3OT5",
      "metadata": {
        "id": "DV__NB-w3OT5"
      },
      "outputs": [],
      "source": [
        "# Defining a function that cleans the skills column\n",
        "def convert_skill_list_to_list(skills):\n",
        "    skills = skills.replace(\"[\", \"\")\n",
        "    skills = skills.replace(\"]\",\"\")\n",
        "    skills = skills.replace(\"'\", \"\")\n",
        "    Skills_list = skills.split(\",\")\n",
        "    Skills_lists = []\n",
        "    for skill in Skills_list:\n",
        "        skill = skill.strip()\n",
        "        Skills_lists.append(skill)\n",
        "    return Skills_lists"
      ]
    },
    {
      "cell_type": "code",
      "execution_count": null,
      "id": "ba9f8eb9",
      "metadata": {
        "id": "ba9f8eb9"
      },
      "outputs": [],
      "source": [
        "#convert_skill_list_to_list(df.skills_list)"
      ]
    },
    {
      "cell_type": "raw",
      "id": "e3626221",
      "metadata": {
        "id": "e3626221"
      },
      "source": [
        "for dsa in df.skills_list:\n",
        "    asdf = [\"[\",\"]\", '\"','\"']\n",
        "    for ad in asdf:\n",
        "        skills =dsa.replace(ad, \"\")\n",
        "        #skills = skills.replace(\"]\",\"\")\n",
        "        Skills_list = skills.split(\",\")\n",
        "        print(Skills_list)"
      ]
    },
    {
      "cell_type": "code",
      "execution_count": null,
      "id": "rU7xp2103Oi3",
      "metadata": {
        "id": "rU7xp2103Oi3"
      },
      "outputs": [],
      "source": [
        "df.skills_list = df.skills_list.apply(convert_skill_list_to_list)"
      ]
    },
    {
      "cell_type": "code",
      "execution_count": null,
      "id": "Y0eakF9z0HHF",
      "metadata": {
        "id": "Y0eakF9z0HHF"
      },
      "outputs": [],
      "source": [
        "# Defining a function that counts the numbe rof job posting that require a particular skill\n",
        "def Skills_table(df):\n",
        "    list_skill = {}\n",
        "    for Skill_list in df.skills_list:\n",
        "        for Skill in Skill_list:\n",
        "            if Skill in list_skill:\n",
        "                list_skill[Skill] += 1\n",
        "            else:\n",
        "                list_skill[Skill] = 1\n",
        "    skill_df = pd.DataFrame(list_skill, index = [\"Number of jobs\"]).T.sort_values(\"Number of jobs\", ascending = False)\n",
        "    return skill_df"
      ]
    },
    {
      "cell_type": "code",
      "execution_count": null,
      "id": "2b77b4a7",
      "metadata": {
        "id": "2b77b4a7"
      },
      "outputs": [],
      "source": [
        "# Selecting the Job postings for data analyst roles\n",
        "DA_df = df[df[\"title scraped for\"] == \"Data Analyst\"]\n",
        "\n",
        "# Selecting the Job postings for data scientist roles\n",
        "DS_df = df[df[\"title scraped for\"] == \"Data Scientist\"]\n",
        "\n",
        "# Selecting the Job postings for business analyst roles\n",
        "BA_df = df[df[\"title scraped for\"] == \"Business Analyst\"]\n",
        "\n",
        "# Selecting the Job postings for machine learning engineering roles\n",
        "ML_df = df[df[\"title scraped for\"] == \"Machine Learning Engineer\"]\n",
        "\n",
        "# Selecting the Job postings for web developer roles\n",
        "WD_df = df[df[\"title scraped for\"] == \"Web Developer\"]"
      ]
    },
    {
      "cell_type": "code",
      "execution_count": null,
      "id": "f5050211",
      "metadata": {
        "id": "f5050211"
      },
      "outputs": [],
      "source": [
        "# Selecting the Skills required for Data analyst roles\n",
        "DASkills_df = Skills_table(DA_df)\n",
        "\n",
        "# Saving the top 10 skills for Data Analyst to a list\n",
        "DAT10_skills = list(DASkills_df.head(10).index)"
      ]
    },
    {
      "cell_type": "code",
      "execution_count": null,
      "id": "f6cd3a48",
      "metadata": {
        "id": "f6cd3a48"
      },
      "outputs": [],
      "source": [
        "# Selecting the Skills required for Data scientist roles\n",
        "DSSkills_df = Skills_table(DS_df)\n",
        "\n",
        "# Saving the top 10 skills for Data Scientist to a list\n",
        "DST10_skills = list(DSSkills_df.head(10).index)"
      ]
    },
    {
      "cell_type": "code",
      "execution_count": null,
      "id": "491efe49",
      "metadata": {
        "id": "491efe49"
      },
      "outputs": [],
      "source": [
        "# Selecting the Skills required for Business analyst roles\n",
        "BASkills_df = Skills_table(BA_df)\n",
        "\n",
        "# Saving the top 10 skills for Business Analyst to a list\n",
        "BAT10_skills = list(BASkills_df.head(10).index)"
      ]
    },
    {
      "cell_type": "code",
      "execution_count": null,
      "id": "1fab0137",
      "metadata": {
        "id": "1fab0137"
      },
      "outputs": [],
      "source": [
        "# Selecting the Skills required for Machine learning roles\n",
        "MLSkills_df = Skills_table(ML_df)\n",
        "\n",
        "# Saving the top 10 skills for Machine learning to a list\n",
        "MLT10_skills = list(MLSkills_df.head(10).index)"
      ]
    },
    {
      "cell_type": "code",
      "execution_count": null,
      "id": "fEAjAX6L1MsZ",
      "metadata": {
        "id": "fEAjAX6L1MsZ"
      },
      "outputs": [],
      "source": [
        "# Selecting the Skills required for Web developer roles\n",
        "WDSkills_df = Skills_table(WD_df)\n",
        "\n",
        "# Saving the top 10 skills for Web developer to a list\n",
        "WDT10_skills = list(WDSkills_df.head(10).index)"
      ]
    },
    {
      "cell_type": "code",
      "execution_count": null,
      "id": "0G_hQ5Pr5Umw",
      "metadata": {
        "colab": {
          "base_uri": "https://localhost:8080/"
        },
        "id": "0G_hQ5Pr5Umw",
        "outputId": "4672172a-fbcf-4044-996b-e7d791e5725d"
      },
      "outputs": [
        {
          "output_type": "execute_result",
          "data": {
            "text/plain": [
              "19"
            ]
          },
          "metadata": {},
          "execution_count": 23
        }
      ],
      "source": [
        "# Merging the top 10 skills for each role into a set\n",
        "Most_popular_skills = set(DAT10_skills + DST10_skills + BAT10_skills + MLT10_skills + WDT10_skills)\n",
        "\n",
        "len(list(Most_popular_skills))"
      ]
    },
    {
      "cell_type": "code",
      "execution_count": null,
      "id": "s6W5l7OX5od-",
      "metadata": {
        "id": "s6W5l7OX5od-"
      },
      "outputs": [],
      "source": [
        "# Dropping missing values for title scraped for\n",
        "df.dropna(subset = [\"title scraped for\"], inplace = True)"
      ]
    },
    {
      "cell_type": "code",
      "execution_count": null,
      "id": "4ab05419",
      "metadata": {
        "id": "4ab05419",
        "outputId": "0359ae5b-e349-4ceb-e15d-30b409b73211",
        "colab": {
          "base_uri": "https://localhost:8080/",
          "height": 514
        }
      },
      "outputs": [
        {
          "output_type": "execute_result",
          "data": {
            "text/plain": [
              "                                        year_of_exp\n",
              "title scraped for         Position                 \n",
              "Business Analyst          Mid-Level        3.000000\n",
              "                          Senior Level     4.057143\n",
              "Data Analyst              Entry Level      1.000000\n",
              "                          Mid-Level        3.428571\n",
              "                          Senior Level     3.947368\n",
              "Data Scientist            Entry Level      1.000000\n",
              "                          Mid-Level        2.750000\n",
              "                          Senior Level     4.029703\n",
              "Machine Learning Engineer Entry Level      3.500000\n",
              "                          Mid-Level        2.538462\n",
              "                          Senior Level     4.389474\n",
              "Web Developer             Entry Level      5.000000\n",
              "                          Mid-Level        2.833333\n",
              "                          Senior Level     3.590278"
            ],
            "text/html": [
              "\n",
              "  <div id=\"df-59ad4eea-fde3-4eb0-bc7a-effb61184faa\">\n",
              "    <div class=\"colab-df-container\">\n",
              "      <div>\n",
              "<style scoped>\n",
              "    .dataframe tbody tr th:only-of-type {\n",
              "        vertical-align: middle;\n",
              "    }\n",
              "\n",
              "    .dataframe tbody tr th {\n",
              "        vertical-align: top;\n",
              "    }\n",
              "\n",
              "    .dataframe thead th {\n",
              "        text-align: right;\n",
              "    }\n",
              "</style>\n",
              "<table border=\"1\" class=\"dataframe\">\n",
              "  <thead>\n",
              "    <tr style=\"text-align: right;\">\n",
              "      <th></th>\n",
              "      <th></th>\n",
              "      <th>year_of_exp</th>\n",
              "    </tr>\n",
              "    <tr>\n",
              "      <th>title scraped for</th>\n",
              "      <th>Position</th>\n",
              "      <th></th>\n",
              "    </tr>\n",
              "  </thead>\n",
              "  <tbody>\n",
              "    <tr>\n",
              "      <th rowspan=\"2\" valign=\"top\">Business Analyst</th>\n",
              "      <th>Mid-Level</th>\n",
              "      <td>3.000000</td>\n",
              "    </tr>\n",
              "    <tr>\n",
              "      <th>Senior Level</th>\n",
              "      <td>4.057143</td>\n",
              "    </tr>\n",
              "    <tr>\n",
              "      <th rowspan=\"3\" valign=\"top\">Data Analyst</th>\n",
              "      <th>Entry Level</th>\n",
              "      <td>1.000000</td>\n",
              "    </tr>\n",
              "    <tr>\n",
              "      <th>Mid-Level</th>\n",
              "      <td>3.428571</td>\n",
              "    </tr>\n",
              "    <tr>\n",
              "      <th>Senior Level</th>\n",
              "      <td>3.947368</td>\n",
              "    </tr>\n",
              "    <tr>\n",
              "      <th rowspan=\"3\" valign=\"top\">Data Scientist</th>\n",
              "      <th>Entry Level</th>\n",
              "      <td>1.000000</td>\n",
              "    </tr>\n",
              "    <tr>\n",
              "      <th>Mid-Level</th>\n",
              "      <td>2.750000</td>\n",
              "    </tr>\n",
              "    <tr>\n",
              "      <th>Senior Level</th>\n",
              "      <td>4.029703</td>\n",
              "    </tr>\n",
              "    <tr>\n",
              "      <th rowspan=\"3\" valign=\"top\">Machine Learning Engineer</th>\n",
              "      <th>Entry Level</th>\n",
              "      <td>3.500000</td>\n",
              "    </tr>\n",
              "    <tr>\n",
              "      <th>Mid-Level</th>\n",
              "      <td>2.538462</td>\n",
              "    </tr>\n",
              "    <tr>\n",
              "      <th>Senior Level</th>\n",
              "      <td>4.389474</td>\n",
              "    </tr>\n",
              "    <tr>\n",
              "      <th rowspan=\"3\" valign=\"top\">Web Developer</th>\n",
              "      <th>Entry Level</th>\n",
              "      <td>5.000000</td>\n",
              "    </tr>\n",
              "    <tr>\n",
              "      <th>Mid-Level</th>\n",
              "      <td>2.833333</td>\n",
              "    </tr>\n",
              "    <tr>\n",
              "      <th>Senior Level</th>\n",
              "      <td>3.590278</td>\n",
              "    </tr>\n",
              "  </tbody>\n",
              "</table>\n",
              "</div>\n",
              "      <button class=\"colab-df-convert\" onclick=\"convertToInteractive('df-59ad4eea-fde3-4eb0-bc7a-effb61184faa')\"\n",
              "              title=\"Convert this dataframe to an interactive table.\"\n",
              "              style=\"display:none;\">\n",
              "        \n",
              "  <svg xmlns=\"http://www.w3.org/2000/svg\" height=\"24px\"viewBox=\"0 0 24 24\"\n",
              "       width=\"24px\">\n",
              "    <path d=\"M0 0h24v24H0V0z\" fill=\"none\"/>\n",
              "    <path d=\"M18.56 5.44l.94 2.06.94-2.06 2.06-.94-2.06-.94-.94-2.06-.94 2.06-2.06.94zm-11 1L8.5 8.5l.94-2.06 2.06-.94-2.06-.94L8.5 2.5l-.94 2.06-2.06.94zm10 10l.94 2.06.94-2.06 2.06-.94-2.06-.94-.94-2.06-.94 2.06-2.06.94z\"/><path d=\"M17.41 7.96l-1.37-1.37c-.4-.4-.92-.59-1.43-.59-.52 0-1.04.2-1.43.59L10.3 9.45l-7.72 7.72c-.78.78-.78 2.05 0 2.83L4 21.41c.39.39.9.59 1.41.59.51 0 1.02-.2 1.41-.59l7.78-7.78 2.81-2.81c.8-.78.8-2.07 0-2.86zM5.41 20L4 18.59l7.72-7.72 1.47 1.35L5.41 20z\"/>\n",
              "  </svg>\n",
              "      </button>\n",
              "      \n",
              "  <style>\n",
              "    .colab-df-container {\n",
              "      display:flex;\n",
              "      flex-wrap:wrap;\n",
              "      gap: 12px;\n",
              "    }\n",
              "\n",
              "    .colab-df-convert {\n",
              "      background-color: #E8F0FE;\n",
              "      border: none;\n",
              "      border-radius: 50%;\n",
              "      cursor: pointer;\n",
              "      display: none;\n",
              "      fill: #1967D2;\n",
              "      height: 32px;\n",
              "      padding: 0 0 0 0;\n",
              "      width: 32px;\n",
              "    }\n",
              "\n",
              "    .colab-df-convert:hover {\n",
              "      background-color: #E2EBFA;\n",
              "      box-shadow: 0px 1px 2px rgba(60, 64, 67, 0.3), 0px 1px 3px 1px rgba(60, 64, 67, 0.15);\n",
              "      fill: #174EA6;\n",
              "    }\n",
              "\n",
              "    [theme=dark] .colab-df-convert {\n",
              "      background-color: #3B4455;\n",
              "      fill: #D2E3FC;\n",
              "    }\n",
              "\n",
              "    [theme=dark] .colab-df-convert:hover {\n",
              "      background-color: #434B5C;\n",
              "      box-shadow: 0px 1px 3px 1px rgba(0, 0, 0, 0.15);\n",
              "      filter: drop-shadow(0px 1px 2px rgba(0, 0, 0, 0.3));\n",
              "      fill: #FFFFFF;\n",
              "    }\n",
              "  </style>\n",
              "\n",
              "      <script>\n",
              "        const buttonEl =\n",
              "          document.querySelector('#df-59ad4eea-fde3-4eb0-bc7a-effb61184faa button.colab-df-convert');\n",
              "        buttonEl.style.display =\n",
              "          google.colab.kernel.accessAllowed ? 'block' : 'none';\n",
              "\n",
              "        async function convertToInteractive(key) {\n",
              "          const element = document.querySelector('#df-59ad4eea-fde3-4eb0-bc7a-effb61184faa');\n",
              "          const dataTable =\n",
              "            await google.colab.kernel.invokeFunction('convertToInteractive',\n",
              "                                                     [key], {});\n",
              "          if (!dataTable) return;\n",
              "\n",
              "          const docLinkHtml = 'Like what you see? Visit the ' +\n",
              "            '<a target=\"_blank\" href=https://colab.research.google.com/notebooks/data_table.ipynb>data table notebook</a>'\n",
              "            + ' to learn more about interactive tables.';\n",
              "          element.innerHTML = '';\n",
              "          dataTable['output_type'] = 'display_data';\n",
              "          await google.colab.output.renderOutput(dataTable, element);\n",
              "          const docLink = document.createElement('div');\n",
              "          docLink.innerHTML = docLinkHtml;\n",
              "          element.appendChild(docLink);\n",
              "        }\n",
              "      </script>\n",
              "    </div>\n",
              "  </div>\n",
              "  "
            ]
          },
          "metadata": {},
          "execution_count": 25
        }
      ],
      "source": [
        "# Determining the average years of experience for each role and position\n",
        "df.groupby([\"title scraped for\",\"Position\"])[[\"year_of_exp\"]].agg(np.mean)"
      ]
    },
    {
      "cell_type": "code",
      "execution_count": null,
      "id": "74c535eb",
      "metadata": {
        "id": "74c535eb"
      },
      "outputs": [],
      "source": [
        "# Defining a function that determines the Position based on years of expereience\n",
        "def Position_based_on_yoe(data):\n",
        "    data.reset_index(drop=True, inplace = True)\n",
        "    for i in range(data.shape[0]):\n",
        "        if data.loc[i,\"title scraped for\"] == 'Business Analyst':\n",
        "            if  data.loc[i,\"year_of_exp\"] >= 3 and data.loc[i,\"year_of_exp\"] <= 5:\n",
        "                    data.loc[i,\"Position\"] = \"Mid-Level\"\n",
        "            elif data.loc[i,\"year_of_exp\"] > 5:\n",
        "                    data.loc[i,\"Position\"] = \"Senior Level\"\n",
        "            else:\n",
        "                data.loc[i,\"Position\"] = \"Entry Level\"\n",
        "                \n",
        "        elif data.loc[i,\"title scraped for\"] == 'Data Analyst':\n",
        "            if  data.loc[i,\"year_of_exp\"] >= 3 and data.loc[i,\"year_of_exp\"] <= 5:\n",
        "                    data.loc[i,\"Position\"] = \"Mid-Level\"\n",
        "            elif data.loc[i,\"year_of_exp\"] > 5:\n",
        "                    data.loc[i,\"Position\"] = \"Senior Level\"\n",
        "            else:\n",
        "                data.loc[i,\"Position\"] = \"Entry Level\"\n",
        "                \n",
        "        elif data.loc[i,\"title scraped for\"]== 'Data Scientist':\n",
        "            if  data.loc[i,\"year_of_exp\"] >= 2 and data.loc[i,\"year_of_exp\"] <= 4:\n",
        "                    data.loc[i,\"Position\"] = \"Mid-Level\"\n",
        "            elif data.loc[i,\"year_of_exp\"] > 4:\n",
        "                    data.loc[i,\"Position\"] = \"Senior Level\"\n",
        "            else:\n",
        "                data.loc[i,\"Position\"] = \"Entry Level\"\n",
        "                \n",
        "        elif data.loc[i,\"title scraped for\"] == 'Machine Learning Engineer':\n",
        "            if  data.loc[i,\"year_of_exp\"] >= 3 and data.loc[i,\"year_of_exp\"] <= 5:\n",
        "                    data.loc[i,\"Position\"] = \"Mid-Level\"\n",
        "            elif data.loc[i,\"year_of_exp\"] > 5:\n",
        "                    data.loc[i,\"Position\"] = \"Senior Level\"\n",
        "            else:\n",
        "                data.loc[i,\"Position\"] = \"Entry Level\"\n",
        "                \n",
        "        elif data.loc[i,\"title scraped for\"] == 'Web Developer':\n",
        "            if  data.loc[i,\"year_of_exp\"] >= 2 and data.loc[i,\"year_of_exp\"] <= 4:\n",
        "                    data.loc[i,\"Position\"] = \"Mid-Level\"\n",
        "            elif data.loc[i,\"year_of_exp\"] > 4:\n",
        "                    data.loc[i,\"Position\"] = \"Senior Level\"\n",
        "            else:\n",
        "                data.loc[i,\"Position\"] = \"Entry Level\"\n",
        "                \n",
        "    return data"
      ]
    },
    {
      "cell_type": "code",
      "execution_count": null,
      "id": "67836e49",
      "metadata": {
        "id": "67836e49"
      },
      "outputs": [],
      "source": [
        "data = df.copy()\n",
        "df = Position_based_on_yoe(data)"
      ]
    },
    {
      "cell_type": "code",
      "execution_count": null,
      "id": "37075d1d",
      "metadata": {
        "id": "37075d1d",
        "outputId": "9c47f7d6-c703-471c-a479-6bd4c83e3989",
        "colab": {
          "base_uri": "https://localhost:8080/",
          "height": 1000
        }
      },
      "outputs": [
        {
          "output_type": "execute_result",
          "data": {
            "text/plain": [
              "                                                Position\n",
              "Country title scraped for         Position              \n",
              "India   Business Analyst          Entry Level         41\n",
              "                                  Mid-Level           19\n",
              "                                  Senior Level         8\n",
              "        Data Analyst              Entry Level         37\n",
              "                                  Mid-Level           18\n",
              "                                  Senior Level         2\n",
              "        Data Scientist            Entry Level         46\n",
              "                                  Mid-Level           38\n",
              "                                  Senior Level        17\n",
              "        Machine Learning Engineer Entry Level         65\n",
              "                                  Mid-Level           47\n",
              "                                  Senior Level        12\n",
              "        Web Developer             Entry Level        217\n",
              "                                  Mid-Level          142\n",
              "                                  Senior Level        23\n",
              "Nigeria Business Analyst          Entry Level          2\n",
              "                                  Mid-Level           11\n",
              "                                  Senior Level         1\n",
              "        Data Analyst              Entry Level          1\n",
              "                                  Mid-Level           13\n",
              "                                  Senior Level         1\n",
              "        Data Scientist            Mid-Level            1\n",
              "                                  Senior Level         2\n",
              "        Machine Learning Engineer Entry Level          1\n",
              "                                  Mid-Level            2\n",
              "        Web Developer             Entry Level          6\n",
              "                                  Mid-Level           13\n",
              "                                  Senior Level         6\n",
              "UK      Data Scientist            Entry Level         16\n",
              "                                  Mid-Level           65\n",
              "                                  Senior Level        36\n",
              "        Web Developer             Entry Level         26\n",
              "                                  Mid-Level           99\n",
              "                                  Senior Level        42\n",
              "USA     Business Analyst          Entry Level         35\n",
              "                                  Mid-Level           63\n",
              "                                  Senior Level        19\n",
              "        Data Analyst              Entry Level         54\n",
              "                                  Mid-Level           71\n",
              "                                  Senior Level        10\n",
              "        Data Scientist            Entry Level         23\n",
              "                                  Mid-Level           73\n",
              "                                  Senior Level        49\n",
              "        Machine Learning Engineer Entry Level         77\n",
              "                                  Mid-Level          134\n",
              "                                  Senior Level        56\n",
              "        Web Developer             Entry Level         24\n",
              "                                  Mid-Level           75\n",
              "                                  Senior Level        63"
            ],
            "text/html": [
              "\n",
              "  <div id=\"df-7bf4fd90-efd5-47eb-9d7c-4a28b6372c34\">\n",
              "    <div class=\"colab-df-container\">\n",
              "      <div>\n",
              "<style scoped>\n",
              "    .dataframe tbody tr th:only-of-type {\n",
              "        vertical-align: middle;\n",
              "    }\n",
              "\n",
              "    .dataframe tbody tr th {\n",
              "        vertical-align: top;\n",
              "    }\n",
              "\n",
              "    .dataframe thead th {\n",
              "        text-align: right;\n",
              "    }\n",
              "</style>\n",
              "<table border=\"1\" class=\"dataframe\">\n",
              "  <thead>\n",
              "    <tr style=\"text-align: right;\">\n",
              "      <th></th>\n",
              "      <th></th>\n",
              "      <th></th>\n",
              "      <th>Position</th>\n",
              "    </tr>\n",
              "    <tr>\n",
              "      <th>Country</th>\n",
              "      <th>title scraped for</th>\n",
              "      <th>Position</th>\n",
              "      <th></th>\n",
              "    </tr>\n",
              "  </thead>\n",
              "  <tbody>\n",
              "    <tr>\n",
              "      <th rowspan=\"15\" valign=\"top\">India</th>\n",
              "      <th rowspan=\"3\" valign=\"top\">Business Analyst</th>\n",
              "      <th>Entry Level</th>\n",
              "      <td>41</td>\n",
              "    </tr>\n",
              "    <tr>\n",
              "      <th>Mid-Level</th>\n",
              "      <td>19</td>\n",
              "    </tr>\n",
              "    <tr>\n",
              "      <th>Senior Level</th>\n",
              "      <td>8</td>\n",
              "    </tr>\n",
              "    <tr>\n",
              "      <th rowspan=\"3\" valign=\"top\">Data Analyst</th>\n",
              "      <th>Entry Level</th>\n",
              "      <td>37</td>\n",
              "    </tr>\n",
              "    <tr>\n",
              "      <th>Mid-Level</th>\n",
              "      <td>18</td>\n",
              "    </tr>\n",
              "    <tr>\n",
              "      <th>Senior Level</th>\n",
              "      <td>2</td>\n",
              "    </tr>\n",
              "    <tr>\n",
              "      <th rowspan=\"3\" valign=\"top\">Data Scientist</th>\n",
              "      <th>Entry Level</th>\n",
              "      <td>46</td>\n",
              "    </tr>\n",
              "    <tr>\n",
              "      <th>Mid-Level</th>\n",
              "      <td>38</td>\n",
              "    </tr>\n",
              "    <tr>\n",
              "      <th>Senior Level</th>\n",
              "      <td>17</td>\n",
              "    </tr>\n",
              "    <tr>\n",
              "      <th rowspan=\"3\" valign=\"top\">Machine Learning Engineer</th>\n",
              "      <th>Entry Level</th>\n",
              "      <td>65</td>\n",
              "    </tr>\n",
              "    <tr>\n",
              "      <th>Mid-Level</th>\n",
              "      <td>47</td>\n",
              "    </tr>\n",
              "    <tr>\n",
              "      <th>Senior Level</th>\n",
              "      <td>12</td>\n",
              "    </tr>\n",
              "    <tr>\n",
              "      <th rowspan=\"3\" valign=\"top\">Web Developer</th>\n",
              "      <th>Entry Level</th>\n",
              "      <td>217</td>\n",
              "    </tr>\n",
              "    <tr>\n",
              "      <th>Mid-Level</th>\n",
              "      <td>142</td>\n",
              "    </tr>\n",
              "    <tr>\n",
              "      <th>Senior Level</th>\n",
              "      <td>23</td>\n",
              "    </tr>\n",
              "    <tr>\n",
              "      <th rowspan=\"13\" valign=\"top\">Nigeria</th>\n",
              "      <th rowspan=\"3\" valign=\"top\">Business Analyst</th>\n",
              "      <th>Entry Level</th>\n",
              "      <td>2</td>\n",
              "    </tr>\n",
              "    <tr>\n",
              "      <th>Mid-Level</th>\n",
              "      <td>11</td>\n",
              "    </tr>\n",
              "    <tr>\n",
              "      <th>Senior Level</th>\n",
              "      <td>1</td>\n",
              "    </tr>\n",
              "    <tr>\n",
              "      <th rowspan=\"3\" valign=\"top\">Data Analyst</th>\n",
              "      <th>Entry Level</th>\n",
              "      <td>1</td>\n",
              "    </tr>\n",
              "    <tr>\n",
              "      <th>Mid-Level</th>\n",
              "      <td>13</td>\n",
              "    </tr>\n",
              "    <tr>\n",
              "      <th>Senior Level</th>\n",
              "      <td>1</td>\n",
              "    </tr>\n",
              "    <tr>\n",
              "      <th rowspan=\"2\" valign=\"top\">Data Scientist</th>\n",
              "      <th>Mid-Level</th>\n",
              "      <td>1</td>\n",
              "    </tr>\n",
              "    <tr>\n",
              "      <th>Senior Level</th>\n",
              "      <td>2</td>\n",
              "    </tr>\n",
              "    <tr>\n",
              "      <th rowspan=\"2\" valign=\"top\">Machine Learning Engineer</th>\n",
              "      <th>Entry Level</th>\n",
              "      <td>1</td>\n",
              "    </tr>\n",
              "    <tr>\n",
              "      <th>Mid-Level</th>\n",
              "      <td>2</td>\n",
              "    </tr>\n",
              "    <tr>\n",
              "      <th rowspan=\"3\" valign=\"top\">Web Developer</th>\n",
              "      <th>Entry Level</th>\n",
              "      <td>6</td>\n",
              "    </tr>\n",
              "    <tr>\n",
              "      <th>Mid-Level</th>\n",
              "      <td>13</td>\n",
              "    </tr>\n",
              "    <tr>\n",
              "      <th>Senior Level</th>\n",
              "      <td>6</td>\n",
              "    </tr>\n",
              "    <tr>\n",
              "      <th rowspan=\"6\" valign=\"top\">UK</th>\n",
              "      <th rowspan=\"3\" valign=\"top\">Data Scientist</th>\n",
              "      <th>Entry Level</th>\n",
              "      <td>16</td>\n",
              "    </tr>\n",
              "    <tr>\n",
              "      <th>Mid-Level</th>\n",
              "      <td>65</td>\n",
              "    </tr>\n",
              "    <tr>\n",
              "      <th>Senior Level</th>\n",
              "      <td>36</td>\n",
              "    </tr>\n",
              "    <tr>\n",
              "      <th rowspan=\"3\" valign=\"top\">Web Developer</th>\n",
              "      <th>Entry Level</th>\n",
              "      <td>26</td>\n",
              "    </tr>\n",
              "    <tr>\n",
              "      <th>Mid-Level</th>\n",
              "      <td>99</td>\n",
              "    </tr>\n",
              "    <tr>\n",
              "      <th>Senior Level</th>\n",
              "      <td>42</td>\n",
              "    </tr>\n",
              "    <tr>\n",
              "      <th rowspan=\"15\" valign=\"top\">USA</th>\n",
              "      <th rowspan=\"3\" valign=\"top\">Business Analyst</th>\n",
              "      <th>Entry Level</th>\n",
              "      <td>35</td>\n",
              "    </tr>\n",
              "    <tr>\n",
              "      <th>Mid-Level</th>\n",
              "      <td>63</td>\n",
              "    </tr>\n",
              "    <tr>\n",
              "      <th>Senior Level</th>\n",
              "      <td>19</td>\n",
              "    </tr>\n",
              "    <tr>\n",
              "      <th rowspan=\"3\" valign=\"top\">Data Analyst</th>\n",
              "      <th>Entry Level</th>\n",
              "      <td>54</td>\n",
              "    </tr>\n",
              "    <tr>\n",
              "      <th>Mid-Level</th>\n",
              "      <td>71</td>\n",
              "    </tr>\n",
              "    <tr>\n",
              "      <th>Senior Level</th>\n",
              "      <td>10</td>\n",
              "    </tr>\n",
              "    <tr>\n",
              "      <th rowspan=\"3\" valign=\"top\">Data Scientist</th>\n",
              "      <th>Entry Level</th>\n",
              "      <td>23</td>\n",
              "    </tr>\n",
              "    <tr>\n",
              "      <th>Mid-Level</th>\n",
              "      <td>73</td>\n",
              "    </tr>\n",
              "    <tr>\n",
              "      <th>Senior Level</th>\n",
              "      <td>49</td>\n",
              "    </tr>\n",
              "    <tr>\n",
              "      <th rowspan=\"3\" valign=\"top\">Machine Learning Engineer</th>\n",
              "      <th>Entry Level</th>\n",
              "      <td>77</td>\n",
              "    </tr>\n",
              "    <tr>\n",
              "      <th>Mid-Level</th>\n",
              "      <td>134</td>\n",
              "    </tr>\n",
              "    <tr>\n",
              "      <th>Senior Level</th>\n",
              "      <td>56</td>\n",
              "    </tr>\n",
              "    <tr>\n",
              "      <th rowspan=\"3\" valign=\"top\">Web Developer</th>\n",
              "      <th>Entry Level</th>\n",
              "      <td>24</td>\n",
              "    </tr>\n",
              "    <tr>\n",
              "      <th>Mid-Level</th>\n",
              "      <td>75</td>\n",
              "    </tr>\n",
              "    <tr>\n",
              "      <th>Senior Level</th>\n",
              "      <td>63</td>\n",
              "    </tr>\n",
              "  </tbody>\n",
              "</table>\n",
              "</div>\n",
              "      <button class=\"colab-df-convert\" onclick=\"convertToInteractive('df-7bf4fd90-efd5-47eb-9d7c-4a28b6372c34')\"\n",
              "              title=\"Convert this dataframe to an interactive table.\"\n",
              "              style=\"display:none;\">\n",
              "        \n",
              "  <svg xmlns=\"http://www.w3.org/2000/svg\" height=\"24px\"viewBox=\"0 0 24 24\"\n",
              "       width=\"24px\">\n",
              "    <path d=\"M0 0h24v24H0V0z\" fill=\"none\"/>\n",
              "    <path d=\"M18.56 5.44l.94 2.06.94-2.06 2.06-.94-2.06-.94-.94-2.06-.94 2.06-2.06.94zm-11 1L8.5 8.5l.94-2.06 2.06-.94-2.06-.94L8.5 2.5l-.94 2.06-2.06.94zm10 10l.94 2.06.94-2.06 2.06-.94-2.06-.94-.94-2.06-.94 2.06-2.06.94z\"/><path d=\"M17.41 7.96l-1.37-1.37c-.4-.4-.92-.59-1.43-.59-.52 0-1.04.2-1.43.59L10.3 9.45l-7.72 7.72c-.78.78-.78 2.05 0 2.83L4 21.41c.39.39.9.59 1.41.59.51 0 1.02-.2 1.41-.59l7.78-7.78 2.81-2.81c.8-.78.8-2.07 0-2.86zM5.41 20L4 18.59l7.72-7.72 1.47 1.35L5.41 20z\"/>\n",
              "  </svg>\n",
              "      </button>\n",
              "      \n",
              "  <style>\n",
              "    .colab-df-container {\n",
              "      display:flex;\n",
              "      flex-wrap:wrap;\n",
              "      gap: 12px;\n",
              "    }\n",
              "\n",
              "    .colab-df-convert {\n",
              "      background-color: #E8F0FE;\n",
              "      border: none;\n",
              "      border-radius: 50%;\n",
              "      cursor: pointer;\n",
              "      display: none;\n",
              "      fill: #1967D2;\n",
              "      height: 32px;\n",
              "      padding: 0 0 0 0;\n",
              "      width: 32px;\n",
              "    }\n",
              "\n",
              "    .colab-df-convert:hover {\n",
              "      background-color: #E2EBFA;\n",
              "      box-shadow: 0px 1px 2px rgba(60, 64, 67, 0.3), 0px 1px 3px 1px rgba(60, 64, 67, 0.15);\n",
              "      fill: #174EA6;\n",
              "    }\n",
              "\n",
              "    [theme=dark] .colab-df-convert {\n",
              "      background-color: #3B4455;\n",
              "      fill: #D2E3FC;\n",
              "    }\n",
              "\n",
              "    [theme=dark] .colab-df-convert:hover {\n",
              "      background-color: #434B5C;\n",
              "      box-shadow: 0px 1px 3px 1px rgba(0, 0, 0, 0.15);\n",
              "      filter: drop-shadow(0px 1px 2px rgba(0, 0, 0, 0.3));\n",
              "      fill: #FFFFFF;\n",
              "    }\n",
              "  </style>\n",
              "\n",
              "      <script>\n",
              "        const buttonEl =\n",
              "          document.querySelector('#df-7bf4fd90-efd5-47eb-9d7c-4a28b6372c34 button.colab-df-convert');\n",
              "        buttonEl.style.display =\n",
              "          google.colab.kernel.accessAllowed ? 'block' : 'none';\n",
              "\n",
              "        async function convertToInteractive(key) {\n",
              "          const element = document.querySelector('#df-7bf4fd90-efd5-47eb-9d7c-4a28b6372c34');\n",
              "          const dataTable =\n",
              "            await google.colab.kernel.invokeFunction('convertToInteractive',\n",
              "                                                     [key], {});\n",
              "          if (!dataTable) return;\n",
              "\n",
              "          const docLinkHtml = 'Like what you see? Visit the ' +\n",
              "            '<a target=\"_blank\" href=https://colab.research.google.com/notebooks/data_table.ipynb>data table notebook</a>'\n",
              "            + ' to learn more about interactive tables.';\n",
              "          element.innerHTML = '';\n",
              "          dataTable['output_type'] = 'display_data';\n",
              "          await google.colab.output.renderOutput(dataTable, element);\n",
              "          const docLink = document.createElement('div');\n",
              "          docLink.innerHTML = docLinkHtml;\n",
              "          element.appendChild(docLink);\n",
              "        }\n",
              "      </script>\n",
              "    </div>\n",
              "  </div>\n",
              "  "
            ]
          },
          "metadata": {},
          "execution_count": 28
        }
      ],
      "source": [
        "# Defining a function that counts the number of recors we have for each level for each role for each country\n",
        "def number_of_observations(data):\n",
        "    return data.groupby([\"Country\",\"title scraped for\",\"Position\"]).agg({\"Position\":\"count\"})\n",
        "\n",
        "number_of_observations(df)"
      ]
    },
    {
      "cell_type": "code",
      "execution_count": null,
      "id": "de126303",
      "metadata": {
        "id": "de126303"
      },
      "outputs": [],
      "source": [
        "Frequency_to_yearly = {\"Hourly\": 40 * 52,\n",
        "\"Weekly\": 52,\n",
        "\"Monthly\": 12,\n",
        "\"Yearly\": 1}\n",
        "df[\"Frequency_to_yearly\"] = df.payment_frequency.map(Frequency_to_yearly)\n",
        "\n",
        "# Standardizing the payment frequency to Yearly\n",
        "df.upper_salary = df.upper_salary * df[\"Frequency_to_yearly\"]\n",
        "df.lower_salary = df.lower_salary * df[\"Frequency_to_yearly\"]\n",
        "df.drop('Frequency_to_yearly', axis= \"columns\", inplace = True)"
      ]
    },
    {
      "cell_type": "code",
      "execution_count": null,
      "id": "291277a4",
      "metadata": {
        "id": "291277a4"
      },
      "outputs": [],
      "source": [
        "df.drop(['title_cleaned','payment_frequency'], axis=\"columns\", inplace = True)"
      ]
    },
    {
      "cell_type": "code",
      "execution_count": null,
      "id": "7d739535",
      "metadata": {
        "id": "7d739535",
        "outputId": "ca382dd3-5e5a-4bfc-a999-efad526889b4",
        "colab": {
          "base_uri": "https://localhost:8080/",
          "height": 1000
        }
      },
      "outputs": [
        {
          "output_type": "execute_result",
          "data": {
            "text/plain": [
              "                                                 lower_salary   upper_salary\n",
              "Country title scraped for         Position                                  \n",
              "India   Business Analyst          Entry Level     4296.524611    7709.294294\n",
              "                                  Mid-Level       9087.990233   18011.989496\n",
              "                                  Senior Level   13634.612980   19514.067775\n",
              "        Data Analyst              Entry Level     4386.923475    7806.385459\n",
              "                                  Mid-Level      11127.802787   22789.770027\n",
              "                                  Senior Level   14523.446292   21785.169439\n",
              "        Data Scientist            Entry Level     7933.143679   16811.033867\n",
              "                                  Mid-Level       8776.439849   17037.120906\n",
              "                                  Senior Level   15226.298097   27461.858774\n",
              "        Machine Learning Engineer Entry Level     8970.567232   12734.522380\n",
              "                                  Mid-Level      14449.241338   23367.240600\n",
              "                                  Senior Level   14614.855571   25660.664416\n",
              "        Web Developer             Entry Level     3458.627573    6711.643734\n",
              "                                  Mid-Level       7028.348571   10871.743073\n",
              "                                  Senior Level   10880.716138   17601.337344\n",
              "Nigeria Business Analyst          Entry Level     3505.655791            NaN\n",
              "                                  Mid-Level       9611.870788   12129.569038\n",
              "                                  Senior Level    5609.049266            NaN\n",
              "        Data Analyst              Entry Level     2804.524633            NaN\n",
              "                                  Mid-Level       8344.539447   12028.294537\n",
              "                                  Senior Level    5609.049266            NaN\n",
              "        Data Scientist            Mid-Level      19631.672432            NaN\n",
              "                                  Senior Level    5609.049266            NaN\n",
              "        Machine Learning Engineer Entry Level     4206.786950    7011.311583\n",
              "                                  Mid-Level       4206.786950            NaN\n",
              "        Web Developer             Entry Level     2827.895672    5609.049266\n",
              "                                  Mid-Level       7982.108571   10817.452156\n",
              "                                  Senior Level    9924.901063   26269.047396\n",
              "UK      Data Scientist            Entry Level    58355.555556   71088.267288\n",
              "                                  Mid-Level      55951.873767   63854.585799\n",
              "                                  Senior Level   55477.113010   79409.879336\n",
              "        Web Developer             Entry Level    90250.164366   37519.073324\n",
              "                                  Mid-Level      57332.152292   66427.138462\n",
              "                                  Senior Level   42339.560440   56769.364316\n",
              "USA     Business Analyst          Entry Level    74368.571429   94773.142857\n",
              "                                  Mid-Level      78630.069841  102511.383051\n",
              "                                  Senior Level   91586.368421  118753.333333\n",
              "        Data Analyst              Entry Level    70881.907407   87265.692308\n",
              "                                  Mid-Level      76068.107042   98439.011765\n",
              "                                  Senior Level   91680.000000  122120.000000\n",
              "        Data Scientist            Entry Level    96342.826087  127404.818182\n",
              "                                  Mid-Level     109335.487671  133120.858824\n",
              "                                  Senior Level  114438.342857  142101.063830\n",
              "        Machine Learning Engineer Entry Level    99441.114286  129301.657534\n",
              "                                  Mid-Level     110581.798507  140112.110236\n",
              "                                  Senior Level  117711.471429  151402.974545\n",
              "        Web Developer             Entry Level    82335.316667  106349.669565\n",
              "                                  Mid-Level      91162.082667  115902.832877\n",
              "                                  Senior Level  102545.714286  128623.333333"
            ],
            "text/html": [
              "\n",
              "  <div id=\"df-3fcdd4f5-8f05-48fa-ab9e-be8cbbb2ab55\">\n",
              "    <div class=\"colab-df-container\">\n",
              "      <div>\n",
              "<style scoped>\n",
              "    .dataframe tbody tr th:only-of-type {\n",
              "        vertical-align: middle;\n",
              "    }\n",
              "\n",
              "    .dataframe tbody tr th {\n",
              "        vertical-align: top;\n",
              "    }\n",
              "\n",
              "    .dataframe thead th {\n",
              "        text-align: right;\n",
              "    }\n",
              "</style>\n",
              "<table border=\"1\" class=\"dataframe\">\n",
              "  <thead>\n",
              "    <tr style=\"text-align: right;\">\n",
              "      <th></th>\n",
              "      <th></th>\n",
              "      <th></th>\n",
              "      <th>lower_salary</th>\n",
              "      <th>upper_salary</th>\n",
              "    </tr>\n",
              "    <tr>\n",
              "      <th>Country</th>\n",
              "      <th>title scraped for</th>\n",
              "      <th>Position</th>\n",
              "      <th></th>\n",
              "      <th></th>\n",
              "    </tr>\n",
              "  </thead>\n",
              "  <tbody>\n",
              "    <tr>\n",
              "      <th rowspan=\"15\" valign=\"top\">India</th>\n",
              "      <th rowspan=\"3\" valign=\"top\">Business Analyst</th>\n",
              "      <th>Entry Level</th>\n",
              "      <td>4296.524611</td>\n",
              "      <td>7709.294294</td>\n",
              "    </tr>\n",
              "    <tr>\n",
              "      <th>Mid-Level</th>\n",
              "      <td>9087.990233</td>\n",
              "      <td>18011.989496</td>\n",
              "    </tr>\n",
              "    <tr>\n",
              "      <th>Senior Level</th>\n",
              "      <td>13634.612980</td>\n",
              "      <td>19514.067775</td>\n",
              "    </tr>\n",
              "    <tr>\n",
              "      <th rowspan=\"3\" valign=\"top\">Data Analyst</th>\n",
              "      <th>Entry Level</th>\n",
              "      <td>4386.923475</td>\n",
              "      <td>7806.385459</td>\n",
              "    </tr>\n",
              "    <tr>\n",
              "      <th>Mid-Level</th>\n",
              "      <td>11127.802787</td>\n",
              "      <td>22789.770027</td>\n",
              "    </tr>\n",
              "    <tr>\n",
              "      <th>Senior Level</th>\n",
              "      <td>14523.446292</td>\n",
              "      <td>21785.169439</td>\n",
              "    </tr>\n",
              "    <tr>\n",
              "      <th rowspan=\"3\" valign=\"top\">Data Scientist</th>\n",
              "      <th>Entry Level</th>\n",
              "      <td>7933.143679</td>\n",
              "      <td>16811.033867</td>\n",
              "    </tr>\n",
              "    <tr>\n",
              "      <th>Mid-Level</th>\n",
              "      <td>8776.439849</td>\n",
              "      <td>17037.120906</td>\n",
              "    </tr>\n",
              "    <tr>\n",
              "      <th>Senior Level</th>\n",
              "      <td>15226.298097</td>\n",
              "      <td>27461.858774</td>\n",
              "    </tr>\n",
              "    <tr>\n",
              "      <th rowspan=\"3\" valign=\"top\">Machine Learning Engineer</th>\n",
              "      <th>Entry Level</th>\n",
              "      <td>8970.567232</td>\n",
              "      <td>12734.522380</td>\n",
              "    </tr>\n",
              "    <tr>\n",
              "      <th>Mid-Level</th>\n",
              "      <td>14449.241338</td>\n",
              "      <td>23367.240600</td>\n",
              "    </tr>\n",
              "    <tr>\n",
              "      <th>Senior Level</th>\n",
              "      <td>14614.855571</td>\n",
              "      <td>25660.664416</td>\n",
              "    </tr>\n",
              "    <tr>\n",
              "      <th rowspan=\"3\" valign=\"top\">Web Developer</th>\n",
              "      <th>Entry Level</th>\n",
              "      <td>3458.627573</td>\n",
              "      <td>6711.643734</td>\n",
              "    </tr>\n",
              "    <tr>\n",
              "      <th>Mid-Level</th>\n",
              "      <td>7028.348571</td>\n",
              "      <td>10871.743073</td>\n",
              "    </tr>\n",
              "    <tr>\n",
              "      <th>Senior Level</th>\n",
              "      <td>10880.716138</td>\n",
              "      <td>17601.337344</td>\n",
              "    </tr>\n",
              "    <tr>\n",
              "      <th rowspan=\"13\" valign=\"top\">Nigeria</th>\n",
              "      <th rowspan=\"3\" valign=\"top\">Business Analyst</th>\n",
              "      <th>Entry Level</th>\n",
              "      <td>3505.655791</td>\n",
              "      <td>NaN</td>\n",
              "    </tr>\n",
              "    <tr>\n",
              "      <th>Mid-Level</th>\n",
              "      <td>9611.870788</td>\n",
              "      <td>12129.569038</td>\n",
              "    </tr>\n",
              "    <tr>\n",
              "      <th>Senior Level</th>\n",
              "      <td>5609.049266</td>\n",
              "      <td>NaN</td>\n",
              "    </tr>\n",
              "    <tr>\n",
              "      <th rowspan=\"3\" valign=\"top\">Data Analyst</th>\n",
              "      <th>Entry Level</th>\n",
              "      <td>2804.524633</td>\n",
              "      <td>NaN</td>\n",
              "    </tr>\n",
              "    <tr>\n",
              "      <th>Mid-Level</th>\n",
              "      <td>8344.539447</td>\n",
              "      <td>12028.294537</td>\n",
              "    </tr>\n",
              "    <tr>\n",
              "      <th>Senior Level</th>\n",
              "      <td>5609.049266</td>\n",
              "      <td>NaN</td>\n",
              "    </tr>\n",
              "    <tr>\n",
              "      <th rowspan=\"2\" valign=\"top\">Data Scientist</th>\n",
              "      <th>Mid-Level</th>\n",
              "      <td>19631.672432</td>\n",
              "      <td>NaN</td>\n",
              "    </tr>\n",
              "    <tr>\n",
              "      <th>Senior Level</th>\n",
              "      <td>5609.049266</td>\n",
              "      <td>NaN</td>\n",
              "    </tr>\n",
              "    <tr>\n",
              "      <th rowspan=\"2\" valign=\"top\">Machine Learning Engineer</th>\n",
              "      <th>Entry Level</th>\n",
              "      <td>4206.786950</td>\n",
              "      <td>7011.311583</td>\n",
              "    </tr>\n",
              "    <tr>\n",
              "      <th>Mid-Level</th>\n",
              "      <td>4206.786950</td>\n",
              "      <td>NaN</td>\n",
              "    </tr>\n",
              "    <tr>\n",
              "      <th rowspan=\"3\" valign=\"top\">Web Developer</th>\n",
              "      <th>Entry Level</th>\n",
              "      <td>2827.895672</td>\n",
              "      <td>5609.049266</td>\n",
              "    </tr>\n",
              "    <tr>\n",
              "      <th>Mid-Level</th>\n",
              "      <td>7982.108571</td>\n",
              "      <td>10817.452156</td>\n",
              "    </tr>\n",
              "    <tr>\n",
              "      <th>Senior Level</th>\n",
              "      <td>9924.901063</td>\n",
              "      <td>26269.047396</td>\n",
              "    </tr>\n",
              "    <tr>\n",
              "      <th rowspan=\"6\" valign=\"top\">UK</th>\n",
              "      <th rowspan=\"3\" valign=\"top\">Data Scientist</th>\n",
              "      <th>Entry Level</th>\n",
              "      <td>58355.555556</td>\n",
              "      <td>71088.267288</td>\n",
              "    </tr>\n",
              "    <tr>\n",
              "      <th>Mid-Level</th>\n",
              "      <td>55951.873767</td>\n",
              "      <td>63854.585799</td>\n",
              "    </tr>\n",
              "    <tr>\n",
              "      <th>Senior Level</th>\n",
              "      <td>55477.113010</td>\n",
              "      <td>79409.879336</td>\n",
              "    </tr>\n",
              "    <tr>\n",
              "      <th rowspan=\"3\" valign=\"top\">Web Developer</th>\n",
              "      <th>Entry Level</th>\n",
              "      <td>90250.164366</td>\n",
              "      <td>37519.073324</td>\n",
              "    </tr>\n",
              "    <tr>\n",
              "      <th>Mid-Level</th>\n",
              "      <td>57332.152292</td>\n",
              "      <td>66427.138462</td>\n",
              "    </tr>\n",
              "    <tr>\n",
              "      <th>Senior Level</th>\n",
              "      <td>42339.560440</td>\n",
              "      <td>56769.364316</td>\n",
              "    </tr>\n",
              "    <tr>\n",
              "      <th rowspan=\"15\" valign=\"top\">USA</th>\n",
              "      <th rowspan=\"3\" valign=\"top\">Business Analyst</th>\n",
              "      <th>Entry Level</th>\n",
              "      <td>74368.571429</td>\n",
              "      <td>94773.142857</td>\n",
              "    </tr>\n",
              "    <tr>\n",
              "      <th>Mid-Level</th>\n",
              "      <td>78630.069841</td>\n",
              "      <td>102511.383051</td>\n",
              "    </tr>\n",
              "    <tr>\n",
              "      <th>Senior Level</th>\n",
              "      <td>91586.368421</td>\n",
              "      <td>118753.333333</td>\n",
              "    </tr>\n",
              "    <tr>\n",
              "      <th rowspan=\"3\" valign=\"top\">Data Analyst</th>\n",
              "      <th>Entry Level</th>\n",
              "      <td>70881.907407</td>\n",
              "      <td>87265.692308</td>\n",
              "    </tr>\n",
              "    <tr>\n",
              "      <th>Mid-Level</th>\n",
              "      <td>76068.107042</td>\n",
              "      <td>98439.011765</td>\n",
              "    </tr>\n",
              "    <tr>\n",
              "      <th>Senior Level</th>\n",
              "      <td>91680.000000</td>\n",
              "      <td>122120.000000</td>\n",
              "    </tr>\n",
              "    <tr>\n",
              "      <th rowspan=\"3\" valign=\"top\">Data Scientist</th>\n",
              "      <th>Entry Level</th>\n",
              "      <td>96342.826087</td>\n",
              "      <td>127404.818182</td>\n",
              "    </tr>\n",
              "    <tr>\n",
              "      <th>Mid-Level</th>\n",
              "      <td>109335.487671</td>\n",
              "      <td>133120.858824</td>\n",
              "    </tr>\n",
              "    <tr>\n",
              "      <th>Senior Level</th>\n",
              "      <td>114438.342857</td>\n",
              "      <td>142101.063830</td>\n",
              "    </tr>\n",
              "    <tr>\n",
              "      <th rowspan=\"3\" valign=\"top\">Machine Learning Engineer</th>\n",
              "      <th>Entry Level</th>\n",
              "      <td>99441.114286</td>\n",
              "      <td>129301.657534</td>\n",
              "    </tr>\n",
              "    <tr>\n",
              "      <th>Mid-Level</th>\n",
              "      <td>110581.798507</td>\n",
              "      <td>140112.110236</td>\n",
              "    </tr>\n",
              "    <tr>\n",
              "      <th>Senior Level</th>\n",
              "      <td>117711.471429</td>\n",
              "      <td>151402.974545</td>\n",
              "    </tr>\n",
              "    <tr>\n",
              "      <th rowspan=\"3\" valign=\"top\">Web Developer</th>\n",
              "      <th>Entry Level</th>\n",
              "      <td>82335.316667</td>\n",
              "      <td>106349.669565</td>\n",
              "    </tr>\n",
              "    <tr>\n",
              "      <th>Mid-Level</th>\n",
              "      <td>91162.082667</td>\n",
              "      <td>115902.832877</td>\n",
              "    </tr>\n",
              "    <tr>\n",
              "      <th>Senior Level</th>\n",
              "      <td>102545.714286</td>\n",
              "      <td>128623.333333</td>\n",
              "    </tr>\n",
              "  </tbody>\n",
              "</table>\n",
              "</div>\n",
              "      <button class=\"colab-df-convert\" onclick=\"convertToInteractive('df-3fcdd4f5-8f05-48fa-ab9e-be8cbbb2ab55')\"\n",
              "              title=\"Convert this dataframe to an interactive table.\"\n",
              "              style=\"display:none;\">\n",
              "        \n",
              "  <svg xmlns=\"http://www.w3.org/2000/svg\" height=\"24px\"viewBox=\"0 0 24 24\"\n",
              "       width=\"24px\">\n",
              "    <path d=\"M0 0h24v24H0V0z\" fill=\"none\"/>\n",
              "    <path d=\"M18.56 5.44l.94 2.06.94-2.06 2.06-.94-2.06-.94-.94-2.06-.94 2.06-2.06.94zm-11 1L8.5 8.5l.94-2.06 2.06-.94-2.06-.94L8.5 2.5l-.94 2.06-2.06.94zm10 10l.94 2.06.94-2.06 2.06-.94-2.06-.94-.94-2.06-.94 2.06-2.06.94z\"/><path d=\"M17.41 7.96l-1.37-1.37c-.4-.4-.92-.59-1.43-.59-.52 0-1.04.2-1.43.59L10.3 9.45l-7.72 7.72c-.78.78-.78 2.05 0 2.83L4 21.41c.39.39.9.59 1.41.59.51 0 1.02-.2 1.41-.59l7.78-7.78 2.81-2.81c.8-.78.8-2.07 0-2.86zM5.41 20L4 18.59l7.72-7.72 1.47 1.35L5.41 20z\"/>\n",
              "  </svg>\n",
              "      </button>\n",
              "      \n",
              "  <style>\n",
              "    .colab-df-container {\n",
              "      display:flex;\n",
              "      flex-wrap:wrap;\n",
              "      gap: 12px;\n",
              "    }\n",
              "\n",
              "    .colab-df-convert {\n",
              "      background-color: #E8F0FE;\n",
              "      border: none;\n",
              "      border-radius: 50%;\n",
              "      cursor: pointer;\n",
              "      display: none;\n",
              "      fill: #1967D2;\n",
              "      height: 32px;\n",
              "      padding: 0 0 0 0;\n",
              "      width: 32px;\n",
              "    }\n",
              "\n",
              "    .colab-df-convert:hover {\n",
              "      background-color: #E2EBFA;\n",
              "      box-shadow: 0px 1px 2px rgba(60, 64, 67, 0.3), 0px 1px 3px 1px rgba(60, 64, 67, 0.15);\n",
              "      fill: #174EA6;\n",
              "    }\n",
              "\n",
              "    [theme=dark] .colab-df-convert {\n",
              "      background-color: #3B4455;\n",
              "      fill: #D2E3FC;\n",
              "    }\n",
              "\n",
              "    [theme=dark] .colab-df-convert:hover {\n",
              "      background-color: #434B5C;\n",
              "      box-shadow: 0px 1px 3px 1px rgba(0, 0, 0, 0.15);\n",
              "      filter: drop-shadow(0px 1px 2px rgba(0, 0, 0, 0.3));\n",
              "      fill: #FFFFFF;\n",
              "    }\n",
              "  </style>\n",
              "\n",
              "      <script>\n",
              "        const buttonEl =\n",
              "          document.querySelector('#df-3fcdd4f5-8f05-48fa-ab9e-be8cbbb2ab55 button.colab-df-convert');\n",
              "        buttonEl.style.display =\n",
              "          google.colab.kernel.accessAllowed ? 'block' : 'none';\n",
              "\n",
              "        async function convertToInteractive(key) {\n",
              "          const element = document.querySelector('#df-3fcdd4f5-8f05-48fa-ab9e-be8cbbb2ab55');\n",
              "          const dataTable =\n",
              "            await google.colab.kernel.invokeFunction('convertToInteractive',\n",
              "                                                     [key], {});\n",
              "          if (!dataTable) return;\n",
              "\n",
              "          const docLinkHtml = 'Like what you see? Visit the ' +\n",
              "            '<a target=\"_blank\" href=https://colab.research.google.com/notebooks/data_table.ipynb>data table notebook</a>'\n",
              "            + ' to learn more about interactive tables.';\n",
              "          element.innerHTML = '';\n",
              "          dataTable['output_type'] = 'display_data';\n",
              "          await google.colab.output.renderOutput(dataTable, element);\n",
              "          const docLink = document.createElement('div');\n",
              "          docLink.innerHTML = docLinkHtml;\n",
              "          element.appendChild(docLink);\n",
              "        }\n",
              "      </script>\n",
              "    </div>\n",
              "  </div>\n",
              "  "
            ]
          },
          "metadata": {},
          "execution_count": 31
        }
      ],
      "source": [
        "# Determining the average upper and lower salary for each level for each title for each country\n",
        "df.groupby([\"Country\", \"title scraped for\", \"Position\"])[[\"lower_salary\",\"upper_salary\"]].agg(np.mean)"
      ]
    },
    {
      "cell_type": "markdown",
      "id": "f0a3e04e",
      "metadata": {
        "id": "f0a3e04e"
      },
      "source": [
        "### Categorical Column Coding map"
      ]
    },
    {
      "cell_type": "code",
      "execution_count": null,
      "id": "d06a3e24",
      "metadata": {
        "id": "d06a3e24"
      },
      "outputs": [],
      "source": [
        "# Encoding the categorical variables\n",
        "df6 = df.copy()\n",
        "categorical_columns = [\"title scraped for\",'Country','Position','contract_type','eligibility']\n",
        "df[categorical_columns] = df[categorical_columns].astype('category')\n",
        "\n",
        "for x in categorical_columns:\n",
        "        df[x] = df[x].cat.codes\n",
        "   "
      ]
    },
    {
      "cell_type": "code",
      "source": [
        "# Create dict for categorical columns\n",
        "feature_dict = {}\n",
        "for col in df.drop([\"lower_salary\", \"upper_salary\"], axis=\"columns\").columns:\n",
        "  if col in categorical_columns:\n",
        "    feature_dict[col] = {k:v for v, k in enumerate(df6[col].cat.categories)}\n",
        "  else:\n",
        "    feature_dict[col] = None\n",
        "\n",
        "pickle.dump(feature_dict, open('features.pkl', 'wb'))"
      ],
      "metadata": {
        "id": "m5KgwamhzJRC"
      },
      "id": "m5KgwamhzJRC",
      "execution_count": null,
      "outputs": []
    },
    {
      "cell_type": "code",
      "source": [
        "feature_dict"
      ],
      "metadata": {
        "id": "pKqHnoKCYp05",
        "outputId": "6c40b45c-a28a-4900-bb60-c073087f0fbb",
        "colab": {
          "base_uri": "https://localhost:8080/"
        }
      },
      "id": "pKqHnoKCYp05",
      "execution_count": null,
      "outputs": [
        {
          "output_type": "execute_result",
          "data": {
            "text/plain": [
              "{'title scraped for': {'Business Analyst': 0,\n",
              "  'Data Analyst': 1,\n",
              "  'Data Scientist': 2,\n",
              "  'Machine Learning Engineer': 3,\n",
              "  'Web Developer': 4},\n",
              " 'Country': {'India': 0, 'Nigeria': 1, 'UK': 2, 'USA': 3},\n",
              " 'Position': {'Entry Level': 0, 'Mid-Level': 1, 'Senior Level': 2},\n",
              " 'year_of_exp': None,\n",
              " 'contract_type': {'Contract': 0, 'Full-time': 1},\n",
              " 'eligibility': {'doctorate': 0,\n",
              "  'high school diploma': 1,\n",
              "  'postgraduate': 2,\n",
              "  'undergraduate': 3},\n",
              " 'R': None,\n",
              " 'Go': None,\n",
              " 'Python': None,\n",
              " 'Vi': None,\n",
              " 'D': None,\n",
              " 'Tableau': None,\n",
              " 'PHP': None,\n",
              " 'Statistics': None,\n",
              " 'Excel': None,\n",
              " 'ML': None,\n",
              " 'Java': None,\n",
              " 'MS Office': None,\n",
              " 'SQL': None,\n",
              " 'C': None,\n",
              " 'AWS': None,\n",
              " 'CSS': None,\n",
              " 'HTML': None,\n",
              " 'BA': None,\n",
              " 'client': None}"
            ]
          },
          "metadata": {},
          "execution_count": 53
        }
      ]
    },
    {
      "cell_type": "code",
      "execution_count": null,
      "id": "750e04e5",
      "metadata": {
        "id": "750e04e5"
      },
      "outputs": [],
      "source": [
        "# Saving the codes for Variable\n",
        "Title_scrapped_for  = dict(enumerate(df6['title scraped for'].cat.categories))\n",
        "COUNTRY  = dict(enumerate(df6['Country'].cat.categories))\n",
        "POSITION = dict(enumerate(df6['Position'].cat.categories))\n",
        "#PAYMENT_FREQUENCY = dict(enumerate(df6['payment_frequency'].cat.categories))\n",
        "CONTRACT_TYPE = dict(enumerate(df6['contract_type'].cat.categories))\n",
        "ELIGIBILTY = dict(enumerate(df6['eligibility'].cat.categories))"
      ]
    },
    {
      "cell_type": "code",
      "execution_count": null,
      "id": "336a9fbb",
      "metadata": {
        "id": "336a9fbb",
        "outputId": "c65f59ce-3d83-4c52-c055-9ec1a3ad653e",
        "colab": {
          "base_uri": "https://localhost:8080/"
        }
      },
      "outputs": [
        {
          "output_type": "execute_result",
          "data": {
            "text/plain": [
              "{0: 'Business Analyst',\n",
              " 1: 'Data Analyst',\n",
              " 2: 'Data Scientist',\n",
              " 3: 'Machine Learning Engineer',\n",
              " 4: 'Web Developer'}"
            ]
          },
          "metadata": {},
          "execution_count": 34
        }
      ],
      "source": [
        "Title_scrapped_for"
      ]
    },
    {
      "cell_type": "code",
      "execution_count": null,
      "id": "d78511b7",
      "metadata": {
        "id": "d78511b7",
        "outputId": "63f450f9-c97d-4b8f-8fa0-3fdb9c78ae7c",
        "colab": {
          "base_uri": "https://localhost:8080/"
        }
      },
      "outputs": [
        {
          "output_type": "execute_result",
          "data": {
            "text/plain": [
              "{0: 'India', 1: 'Nigeria', 2: 'UK', 3: 'USA'}"
            ]
          },
          "metadata": {},
          "execution_count": 35
        }
      ],
      "source": [
        "COUNTRY"
      ]
    },
    {
      "cell_type": "code",
      "execution_count": null,
      "id": "764742a6",
      "metadata": {
        "id": "764742a6",
        "outputId": "820ef951-f2fe-4570-9533-20684bf25898",
        "colab": {
          "base_uri": "https://localhost:8080/"
        }
      },
      "outputs": [
        {
          "output_type": "execute_result",
          "data": {
            "text/plain": [
              "{0: 'Entry Level', 1: 'Mid-Level', 2: 'Senior Level'}"
            ]
          },
          "metadata": {},
          "execution_count": 36
        }
      ],
      "source": [
        "POSITION"
      ]
    },
    {
      "cell_type": "code",
      "execution_count": null,
      "id": "4db223e1",
      "metadata": {
        "id": "4db223e1",
        "outputId": "734d85bd-1d38-44c3-c2c9-a7649701a767",
        "colab": {
          "base_uri": "https://localhost:8080/"
        }
      },
      "outputs": [
        {
          "output_type": "execute_result",
          "data": {
            "text/plain": [
              "{0: 'Contract', 1: 'Full-time'}"
            ]
          },
          "metadata": {},
          "execution_count": 37
        }
      ],
      "source": [
        "CONTRACT_TYPE"
      ]
    },
    {
      "cell_type": "code",
      "execution_count": null,
      "id": "57449925",
      "metadata": {
        "id": "57449925",
        "outputId": "3e5ce75a-87b8-4433-ae05-f4f99ae4189d",
        "colab": {
          "base_uri": "https://localhost:8080/"
        }
      },
      "outputs": [
        {
          "output_type": "execute_result",
          "data": {
            "text/plain": [
              "{0: 'doctorate',\n",
              " 1: 'high school diploma',\n",
              " 2: 'postgraduate',\n",
              " 3: 'undergraduate'}"
            ]
          },
          "metadata": {},
          "execution_count": 38
        }
      ],
      "source": [
        "ELIGIBILTY"
      ]
    },
    {
      "cell_type": "code",
      "execution_count": null,
      "id": "fa3df47f",
      "metadata": {
        "id": "fa3df47f"
      },
      "outputs": [],
      "source": [
        "df1 = df.copy()"
      ]
    },
    {
      "cell_type": "code",
      "execution_count": null,
      "id": "BxjOkQs053ca",
      "metadata": {
        "id": "BxjOkQs053ca"
      },
      "outputs": [],
      "source": [
        "# Adding the most popular skills to the dataframe\n",
        "for Skill in list(Most_popular_skills):\n",
        "    df[Skill] = 0"
      ]
    },
    {
      "cell_type": "code",
      "execution_count": null,
      "id": "PVJViMTx7GGj",
      "metadata": {
        "colab": {
          "base_uri": "https://localhost:8080/",
          "height": 552
        },
        "id": "PVJViMTx7GGj",
        "outputId": "f369b15f-b93a-48ca-bbfb-14b8e0b8d7a7"
      },
      "outputs": [
        {
          "output_type": "execute_result",
          "data": {
            "text/plain": [
              "   title scraped for  Country  upper_salary  lower_salary  Position  \\\n",
              "0                  2        1           NaN  19631.672432         1   \n",
              "1                  2        1           NaN   5609.049266         2   \n",
              "2                  2        1           NaN   5609.049266         2   \n",
              "3                  4        1  37393.661774  21033.934748         2   \n",
              "4                  4        1  39730.765635  23371.038609         2   \n",
              "\n",
              "   year_of_exp  contract_type  eligibility  \\\n",
              "0          3.0              1            3   \n",
              "1          5.0              1            3   \n",
              "2          6.0              1            3   \n",
              "3          5.0              1            3   \n",
              "4          5.0              1            3   \n",
              "\n",
              "                                         skills_list  R  ...  ML  Java  \\\n",
              "0                                                [R]  0  ...   0     0   \n",
              "1  [Python, Java, Scala, NoSQL, performance metri...  0  ...   0     0   \n",
              "2  [asp, Go, HTML, server, Git, C, R, CSS, C#, My...  0  ...   0     0   \n",
              "3  [ML, Java, UX, D, C, R, Excel, CSS, HTML, DevO...  0  ...   0     0   \n",
              "4  [Databases, MongoDB, NoSQL, D, C, .NET, Go, R,...  0  ...   0     0   \n",
              "\n",
              "   MS Office  SQL  C  AWS  CSS  HTML  BA  client  \n",
              "0          0    0  0    0    0     0   0       0  \n",
              "1          0    0  0    0    0     0   0       0  \n",
              "2          0    0  0    0    0     0   0       0  \n",
              "3          0    0  0    0    0     0   0       0  \n",
              "4          0    0  0    0    0     0   0       0  \n",
              "\n",
              "[5 rows x 28 columns]"
            ],
            "text/html": [
              "\n",
              "  <div id=\"df-12fe75e3-72f4-4092-a436-44d0b38e99ed\">\n",
              "    <div class=\"colab-df-container\">\n",
              "      <div>\n",
              "<style scoped>\n",
              "    .dataframe tbody tr th:only-of-type {\n",
              "        vertical-align: middle;\n",
              "    }\n",
              "\n",
              "    .dataframe tbody tr th {\n",
              "        vertical-align: top;\n",
              "    }\n",
              "\n",
              "    .dataframe thead th {\n",
              "        text-align: right;\n",
              "    }\n",
              "</style>\n",
              "<table border=\"1\" class=\"dataframe\">\n",
              "  <thead>\n",
              "    <tr style=\"text-align: right;\">\n",
              "      <th></th>\n",
              "      <th>title scraped for</th>\n",
              "      <th>Country</th>\n",
              "      <th>upper_salary</th>\n",
              "      <th>lower_salary</th>\n",
              "      <th>Position</th>\n",
              "      <th>year_of_exp</th>\n",
              "      <th>contract_type</th>\n",
              "      <th>eligibility</th>\n",
              "      <th>skills_list</th>\n",
              "      <th>R</th>\n",
              "      <th>...</th>\n",
              "      <th>ML</th>\n",
              "      <th>Java</th>\n",
              "      <th>MS Office</th>\n",
              "      <th>SQL</th>\n",
              "      <th>C</th>\n",
              "      <th>AWS</th>\n",
              "      <th>CSS</th>\n",
              "      <th>HTML</th>\n",
              "      <th>BA</th>\n",
              "      <th>client</th>\n",
              "    </tr>\n",
              "  </thead>\n",
              "  <tbody>\n",
              "    <tr>\n",
              "      <th>0</th>\n",
              "      <td>2</td>\n",
              "      <td>1</td>\n",
              "      <td>NaN</td>\n",
              "      <td>19631.672432</td>\n",
              "      <td>1</td>\n",
              "      <td>3.0</td>\n",
              "      <td>1</td>\n",
              "      <td>3</td>\n",
              "      <td>[R]</td>\n",
              "      <td>0</td>\n",
              "      <td>...</td>\n",
              "      <td>0</td>\n",
              "      <td>0</td>\n",
              "      <td>0</td>\n",
              "      <td>0</td>\n",
              "      <td>0</td>\n",
              "      <td>0</td>\n",
              "      <td>0</td>\n",
              "      <td>0</td>\n",
              "      <td>0</td>\n",
              "      <td>0</td>\n",
              "    </tr>\n",
              "    <tr>\n",
              "      <th>1</th>\n",
              "      <td>2</td>\n",
              "      <td>1</td>\n",
              "      <td>NaN</td>\n",
              "      <td>5609.049266</td>\n",
              "      <td>2</td>\n",
              "      <td>5.0</td>\n",
              "      <td>1</td>\n",
              "      <td>3</td>\n",
              "      <td>[Python, Java, Scala, NoSQL, performance metri...</td>\n",
              "      <td>0</td>\n",
              "      <td>...</td>\n",
              "      <td>0</td>\n",
              "      <td>0</td>\n",
              "      <td>0</td>\n",
              "      <td>0</td>\n",
              "      <td>0</td>\n",
              "      <td>0</td>\n",
              "      <td>0</td>\n",
              "      <td>0</td>\n",
              "      <td>0</td>\n",
              "      <td>0</td>\n",
              "    </tr>\n",
              "    <tr>\n",
              "      <th>2</th>\n",
              "      <td>2</td>\n",
              "      <td>1</td>\n",
              "      <td>NaN</td>\n",
              "      <td>5609.049266</td>\n",
              "      <td>2</td>\n",
              "      <td>6.0</td>\n",
              "      <td>1</td>\n",
              "      <td>3</td>\n",
              "      <td>[asp, Go, HTML, server, Git, C, R, CSS, C#, My...</td>\n",
              "      <td>0</td>\n",
              "      <td>...</td>\n",
              "      <td>0</td>\n",
              "      <td>0</td>\n",
              "      <td>0</td>\n",
              "      <td>0</td>\n",
              "      <td>0</td>\n",
              "      <td>0</td>\n",
              "      <td>0</td>\n",
              "      <td>0</td>\n",
              "      <td>0</td>\n",
              "      <td>0</td>\n",
              "    </tr>\n",
              "    <tr>\n",
              "      <th>3</th>\n",
              "      <td>4</td>\n",
              "      <td>1</td>\n",
              "      <td>37393.661774</td>\n",
              "      <td>21033.934748</td>\n",
              "      <td>2</td>\n",
              "      <td>5.0</td>\n",
              "      <td>1</td>\n",
              "      <td>3</td>\n",
              "      <td>[ML, Java, UX, D, C, R, Excel, CSS, HTML, DevO...</td>\n",
              "      <td>0</td>\n",
              "      <td>...</td>\n",
              "      <td>0</td>\n",
              "      <td>0</td>\n",
              "      <td>0</td>\n",
              "      <td>0</td>\n",
              "      <td>0</td>\n",
              "      <td>0</td>\n",
              "      <td>0</td>\n",
              "      <td>0</td>\n",
              "      <td>0</td>\n",
              "      <td>0</td>\n",
              "    </tr>\n",
              "    <tr>\n",
              "      <th>4</th>\n",
              "      <td>4</td>\n",
              "      <td>1</td>\n",
              "      <td>39730.765635</td>\n",
              "      <td>23371.038609</td>\n",
              "      <td>2</td>\n",
              "      <td>5.0</td>\n",
              "      <td>1</td>\n",
              "      <td>3</td>\n",
              "      <td>[Databases, MongoDB, NoSQL, D, C, .NET, Go, R,...</td>\n",
              "      <td>0</td>\n",
              "      <td>...</td>\n",
              "      <td>0</td>\n",
              "      <td>0</td>\n",
              "      <td>0</td>\n",
              "      <td>0</td>\n",
              "      <td>0</td>\n",
              "      <td>0</td>\n",
              "      <td>0</td>\n",
              "      <td>0</td>\n",
              "      <td>0</td>\n",
              "      <td>0</td>\n",
              "    </tr>\n",
              "  </tbody>\n",
              "</table>\n",
              "<p>5 rows × 28 columns</p>\n",
              "</div>\n",
              "      <button class=\"colab-df-convert\" onclick=\"convertToInteractive('df-12fe75e3-72f4-4092-a436-44d0b38e99ed')\"\n",
              "              title=\"Convert this dataframe to an interactive table.\"\n",
              "              style=\"display:none;\">\n",
              "        \n",
              "  <svg xmlns=\"http://www.w3.org/2000/svg\" height=\"24px\"viewBox=\"0 0 24 24\"\n",
              "       width=\"24px\">\n",
              "    <path d=\"M0 0h24v24H0V0z\" fill=\"none\"/>\n",
              "    <path d=\"M18.56 5.44l.94 2.06.94-2.06 2.06-.94-2.06-.94-.94-2.06-.94 2.06-2.06.94zm-11 1L8.5 8.5l.94-2.06 2.06-.94-2.06-.94L8.5 2.5l-.94 2.06-2.06.94zm10 10l.94 2.06.94-2.06 2.06-.94-2.06-.94-.94-2.06-.94 2.06-2.06.94z\"/><path d=\"M17.41 7.96l-1.37-1.37c-.4-.4-.92-.59-1.43-.59-.52 0-1.04.2-1.43.59L10.3 9.45l-7.72 7.72c-.78.78-.78 2.05 0 2.83L4 21.41c.39.39.9.59 1.41.59.51 0 1.02-.2 1.41-.59l7.78-7.78 2.81-2.81c.8-.78.8-2.07 0-2.86zM5.41 20L4 18.59l7.72-7.72 1.47 1.35L5.41 20z\"/>\n",
              "  </svg>\n",
              "      </button>\n",
              "      \n",
              "  <style>\n",
              "    .colab-df-container {\n",
              "      display:flex;\n",
              "      flex-wrap:wrap;\n",
              "      gap: 12px;\n",
              "    }\n",
              "\n",
              "    .colab-df-convert {\n",
              "      background-color: #E8F0FE;\n",
              "      border: none;\n",
              "      border-radius: 50%;\n",
              "      cursor: pointer;\n",
              "      display: none;\n",
              "      fill: #1967D2;\n",
              "      height: 32px;\n",
              "      padding: 0 0 0 0;\n",
              "      width: 32px;\n",
              "    }\n",
              "\n",
              "    .colab-df-convert:hover {\n",
              "      background-color: #E2EBFA;\n",
              "      box-shadow: 0px 1px 2px rgba(60, 64, 67, 0.3), 0px 1px 3px 1px rgba(60, 64, 67, 0.15);\n",
              "      fill: #174EA6;\n",
              "    }\n",
              "\n",
              "    [theme=dark] .colab-df-convert {\n",
              "      background-color: #3B4455;\n",
              "      fill: #D2E3FC;\n",
              "    }\n",
              "\n",
              "    [theme=dark] .colab-df-convert:hover {\n",
              "      background-color: #434B5C;\n",
              "      box-shadow: 0px 1px 3px 1px rgba(0, 0, 0, 0.15);\n",
              "      filter: drop-shadow(0px 1px 2px rgba(0, 0, 0, 0.3));\n",
              "      fill: #FFFFFF;\n",
              "    }\n",
              "  </style>\n",
              "\n",
              "      <script>\n",
              "        const buttonEl =\n",
              "          document.querySelector('#df-12fe75e3-72f4-4092-a436-44d0b38e99ed button.colab-df-convert');\n",
              "        buttonEl.style.display =\n",
              "          google.colab.kernel.accessAllowed ? 'block' : 'none';\n",
              "\n",
              "        async function convertToInteractive(key) {\n",
              "          const element = document.querySelector('#df-12fe75e3-72f4-4092-a436-44d0b38e99ed');\n",
              "          const dataTable =\n",
              "            await google.colab.kernel.invokeFunction('convertToInteractive',\n",
              "                                                     [key], {});\n",
              "          if (!dataTable) return;\n",
              "\n",
              "          const docLinkHtml = 'Like what you see? Visit the ' +\n",
              "            '<a target=\"_blank\" href=https://colab.research.google.com/notebooks/data_table.ipynb>data table notebook</a>'\n",
              "            + ' to learn more about interactive tables.';\n",
              "          element.innerHTML = '';\n",
              "          dataTable['output_type'] = 'display_data';\n",
              "          await google.colab.output.renderOutput(dataTable, element);\n",
              "          const docLink = document.createElement('div');\n",
              "          docLink.innerHTML = docLinkHtml;\n",
              "          element.appendChild(docLink);\n",
              "        }\n",
              "      </script>\n",
              "    </div>\n",
              "  </div>\n",
              "  "
            ]
          },
          "metadata": {},
          "execution_count": 41
        }
      ],
      "source": [
        "df.head()"
      ]
    },
    {
      "cell_type": "code",
      "execution_count": null,
      "id": "558a4c9b",
      "metadata": {
        "id": "558a4c9b"
      },
      "outputs": [],
      "source": []
    },
    {
      "cell_type": "code",
      "execution_count": null,
      "id": "-801LKgj6tES",
      "metadata": {
        "id": "-801LKgj6tES"
      },
      "outputs": [],
      "source": [
        "# Populating the each skills with 1 if a particular role required the skill and 0 if otherwise\n",
        "i = 0\n",
        "for skills_list in df.skills_list:\n",
        "        for skill in skills_list:\n",
        "            if skill in Most_popular_skills:\n",
        "            #skill = skill.strip()\n",
        "                df.loc[i, skill] = 1\n",
        "        i +=1"
      ]
    },
    {
      "cell_type": "code",
      "execution_count": null,
      "id": "ecf74a28",
      "metadata": {
        "id": "ecf74a28"
      },
      "outputs": [],
      "source": [
        "# Dropping the skills list column\n",
        "df.drop([\"skills_list\"], axis=\"columns\", inplace = True)"
      ]
    },
    {
      "cell_type": "code",
      "execution_count": null,
      "id": "d15cabdf",
      "metadata": {
        "id": "d15cabdf"
      },
      "outputs": [],
      "source": [
        "#df1.dropna(subset=[\"upper_salary\"], inplace = True)"
      ]
    },
    {
      "cell_type": "code",
      "execution_count": null,
      "id": "ae51d3eb",
      "metadata": {
        "colab": {
          "base_uri": "https://localhost:8080/"
        },
        "id": "ae51d3eb",
        "outputId": "428d1124-ba2b-4bac-d511-53295bb79180"
      },
      "outputs": [
        {
          "output_type": "stream",
          "name": "stdout",
          "text": [
            "[IterativeImputer] Completing matrix with shape (1902, 27)\n",
            "[IterativeImputer] Ending imputation round 1/20, elapsed time 0.17\n",
            "[IterativeImputer] Change: 512533.9629877543, scaled tolerance: 1600.0 \n",
            "[IterativeImputer] Ending imputation round 2/20, elapsed time 0.32\n",
            "[IterativeImputer] Change: 0.0, scaled tolerance: 1600.0 \n",
            "[IterativeImputer] Early stopping criterion reached.\n"
          ]
        }
      ],
      "source": [
        "# Fill the missing values for upper salary using an iterative imputer\n",
        "from sklearn.experimental import enable_iterative_imputer\n",
        "from sklearn.impute       import IterativeImputer\n",
        "#from catboost             import CatBoostRegressor\n",
        "\n",
        "imputer = IterativeImputer(\n",
        "                            verbose   = 2,\n",
        "                            max_iter  = 20,\n",
        "                            imputation_order = 'descending' )\n",
        "\n",
        "\n",
        "df2 = pd.DataFrame(imputer.fit_transform(df), columns = df.columns) # preserve the column nam"
      ]
    },
    {
      "cell_type": "markdown",
      "id": "6e795dba",
      "metadata": {
        "id": "6e795dba"
      },
      "source": [
        "### Features"
      ]
    },
    {
      "cell_type": "code",
      "execution_count": null,
      "id": "5cd96105",
      "metadata": {
        "colab": {
          "base_uri": "https://localhost:8080/"
        },
        "id": "5cd96105",
        "outputId": "4c0ec1fd-1af1-4c7a-b9c5-7b1aa03a9c3a"
      },
      "outputs": [
        {
          "output_type": "stream",
          "name": "stdout",
          "text": [
            "{0: 'title scraped for', 1: 'Country', 2: 'Position', 3: 'year_of_exp', 4: 'contract_type', 5: 'eligibility', 6: 'R', 7: 'Go', 8: 'Python', 9: 'Vi', 10: 'D', 11: 'Tableau', 12: 'PHP', 13: 'Statistics', 14: 'Excel', 15: 'ML', 16: 'Java', 17: 'MS Office', 18: 'SQL', 19: 'C', 20: 'AWS', 21: 'CSS', 22: 'HTML', 23: 'BA', 24: 'client'}\n"
          ]
        }
      ],
      "source": [
        "# Saving all the features used in developing the model to a dictionary in the order they were used\n",
        "features_dict = {}\n",
        "i = 0\n",
        "for feature in list(df2.drop([\"lower_salary\", \"upper_salary\"], axis=\"columns\").columns):\n",
        "    features_dict[i] = feature\n",
        "    i +=1\n",
        "    \n",
        "print(features_dict)"
      ]
    },
    {
      "cell_type": "code",
      "execution_count": null,
      "id": "d3f59f2c",
      "metadata": {
        "id": "d3f59f2c"
      },
      "outputs": [],
      "source": [
        "# Extracting the features and target variable\n",
        "y = df2[[\"lower_salary\", \"upper_salary\"]].values\n",
        "X = df2.drop([\"lower_salary\", \"upper_salary\"], axis=\"columns\")"
      ]
    },
    {
      "cell_type": "code",
      "execution_count": null,
      "id": "0ce0617d",
      "metadata": {
        "colab": {
          "base_uri": "https://localhost:8080/"
        },
        "id": "0ce0617d",
        "outputId": "d185f428-f900-41d4-b16a-621a788801d5"
      },
      "outputs": [
        {
          "name": "stdout",
          "output_type": "stream",
          "text": [
            "Train set: (1521, 25) (1521, 2)\n",
            "Test set: (381, 25) (381, 2)\n"
          ]
        }
      ],
      "source": [
        "# Normalizing the data\n",
        "Scaler= StandardScaler().fit(X)\n",
        "pickle.dump(Scaler, open('scaler.pkl', 'wb'))\n",
        "X = Scaler.transform(X)\n",
        "X_train, X_test, y_train, y_test = train_test_split( X, y, test_size=0.2, random_state=4)\n",
        "print ('Train set:', X_train.shape,  y_train.shape)\n",
        "print ('Test set:', X_test.shape,  y_test.shape)"
      ]
    },
    {
      "cell_type": "markdown",
      "id": "d2c3bae8",
      "metadata": {
        "id": "d2c3bae8"
      },
      "source": [
        "### Using Linear Regression"
      ]
    },
    {
      "cell_type": "code",
      "execution_count": null,
      "id": "6a83acb4",
      "metadata": {
        "colab": {
          "base_uri": "https://localhost:8080/"
        },
        "id": "6a83acb4",
        "outputId": "eca0b026-4b89-443f-f6b1-eac581d40612"
      },
      "outputs": [
        {
          "data": {
            "text/html": [
              "<style>#sk-container-id-1 {color: black;background-color: white;}#sk-container-id-1 pre{padding: 0;}#sk-container-id-1 div.sk-toggleable {background-color: white;}#sk-container-id-1 label.sk-toggleable__label {cursor: pointer;display: block;width: 100%;margin-bottom: 0;padding: 0.3em;box-sizing: border-box;text-align: center;}#sk-container-id-1 label.sk-toggleable__label-arrow:before {content: \"▸\";float: left;margin-right: 0.25em;color: #696969;}#sk-container-id-1 label.sk-toggleable__label-arrow:hover:before {color: black;}#sk-container-id-1 div.sk-estimator:hover label.sk-toggleable__label-arrow:before {color: black;}#sk-container-id-1 div.sk-toggleable__content {max-height: 0;max-width: 0;overflow: hidden;text-align: left;background-color: #f0f8ff;}#sk-container-id-1 div.sk-toggleable__content pre {margin: 0.2em;color: black;border-radius: 0.25em;background-color: #f0f8ff;}#sk-container-id-1 input.sk-toggleable__control:checked~div.sk-toggleable__content {max-height: 200px;max-width: 100%;overflow: auto;}#sk-container-id-1 input.sk-toggleable__control:checked~label.sk-toggleable__label-arrow:before {content: \"▾\";}#sk-container-id-1 div.sk-estimator input.sk-toggleable__control:checked~label.sk-toggleable__label {background-color: #d4ebff;}#sk-container-id-1 div.sk-label input.sk-toggleable__control:checked~label.sk-toggleable__label {background-color: #d4ebff;}#sk-container-id-1 input.sk-hidden--visually {border: 0;clip: rect(1px 1px 1px 1px);clip: rect(1px, 1px, 1px, 1px);height: 1px;margin: -1px;overflow: hidden;padding: 0;position: absolute;width: 1px;}#sk-container-id-1 div.sk-estimator {font-family: monospace;background-color: #f0f8ff;border: 1px dotted black;border-radius: 0.25em;box-sizing: border-box;margin-bottom: 0.5em;}#sk-container-id-1 div.sk-estimator:hover {background-color: #d4ebff;}#sk-container-id-1 div.sk-parallel-item::after {content: \"\";width: 100%;border-bottom: 1px solid gray;flex-grow: 1;}#sk-container-id-1 div.sk-label:hover label.sk-toggleable__label {background-color: #d4ebff;}#sk-container-id-1 div.sk-serial::before {content: \"\";position: absolute;border-left: 1px solid gray;box-sizing: border-box;top: 0;bottom: 0;left: 50%;z-index: 0;}#sk-container-id-1 div.sk-serial {display: flex;flex-direction: column;align-items: center;background-color: white;padding-right: 0.2em;padding-left: 0.2em;position: relative;}#sk-container-id-1 div.sk-item {position: relative;z-index: 1;}#sk-container-id-1 div.sk-parallel {display: flex;align-items: stretch;justify-content: center;background-color: white;position: relative;}#sk-container-id-1 div.sk-item::before, #sk-container-id-1 div.sk-parallel-item::before {content: \"\";position: absolute;border-left: 1px solid gray;box-sizing: border-box;top: 0;bottom: 0;left: 50%;z-index: -1;}#sk-container-id-1 div.sk-parallel-item {display: flex;flex-direction: column;z-index: 1;position: relative;background-color: white;}#sk-container-id-1 div.sk-parallel-item:first-child::after {align-self: flex-end;width: 50%;}#sk-container-id-1 div.sk-parallel-item:last-child::after {align-self: flex-start;width: 50%;}#sk-container-id-1 div.sk-parallel-item:only-child::after {width: 0;}#sk-container-id-1 div.sk-dashed-wrapped {border: 1px dashed gray;margin: 0 0.4em 0.5em 0.4em;box-sizing: border-box;padding-bottom: 0.4em;background-color: white;}#sk-container-id-1 div.sk-label label {font-family: monospace;font-weight: bold;display: inline-block;line-height: 1.2em;}#sk-container-id-1 div.sk-label-container {text-align: center;}#sk-container-id-1 div.sk-container {/* jupyter's `normalize.less` sets `[hidden] { display: none; }` but bootstrap.min.css set `[hidden] { display: none !important; }` so we also need the `!important` here to be able to override the default hidden behavior on the sphinx rendered scikit-learn.org. See: https://github.com/scikit-learn/scikit-learn/issues/21755 */display: inline-block !important;position: relative;}#sk-container-id-1 div.sk-text-repr-fallback {display: none;}</style><div id=\"sk-container-id-1\" class=\"sk-top-container\"><div class=\"sk-text-repr-fallback\"><pre>LinearRegression()</pre><b>In a Jupyter environment, please rerun this cell to show the HTML representation or trust the notebook. <br />On GitHub, the HTML representation is unable to render, please try loading this page with nbviewer.org.</b></div><div class=\"sk-container\" hidden><div class=\"sk-item\"><div class=\"sk-estimator sk-toggleable\"><input class=\"sk-toggleable__control sk-hidden--visually\" id=\"sk-estimator-id-1\" type=\"checkbox\" checked><label for=\"sk-estimator-id-1\" class=\"sk-toggleable__label sk-toggleable__label-arrow\">LinearRegression</label><div class=\"sk-toggleable__content\"><pre>LinearRegression()</pre></div></div></div></div></div>"
            ],
            "text/plain": [
              "LinearRegression()"
            ]
          },
          "execution_count": 49,
          "metadata": {},
          "output_type": "execute_result"
        }
      ],
      "source": [
        "Lr = LinearRegression()\n",
        "Lr.fit(X_train,y_train)"
      ]
    },
    {
      "cell_type": "code",
      "execution_count": null,
      "id": "b64df61a",
      "metadata": {
        "id": "b64df61a",
        "outputId": "445e54b7-24ae-40f7-8ea2-6230a1bae906"
      },
      "outputs": [
        {
          "data": {
            "text/plain": [
              "0.7247164153085273"
            ]
          },
          "execution_count": 50,
          "metadata": {},
          "output_type": "execute_result"
        }
      ],
      "source": [
        "yhat = Lr.predict(X_test)\n",
        "r2_score(y_test, yhat)"
      ]
    },
    {
      "cell_type": "code",
      "execution_count": null,
      "id": "19397911",
      "metadata": {
        "id": "19397911",
        "outputId": "25d43459-ad6e-44df-9928-9ee1abbdd9be"
      },
      "outputs": [
        {
          "data": {
            "text/plain": [
              "665852020.4005077"
            ]
          },
          "execution_count": 51,
          "metadata": {},
          "output_type": "execute_result"
        }
      ],
      "source": [
        "mean_squared_error(y_test, yhat)"
      ]
    },
    {
      "cell_type": "markdown",
      "id": "9f1ad3e3",
      "metadata": {
        "id": "9f1ad3e3"
      },
      "source": [
        "### Saving the model"
      ]
    },
    {
      "cell_type": "raw",
      "id": "161c29ae",
      "metadata": {
        "id": "161c29ae"
      },
      "source": [
        "import pickle\n",
        "filename = 'firstbasicmodel.pkl'\n",
        "pickle.dump(Lr, open(filename, 'wb'))"
      ]
    },
    {
      "cell_type": "markdown",
      "id": "0f14bf4c",
      "metadata": {
        "id": "0f14bf4c"
      },
      "source": [
        "### Using Rigdge Regression model"
      ]
    },
    {
      "cell_type": "code",
      "execution_count": null,
      "id": "04eea898",
      "metadata": {
        "id": "04eea898"
      },
      "outputs": [],
      "source": [
        "# Determing the optimum alpha for the ridge regression model\n",
        "from sklearn.linear_model import Ridge\n",
        "rscore = []\n",
        "for alpha in range(1000):\n",
        "    ridge_reg = Ridge(alpha=alpha)\n",
        "    ridge_reg.fit(X_train,y_train)\n",
        "    yhat = ridge_reg.predict(X_test)\n",
        "    rscore_ = r2_score(y_test, yhat)\n",
        "    rscore.append(rscore_)\n",
        "rscore = np.array(rscore)"
      ]
    },
    {
      "cell_type": "code",
      "execution_count": null,
      "id": "c5b66c70",
      "metadata": {
        "id": "c5b66c70",
        "outputId": "8663259e-742f-4b29-d536-3cccd8849b59"
      },
      "outputs": [
        {
          "data": {
            "image/png": "[encoded data removed]",
            "text/plain": [
              "<Figure size 432x288 with 1 Axes>"
            ]
          },
          "metadata": {
            "needs_background": "light"
          },
          "output_type": "display_data"
        },
        {
          "data": {
            "text/plain": [
              "<Figure size 432x288 with 0 Axes>"
            ]
          },
          "metadata": {},
          "output_type": "display_data"
        }
      ],
      "source": [
        "# Making a plot of the rscore of each alpha from 0 to 1000\n",
        "import matplotlib.pyplot as plt\n",
        "plt.plot(rscore)\n",
        "plt.xlabel(\"Alpha\")\n",
        "plt.ylabel(\"rscore\")\n",
        "plt.show()\n",
        "plt.clf()"
      ]
    },
    {
      "cell_type": "code",
      "execution_count": null,
      "id": "ba30e713",
      "metadata": {
        "id": "ba30e713",
        "outputId": "be643897-eb15-459b-ac1c-72fe1983e5c2"
      },
      "outputs": [
        {
          "data": {
            "text/plain": [
              "0.7344009049567418"
            ]
          },
          "execution_count": 54,
          "metadata": {},
          "output_type": "execute_result"
        }
      ],
      "source": [
        "# Using the optimum alpha for developing the model\n",
        "ridge_reg = Ridge(alpha=rscore.argmax())\n",
        "ridge_reg.fit(X_train,y_train)\n",
        "yhat = ridge_reg.predict(X_test)\n",
        "r2_score(y_test, yhat)"
      ]
    },
    {
      "cell_type": "code",
      "execution_count": null,
      "id": "ef2fab93",
      "metadata": {
        "id": "ef2fab93",
        "outputId": "1eec0c52-7cd1-4190-a287-f03f22c3f0d7"
      },
      "outputs": [
        {
          "data": {
            "text/plain": [
              "644317519.4215488"
            ]
          },
          "execution_count": 55,
          "metadata": {},
          "output_type": "execute_result"
        }
      ],
      "source": [
        "# Determining the mean squared loss of the model\n",
        "mean_squared_error(y_test, yhat)"
      ]
    },
    {
      "cell_type": "code",
      "execution_count": null,
      "id": "69eee766",
      "metadata": {
        "id": "69eee766",
        "outputId": "2cef03c2-de65-4038-805a-21289e7cc210"
      },
      "outputs": [
        {
          "name": "stderr",
          "output_type": "stream",
          "text": [
            "C:\\Users\\Ovie R. Iboyitie\\AppData\\Local\\Temp\\ipykernel_6892\\1327035327.py:6: UserWarning: With alpha=0, this algorithm does not converge well. You are advised to use the LinearRegression estimator\n",
            "  lasso_reg.fit(X_train, y_train)\n",
            "C:\\ProgramData\\Anaconda3\\lib\\site-packages\\sklearn\\linear_model\\_coordinate_descent.py:648: UserWarning: Coordinate descent with no regularization may lead to unexpected results and is discouraged.\n",
            "  model = cd_fast.enet_coordinate_descent(\n",
            "C:\\ProgramData\\Anaconda3\\lib\\site-packages\\sklearn\\linear_model\\_coordinate_descent.py:648: ConvergenceWarning: Objective did not converge. You might want to increase the number of iterations, check the scale of the features or consider increasing regularisation. Duality gap: 2.237e+12, tolerance: 7.273e+08 Linear regression models with null weight for the l1 regularization term are more efficiently fitted using one of the solvers implemented in sklearn.linear_model.Ridge/RidgeCV instead.\n",
            "  model = cd_fast.enet_coordinate_descent(\n",
            "C:\\ProgramData\\Anaconda3\\lib\\site-packages\\sklearn\\linear_model\\_coordinate_descent.py:648: ConvergenceWarning: Objective did not converge. You might want to increase the number of iterations, check the scale of the features or consider increasing regularisation. Duality gap: 1.266e+12, tolerance: 6.218e+08 Linear regression models with null weight for the l1 regularization term are more efficiently fitted using one of the solvers implemented in sklearn.linear_model.Ridge/RidgeCV instead.\n",
            "  model = cd_fast.enet_coordinate_descent(\n"
          ]
        }
      ],
      "source": [
        "# Determing the optimum alpha for the lasso regression model\n",
        "from sklearn.linear_model import Lasso\n",
        "rscore = []\n",
        "for alpha in range(5000):\n",
        "    lasso_reg = Lasso(alpha=alpha)\n",
        "    lasso_reg.fit(X_train, y_train)\n",
        "    yhat = lasso_reg.predict(X_test)\n",
        "    rscore_ = r2_score(y_test, yhat)\n",
        "    rscore.append(rscore_)\n",
        "rscore = np.array(rscore)"
      ]
    },
    {
      "cell_type": "code",
      "execution_count": null,
      "id": "498427d1",
      "metadata": {
        "id": "498427d1",
        "outputId": "fb2cfdeb-dbbf-471e-8da2-6585b3fe35d0"
      },
      "outputs": [
        {
          "data": {
            "image/png": "[encoded data removed]",
            "text/plain": [
              "<Figure size 432x288 with 1 Axes>"
            ]
          },
          "metadata": {
            "needs_background": "light"
          },
          "output_type": "display_data"
        },
        {
          "data": {
            "text/plain": [
              "<Figure size 432x288 with 0 Axes>"
            ]
          },
          "metadata": {},
          "output_type": "display_data"
        }
      ],
      "source": [
        "# Making a plot of the rscore of each alpha from 0 to 5000\n",
        "plt.plot(rscore)\n",
        "plt.xlabel(\"Alpha\")\n",
        "plt.ylabel(\"rscore\")\n",
        "plt.show()\n",
        "plt.clf()"
      ]
    },
    {
      "cell_type": "code",
      "execution_count": null,
      "id": "45d08330",
      "metadata": {
        "id": "45d08330",
        "outputId": "bd98d167-8fe2-4fc3-df2a-d932c7461ff8"
      },
      "outputs": [
        {
          "data": {
            "text/plain": [
              "0.7528088928500721"
            ]
          },
          "execution_count": 58,
          "metadata": {},
          "output_type": "execute_result"
        }
      ],
      "source": [
        "lasso_reg = Lasso(alpha=rscore.argmax())\n",
        "lasso_reg.fit(X_train, y_train)\n",
        "yhat = lasso_reg.predict(X_test)\n",
        "r2_score(y_test, yhat)"
      ]
    },
    {
      "cell_type": "code",
      "execution_count": null,
      "id": "389512d3",
      "metadata": {
        "id": "389512d3",
        "outputId": "090d7599-a21e-4ce7-8cf5-0701bb3c28eb"
      },
      "outputs": [
        {
          "data": {
            "text/plain": [
              "602262273.3831125"
            ]
          },
          "execution_count": 59,
          "metadata": {},
          "output_type": "execute_result"
        }
      ],
      "source": [
        "mean_squared_error(y_test, yhat)"
      ]
    },
    {
      "cell_type": "code",
      "execution_count": null,
      "id": "5ffd73ad",
      "metadata": {
        "id": "5ffd73ad"
      },
      "outputs": [],
      "source": []
    }
  ],
  "metadata": {
    "colab": {
      "collapsed_sections": [],
      "provenance": [],
      "include_colab_link": true
    },
    "kernelspec": {
      "display_name": "Python 3 (ipykernel)",
      "language": "python",
      "name": "python3"
    },
    "language_info": {
      "codemirror_mode": {
        "name": "ipython",
        "version": 3
      },
      "file_extension": ".py",
      "mimetype": "text/x-python",
      "name": "python",
      "nbconvert_exporter": "python",
      "pygments_lexer": "ipython3",
      "version": "3.9.7"
    }
  },
  "nbformat": 4,
  "nbformat_minor": 5
}
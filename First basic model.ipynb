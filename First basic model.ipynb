{
 "cells": [
  {
   "cell_type": "code",
   "execution_count": 1,
   "id": "79774ec1",
   "metadata": {},
   "outputs": [],
   "source": [
    "import pandas as pd\n",
    "import numpy as np\n",
    "from sklearn.linear_model import LinearRegression\n",
    "from sklearn.model_selection import train_test_split\n",
    "from sklearn.preprocessing import StandardScaler\n",
    "import seaborn as sns"
   ]
  },
  {
   "cell_type": "code",
   "execution_count": 2,
   "id": "7fae356f",
   "metadata": {},
   "outputs": [],
   "source": [
    "df = pd.read_csv(\"Cleaned Data.csv\")"
   ]
  },
  {
   "cell_type": "code",
   "execution_count": 3,
   "id": "b1550afb",
   "metadata": {},
   "outputs": [
    {
     "data": {
      "text/html": [
       "<div>\n",
       "<style scoped>\n",
       "    .dataframe tbody tr th:only-of-type {\n",
       "        vertical-align: middle;\n",
       "    }\n",
       "\n",
       "    .dataframe tbody tr th {\n",
       "        vertical-align: top;\n",
       "    }\n",
       "\n",
       "    .dataframe thead th {\n",
       "        text-align: right;\n",
       "    }\n",
       "</style>\n",
       "<table border=\"1\" class=\"dataframe\">\n",
       "  <thead>\n",
       "    <tr style=\"text-align: right;\">\n",
       "      <th></th>\n",
       "      <th>company</th>\n",
       "      <th>location</th>\n",
       "      <th>title scraped for</th>\n",
       "      <th>Country</th>\n",
       "      <th>State</th>\n",
       "      <th>age</th>\n",
       "      <th>Position</th>\n",
       "      <th>upper_salary</th>\n",
       "      <th>lower_salary</th>\n",
       "      <th>payment_frequency</th>\n",
       "      <th>year_of_exp</th>\n",
       "      <th>contract_type</th>\n",
       "      <th>eligibility</th>\n",
       "      <th>title_cleaned</th>\n",
       "      <th>skills_list</th>\n",
       "    </tr>\n",
       "  </thead>\n",
       "  <tbody>\n",
       "    <tr>\n",
       "      <th>0</th>\n",
       "      <td>Offerzen</td>\n",
       "      <td>Lagos</td>\n",
       "      <td>Data Scientist</td>\n",
       "      <td>Nigeria</td>\n",
       "      <td>Lagos</td>\n",
       "      <td>NaN</td>\n",
       "      <td>Senior Level</td>\n",
       "      <td>NaN</td>\n",
       "      <td>NaN</td>\n",
       "      <td>NaN</td>\n",
       "      <td>5.0</td>\n",
       "      <td>Full-time</td>\n",
       "      <td>NaN</td>\n",
       "      <td>Senior Software Engineer</td>\n",
       "      <td>['asp', 'AWS', 'R', 'D', 'C']</td>\n",
       "    </tr>\n",
       "    <tr>\n",
       "      <th>1</th>\n",
       "      <td>GVA Partners</td>\n",
       "      <td>Lagos</td>\n",
       "      <td>Data Scientist</td>\n",
       "      <td>Nigeria</td>\n",
       "      <td>Lagos</td>\n",
       "      <td>NaN</td>\n",
       "      <td>NaN</td>\n",
       "      <td>NaN</td>\n",
       "      <td>NaN</td>\n",
       "      <td>NaN</td>\n",
       "      <td>4.0</td>\n",
       "      <td>NaN</td>\n",
       "      <td>undergraduate</td>\n",
       "      <td>Data Scientist</td>\n",
       "      <td>['Flask', 'MySQL', 'Keras', 'R', 'server', 'Ex...</td>\n",
       "    </tr>\n",
       "  </tbody>\n",
       "</table>\n",
       "</div>"
      ],
      "text/plain": [
       "        company location title scraped for  Country  State  age      Position  \\\n",
       "0      Offerzen    Lagos    Data Scientist  Nigeria  Lagos  NaN  Senior Level   \n",
       "1  GVA Partners    Lagos    Data Scientist  Nigeria  Lagos  NaN           NaN   \n",
       "\n",
       "   upper_salary  lower_salary payment_frequency  year_of_exp contract_type  \\\n",
       "0           NaN           NaN               NaN          5.0     Full-time   \n",
       "1           NaN           NaN               NaN          4.0           NaN   \n",
       "\n",
       "     eligibility             title_cleaned  \\\n",
       "0            NaN  Senior Software Engineer   \n",
       "1  undergraduate            Data Scientist   \n",
       "\n",
       "                                         skills_list  \n",
       "0                      ['asp', 'AWS', 'R', 'D', 'C']  \n",
       "1  ['Flask', 'MySQL', 'Keras', 'R', 'server', 'Ex...  "
      ]
     },
     "execution_count": 3,
     "metadata": {},
     "output_type": "execute_result"
    }
   ],
   "source": [
    "df.head(2)"
   ]
  },
  {
   "cell_type": "code",
   "execution_count": 4,
   "id": "7c454f5f",
   "metadata": {},
   "outputs": [],
   "source": [
    "# Dropping records with missing values for lower salary range\n",
    "df.dropna(subset=[\"lower_salary\"], inplace = True)"
   ]
  },
  {
   "cell_type": "code",
   "execution_count": 5,
   "id": "3734bfec",
   "metadata": {},
   "outputs": [],
   "source": [
    "# Columns to drop\n",
    "columns_to_drop = [\"company\", \"location\", \"State\", \"age\"]"
   ]
  },
  {
   "cell_type": "code",
   "execution_count": 6,
   "id": "dec73f12",
   "metadata": {},
   "outputs": [],
   "source": [
    "# Drop unnecessary columns\n",
    "df.drop(columns_to_drop, axis=\"columns\", inplace = True)"
   ]
  },
  {
   "cell_type": "code",
   "execution_count": 7,
   "id": "8bdcc5cf",
   "metadata": {},
   "outputs": [],
   "source": [
    "# Selecting Job posting with years of experience less than 20 which is the 95th percentile of the Years of experience\n",
    "df = df.query(\"year_of_exp <= 20 \")"
   ]
  },
  {
   "cell_type": "code",
   "execution_count": 8,
   "id": "37534ab8",
   "metadata": {},
   "outputs": [],
   "source": [
    "# Defining a function the determines the Position based on the Years of Experience\n",
    "def position_based_on_yoe(df_YOE):\n",
    "    if df_YOE < 4:\n",
    "        return \"Entry Level\"\n",
    "    elif df_YOE > 4 and df_YOE < 7:\n",
    "        return \"Mid-Level\"\n",
    "    else:\n",
    "        return \"Senior Level\"\n",
    "        "
   ]
  },
  {
   "cell_type": "code",
   "execution_count": 9,
   "id": "dbb67d73",
   "metadata": {},
   "outputs": [],
   "source": [
    "# Filling the missing values for Position with \"Position based on Years of experience\"\n",
    "df[\"Position_based_on_YOE\"] = df.year_of_exp.apply(position_based_on_yoe)\n",
    "df.reset_index(drop = True, inplace = True)\n",
    "\n",
    "for i in range(df.shape[0]):\n",
    "    if df.iloc[i,2] is np.nan:\n",
    "        df.iloc[i,2] = df.iloc[i,-1]\n",
    "        \n",
    "df.drop('Position_based_on_YOE', axis= \"columns\", inplace = True)"
   ]
  },
  {
   "cell_type": "code",
   "execution_count": 10,
   "id": "1033c19f",
   "metadata": {},
   "outputs": [],
   "source": [
    "# Replace \"hs\" with \"high school diploma\" in eligibility\n",
    "df.eligibility.replace(\"hs\",'high school diploma', inplace = True)\n",
    "\n",
    "# Fill missing values for eligibility with \"high school diploma\"\n",
    "df.eligibility.fillna('high school diploma', inplace = True)"
   ]
  },
  {
   "cell_type": "code",
   "execution_count": 11,
   "id": "ec30d69b",
   "metadata": {},
   "outputs": [],
   "source": [
    "# Fill missing values for contract_type with the mode of contract_type\n",
    "df.contract_type.fillna(df.contract_type.mode()[0], inplace = True)"
   ]
  },
  {
   "cell_type": "code",
   "execution_count": 12,
   "id": "cc7c7c14",
   "metadata": {},
   "outputs": [],
   "source": [
    "# Creating an exchange rate for each country currency with respect to UD dollars\n",
    "Exchange_rate = {\"Nigeria\": 427.88,\n",
    "\"India\": 79.97,\n",
    "\"USA\": 1,\n",
    "\"UK\": 1.17}\n",
    "df[\"Exchange_rate\"] = df.Country.map(Exchange_rate)\n",
    "\n",
    "# Converting the salary currency for each Job to US dollars\n",
    "df.upper_salary = df.upper_salary / df.Exchange_rate\n",
    "df.lower_salary = df.lower_salary / df.Exchange_rate\n",
    "\n",
    "df.drop('Exchange_rate', axis= \"columns\", inplace = True)"
   ]
  },
  {
   "cell_type": "markdown",
   "id": "6b026c60",
   "metadata": {},
   "source": [
    "On exploring the salary for missing Payment frequency, it was discovered that the salary far exceeds the salary for hourly payment frequency and is far below the salary for minthly payment frequency. \n",
    "\n",
    "So the the missing values for payment frequency will be filled with \"Weekly\""
   ]
  },
  {
   "cell_type": "code",
   "execution_count": 13,
   "id": "64981df1",
   "metadata": {},
   "outputs": [],
   "source": [
    "# Filling the missing values for payment frequency with \"Weekly\"\n",
    "df.payment_frequency.fillna(\"Weekly\", inplace = True)"
   ]
  },
  {
   "cell_type": "code",
   "execution_count": 14,
   "id": "dbce5b30",
   "metadata": {},
   "outputs": [
    {
     "data": {
      "text/plain": [
       "(1837, 11)"
      ]
     },
     "execution_count": 14,
     "metadata": {},
     "output_type": "execute_result"
    }
   ],
   "source": [
    "df.shape"
   ]
  },
  {
   "cell_type": "code",
   "execution_count": 15,
   "id": "36d67562",
   "metadata": {},
   "outputs": [],
   "source": [
    "Frequency_to_yearly = {\"Hourly\": 40 * 52,\n",
    "\"Weekly\": 52,\n",
    "\"Monthly\": 12,\n",
    "\"Yearly\": 1}\n",
    "df[\"Frequency_to_yearly\"] = df.payment_frequency.map(Frequency_to_yearly)\n",
    "\n",
    "# Standardizing the payment frequency to Yearly\n",
    "df.upper_salary = df.upper_salary * df[\"Frequency_to_yearly\"]\n",
    "df.lower_salary = df.lower_salary * df[\"Frequency_to_yearly\"]\n",
    "df.drop('Frequency_to_yearly', axis= \"columns\", inplace = True)"
   ]
  },
  {
   "cell_type": "code",
   "execution_count": 16,
   "id": "58bd71b6",
   "metadata": {},
   "outputs": [],
   "source": [
    "df.drop([\"skills_list\",'title_cleaned'], axis=\"columns\", inplace = True)"
   ]
  },
  {
   "cell_type": "code",
   "execution_count": 17,
   "id": "ef64ba8a",
   "metadata": {},
   "outputs": [],
   "source": [
    "categorical_columns = [\"title scraped for\",'Country','Position','payment_frequency','contract_type','eligibility']\n",
    "df[categorical_columns] = df[categorical_columns].astype('category')\n",
    "df6 = df.copy()\n",
    "for x in categorical_columns:\n",
    "        df[x] = df[x].cat.codes\n",
    "   "
   ]
  },
  {
   "cell_type": "markdown",
   "id": "19491393",
   "metadata": {},
   "source": [
    "### Categorical Column Coding map"
   ]
  },
  {
   "cell_type": "code",
   "execution_count": 20,
   "id": "0cb2752f",
   "metadata": {},
   "outputs": [],
   "source": [
    "Title_scrapped_for  = dict(enumerate(df6['title scraped for'].cat.categories))\n",
    "COUNTRY  = dict(enumerate(df6['Country'].cat.categories))\n",
    "POSITION = dict(enumerate(df6['Position'].cat.categories))\n",
    "PAYMENT_FREQUENCY = dict(enumerate(df6['payment_frequency'].cat.categories))\n",
    "CONTRACT_TYPE = dict(enumerate(df6['contract_type'].cat.categories))\n",
    "ELIGIBILTY = dict(enumerate(df6['eligibility'].cat.categories))"
   ]
  },
  {
   "cell_type": "code",
   "execution_count": 21,
   "id": "dd819dce",
   "metadata": {},
   "outputs": [
    {
     "name": "stdout",
     "output_type": "stream",
     "text": [
      "[IterativeImputer] Completing matrix with shape (1837, 9)\n",
      "[IterativeImputer] Ending imputation round 1/20, elapsed time 0.05\n",
      "[IterativeImputer] Change: 501873.79591790173, scaled tolerance: 1600.0 \n",
      "[IterativeImputer] Ending imputation round 2/20, elapsed time 0.08\n",
      "[IterativeImputer] Change: 0.0, scaled tolerance: 1600.0 \n",
      "[IterativeImputer] Early stopping criterion reached.\n"
     ]
    }
   ],
   "source": [
    "# Fill the missing values for upper salary using an iterative imputer\n",
    "from sklearn.experimental import enable_iterative_imputer\n",
    "from sklearn.impute       import IterativeImputer\n",
    "#from catboost             import CatBoostRegressor\n",
    "\n",
    "imputer = IterativeImputer(\n",
    "                            verbose   = 2,\n",
    "                            max_iter  = 20,\n",
    "                            imputation_order = 'descending' )\n",
    "\n",
    "\n",
    "df2 = pd.DataFrame(imputer.fit_transform(df), columns = df.columns) # preserve the column nam"
   ]
  },
  {
   "cell_type": "markdown",
   "id": "c3ce6791",
   "metadata": {},
   "source": [
    "### Features"
   ]
  },
  {
   "cell_type": "code",
   "execution_count": 22,
   "id": "81bc9231",
   "metadata": {},
   "outputs": [
    {
     "name": "stdout",
     "output_type": "stream",
     "text": [
      "{0: 'title scraped for', 1: 'Country', 2: 'Position', 3: 'payment_frequency', 4: 'year_of_exp', 5: 'contract_type', 6: 'eligibility'}\n"
     ]
    }
   ],
   "source": [
    "features_dict = {}\n",
    "i = 0\n",
    "for feature in list(df2.drop([\"lower_salary\", \"upper_salary\"], axis=\"columns\").columns):\n",
    "    features_dict[i] = feature\n",
    "    i +=1\n",
    "    \n",
    "print(features_dict)"
   ]
  },
  {
   "cell_type": "code",
   "execution_count": 23,
   "id": "662cf85a",
   "metadata": {},
   "outputs": [],
   "source": [
    "# Extracting the features and target variable\n",
    "y = df2[[\"lower_salary\", \"upper_salary\"]].values\n",
    "X = df2.drop([\"lower_salary\", \"upper_salary\"], axis=\"columns\")"
   ]
  },
  {
   "cell_type": "code",
   "execution_count": 24,
   "id": "0dcc4abc",
   "metadata": {},
   "outputs": [
    {
     "name": "stdout",
     "output_type": "stream",
     "text": [
      "Train set: (1469, 7) (1469, 2)\n",
      "Test set: (368, 7) (368, 2)\n"
     ]
    }
   ],
   "source": [
    "# Normalizing the data\n",
    "X= StandardScaler().fit(X).transform(X)\n",
    "X_train, X_test, y_train, y_test = train_test_split( X, y, test_size=0.2, random_state=4)\n",
    "print ('Train set:', X_train.shape,  y_train.shape)\n",
    "print ('Test set:', X_test.shape,  y_test.shape)"
   ]
  },
  {
   "cell_type": "code",
   "execution_count": 25,
   "id": "5b11566b",
   "metadata": {},
   "outputs": [
    {
     "data": {
      "text/html": [
       "<style>#sk-container-id-1 {color: black;background-color: white;}#sk-container-id-1 pre{padding: 0;}#sk-container-id-1 div.sk-toggleable {background-color: white;}#sk-container-id-1 label.sk-toggleable__label {cursor: pointer;display: block;width: 100%;margin-bottom: 0;padding: 0.3em;box-sizing: border-box;text-align: center;}#sk-container-id-1 label.sk-toggleable__label-arrow:before {content: \"▸\";float: left;margin-right: 0.25em;color: #696969;}#sk-container-id-1 label.sk-toggleable__label-arrow:hover:before {color: black;}#sk-container-id-1 div.sk-estimator:hover label.sk-toggleable__label-arrow:before {color: black;}#sk-container-id-1 div.sk-toggleable__content {max-height: 0;max-width: 0;overflow: hidden;text-align: left;background-color: #f0f8ff;}#sk-container-id-1 div.sk-toggleable__content pre {margin: 0.2em;color: black;border-radius: 0.25em;background-color: #f0f8ff;}#sk-container-id-1 input.sk-toggleable__control:checked~div.sk-toggleable__content {max-height: 200px;max-width: 100%;overflow: auto;}#sk-container-id-1 input.sk-toggleable__control:checked~label.sk-toggleable__label-arrow:before {content: \"▾\";}#sk-container-id-1 div.sk-estimator input.sk-toggleable__control:checked~label.sk-toggleable__label {background-color: #d4ebff;}#sk-container-id-1 div.sk-label input.sk-toggleable__control:checked~label.sk-toggleable__label {background-color: #d4ebff;}#sk-container-id-1 input.sk-hidden--visually {border: 0;clip: rect(1px 1px 1px 1px);clip: rect(1px, 1px, 1px, 1px);height: 1px;margin: -1px;overflow: hidden;padding: 0;position: absolute;width: 1px;}#sk-container-id-1 div.sk-estimator {font-family: monospace;background-color: #f0f8ff;border: 1px dotted black;border-radius: 0.25em;box-sizing: border-box;margin-bottom: 0.5em;}#sk-container-id-1 div.sk-estimator:hover {background-color: #d4ebff;}#sk-container-id-1 div.sk-parallel-item::after {content: \"\";width: 100%;border-bottom: 1px solid gray;flex-grow: 1;}#sk-container-id-1 div.sk-label:hover label.sk-toggleable__label {background-color: #d4ebff;}#sk-container-id-1 div.sk-serial::before {content: \"\";position: absolute;border-left: 1px solid gray;box-sizing: border-box;top: 0;bottom: 0;left: 50%;z-index: 0;}#sk-container-id-1 div.sk-serial {display: flex;flex-direction: column;align-items: center;background-color: white;padding-right: 0.2em;padding-left: 0.2em;position: relative;}#sk-container-id-1 div.sk-item {position: relative;z-index: 1;}#sk-container-id-1 div.sk-parallel {display: flex;align-items: stretch;justify-content: center;background-color: white;position: relative;}#sk-container-id-1 div.sk-item::before, #sk-container-id-1 div.sk-parallel-item::before {content: \"\";position: absolute;border-left: 1px solid gray;box-sizing: border-box;top: 0;bottom: 0;left: 50%;z-index: -1;}#sk-container-id-1 div.sk-parallel-item {display: flex;flex-direction: column;z-index: 1;position: relative;background-color: white;}#sk-container-id-1 div.sk-parallel-item:first-child::after {align-self: flex-end;width: 50%;}#sk-container-id-1 div.sk-parallel-item:last-child::after {align-self: flex-start;width: 50%;}#sk-container-id-1 div.sk-parallel-item:only-child::after {width: 0;}#sk-container-id-1 div.sk-dashed-wrapped {border: 1px dashed gray;margin: 0 0.4em 0.5em 0.4em;box-sizing: border-box;padding-bottom: 0.4em;background-color: white;}#sk-container-id-1 div.sk-label label {font-family: monospace;font-weight: bold;display: inline-block;line-height: 1.2em;}#sk-container-id-1 div.sk-label-container {text-align: center;}#sk-container-id-1 div.sk-container {/* jupyter's `normalize.less` sets `[hidden] { display: none; }` but bootstrap.min.css set `[hidden] { display: none !important; }` so we also need the `!important` here to be able to override the default hidden behavior on the sphinx rendered scikit-learn.org. See: https://github.com/scikit-learn/scikit-learn/issues/21755 */display: inline-block !important;position: relative;}#sk-container-id-1 div.sk-text-repr-fallback {display: none;}</style><div id=\"sk-container-id-1\" class=\"sk-top-container\"><div class=\"sk-text-repr-fallback\"><pre>LinearRegression()</pre><b>In a Jupyter environment, please rerun this cell to show the HTML representation or trust the notebook. <br />On GitHub, the HTML representation is unable to render, please try loading this page with nbviewer.org.</b></div><div class=\"sk-container\" hidden><div class=\"sk-item\"><div class=\"sk-estimator sk-toggleable\"><input class=\"sk-toggleable__control sk-hidden--visually\" id=\"sk-estimator-id-1\" type=\"checkbox\" checked><label for=\"sk-estimator-id-1\" class=\"sk-toggleable__label sk-toggleable__label-arrow\">LinearRegression</label><div class=\"sk-toggleable__content\"><pre>LinearRegression()</pre></div></div></div></div></div>"
      ],
      "text/plain": [
       "LinearRegression()"
      ]
     },
     "execution_count": 25,
     "metadata": {},
     "output_type": "execute_result"
    }
   ],
   "source": [
    "Lr = LinearRegression()\n",
    "Lr.fit(X_train,y_train)"
   ]
  },
  {
   "cell_type": "code",
   "execution_count": 26,
   "id": "4a5b36dd",
   "metadata": {},
   "outputs": [],
   "source": [
    "yhat = Lr.predict(X_test)"
   ]
  },
  {
   "cell_type": "code",
   "execution_count": 27,
   "id": "de66cb47",
   "metadata": {},
   "outputs": [],
   "source": [
    "from sklearn.metrics import r2_score, mean_squared_error"
   ]
  },
  {
   "cell_type": "code",
   "execution_count": 28,
   "id": "6c818933",
   "metadata": {},
   "outputs": [
    {
     "data": {
      "text/plain": [
       "0.5333247048090017"
      ]
     },
     "execution_count": 28,
     "metadata": {},
     "output_type": "execute_result"
    }
   ],
   "source": [
    "r2_score(y_test, yhat)"
   ]
  },
  {
   "cell_type": "code",
   "execution_count": 29,
   "id": "8dac595e",
   "metadata": {},
   "outputs": [],
   "source": [
    "#import pickle"
   ]
  },
  {
   "cell_type": "code",
   "execution_count": 30,
   "id": "db59eba5",
   "metadata": {},
   "outputs": [],
   "source": [
    "#filename = 'firstbasicmodel.pkl'\n",
    "#pickle.dump(Lr, open(filename, 'wb'))"
   ]
  }
 ],
 "metadata": {
  "kernelspec": {
   "display_name": "Python 3 (ipykernel)",
   "language": "python",
   "name": "python3"
  },
  "language_info": {
   "codemirror_mode": {
    "name": "ipython",
    "version": 3
   },
   "file_extension": ".py",
   "mimetype": "text/x-python",
   "name": "python",
   "nbconvert_exporter": "python",
   "pygments_lexer": "ipython3",
   "version": "3.9.7"
  }
 },
 "nbformat": 4,
 "nbformat_minor": 5
}

{
  "cells": [
    {
      "cell_type": "markdown",
      "metadata": {
        "id": "view-in-github",
        "colab_type": "text"
      },
      "source": [
        "<a href=\"https://colab.research.google.com/github/lifepopkay/Tech-Monies/blob/Modelling/First_basic_model_John.ipynb\" target=\"_parent\"><img src=\"https://colab.research.google.com/assets/colab-badge.svg\" alt=\"Open In Colab\"/></a>"
      ]
    },
    {
      "cell_type": "code",
      "execution_count": 19,
      "id": "f2a4ce07",
      "metadata": {
        "id": "f2a4ce07"
      },
      "outputs": [],
      "source": [
        "import pandas as pd\n",
        "import numpy as np\n",
        "from sklearn.linear_model import LinearRegression\n",
        "from sklearn.model_selection import train_test_split\n",
        "from sklearn.preprocessing import StandardScaler\n",
        "import seaborn as sns\n",
        "import pickle"
      ]
    },
    {
      "cell_type": "code",
      "execution_count": 2,
      "id": "32c122a1",
      "metadata": {
        "id": "32c122a1"
      },
      "outputs": [],
      "source": [
        "url = 'https://raw.githubusercontent.com/lifepopkay/Tech-Monies/Modelling/Cleaned%20Data.csv'\n",
        "df = pd.read_csv(url)"
      ]
    },
    {
      "cell_type": "code",
      "execution_count": 3,
      "id": "877c79b8",
      "metadata": {
        "id": "877c79b8",
        "outputId": "bd165a0b-6106-4d1c-bfff-dc038ba30b75",
        "colab": {
          "base_uri": "https://localhost:8080/",
          "height": 277
        }
      },
      "outputs": [
        {
          "output_type": "execute_result",
          "data": {
            "text/plain": [
              "        company location title scraped for  Country  State  age      Position  \\\n",
              "0      Offerzen    Lagos    Data Scientist  Nigeria  Lagos  NaN  Senior Level   \n",
              "1  GVA Partners    Lagos    Data Scientist  Nigeria  Lagos  NaN           NaN   \n",
              "\n",
              "   upper_salary  lower_salary payment_frequency  year_of_exp contract_type  \\\n",
              "0           NaN           NaN               NaN          5.0     Full-time   \n",
              "1           NaN           NaN               NaN          4.0           NaN   \n",
              "\n",
              "     eligibility             title_cleaned  \\\n",
              "0            NaN  Senior Software Engineer   \n",
              "1  undergraduate            Data Scientist   \n",
              "\n",
              "                                         skills_list  \n",
              "0                      ['asp', 'AWS', 'R', 'D', 'C']  \n",
              "1  ['Flask', 'MySQL', 'Keras', 'R', 'server', 'Ex...  "
            ],
            "text/html": [
              "\n",
              "  <div id=\"df-04602a6c-6681-4e1c-98a8-58c16922479f\">\n",
              "    <div class=\"colab-df-container\">\n",
              "      <div>\n",
              "<style scoped>\n",
              "    .dataframe tbody tr th:only-of-type {\n",
              "        vertical-align: middle;\n",
              "    }\n",
              "\n",
              "    .dataframe tbody tr th {\n",
              "        vertical-align: top;\n",
              "    }\n",
              "\n",
              "    .dataframe thead th {\n",
              "        text-align: right;\n",
              "    }\n",
              "</style>\n",
              "<table border=\"1\" class=\"dataframe\">\n",
              "  <thead>\n",
              "    <tr style=\"text-align: right;\">\n",
              "      <th></th>\n",
              "      <th>company</th>\n",
              "      <th>location</th>\n",
              "      <th>title scraped for</th>\n",
              "      <th>Country</th>\n",
              "      <th>State</th>\n",
              "      <th>age</th>\n",
              "      <th>Position</th>\n",
              "      <th>upper_salary</th>\n",
              "      <th>lower_salary</th>\n",
              "      <th>payment_frequency</th>\n",
              "      <th>year_of_exp</th>\n",
              "      <th>contract_type</th>\n",
              "      <th>eligibility</th>\n",
              "      <th>title_cleaned</th>\n",
              "      <th>skills_list</th>\n",
              "    </tr>\n",
              "  </thead>\n",
              "  <tbody>\n",
              "    <tr>\n",
              "      <th>0</th>\n",
              "      <td>Offerzen</td>\n",
              "      <td>Lagos</td>\n",
              "      <td>Data Scientist</td>\n",
              "      <td>Nigeria</td>\n",
              "      <td>Lagos</td>\n",
              "      <td>NaN</td>\n",
              "      <td>Senior Level</td>\n",
              "      <td>NaN</td>\n",
              "      <td>NaN</td>\n",
              "      <td>NaN</td>\n",
              "      <td>5.0</td>\n",
              "      <td>Full-time</td>\n",
              "      <td>NaN</td>\n",
              "      <td>Senior Software Engineer</td>\n",
              "      <td>['asp', 'AWS', 'R', 'D', 'C']</td>\n",
              "    </tr>\n",
              "    <tr>\n",
              "      <th>1</th>\n",
              "      <td>GVA Partners</td>\n",
              "      <td>Lagos</td>\n",
              "      <td>Data Scientist</td>\n",
              "      <td>Nigeria</td>\n",
              "      <td>Lagos</td>\n",
              "      <td>NaN</td>\n",
              "      <td>NaN</td>\n",
              "      <td>NaN</td>\n",
              "      <td>NaN</td>\n",
              "      <td>NaN</td>\n",
              "      <td>4.0</td>\n",
              "      <td>NaN</td>\n",
              "      <td>undergraduate</td>\n",
              "      <td>Data Scientist</td>\n",
              "      <td>['Flask', 'MySQL', 'Keras', 'R', 'server', 'Ex...</td>\n",
              "    </tr>\n",
              "  </tbody>\n",
              "</table>\n",
              "</div>\n",
              "      <button class=\"colab-df-convert\" onclick=\"convertToInteractive('df-04602a6c-6681-4e1c-98a8-58c16922479f')\"\n",
              "              title=\"Convert this dataframe to an interactive table.\"\n",
              "              style=\"display:none;\">\n",
              "        \n",
              "  <svg xmlns=\"http://www.w3.org/2000/svg\" height=\"24px\"viewBox=\"0 0 24 24\"\n",
              "       width=\"24px\">\n",
              "    <path d=\"M0 0h24v24H0V0z\" fill=\"none\"/>\n",
              "    <path d=\"M18.56 5.44l.94 2.06.94-2.06 2.06-.94-2.06-.94-.94-2.06-.94 2.06-2.06.94zm-11 1L8.5 8.5l.94-2.06 2.06-.94-2.06-.94L8.5 2.5l-.94 2.06-2.06.94zm10 10l.94 2.06.94-2.06 2.06-.94-2.06-.94-.94-2.06-.94 2.06-2.06.94z\"/><path d=\"M17.41 7.96l-1.37-1.37c-.4-.4-.92-.59-1.43-.59-.52 0-1.04.2-1.43.59L10.3 9.45l-7.72 7.72c-.78.78-.78 2.05 0 2.83L4 21.41c.39.39.9.59 1.41.59.51 0 1.02-.2 1.41-.59l7.78-7.78 2.81-2.81c.8-.78.8-2.07 0-2.86zM5.41 20L4 18.59l7.72-7.72 1.47 1.35L5.41 20z\"/>\n",
              "  </svg>\n",
              "      </button>\n",
              "      \n",
              "  <style>\n",
              "    .colab-df-container {\n",
              "      display:flex;\n",
              "      flex-wrap:wrap;\n",
              "      gap: 12px;\n",
              "    }\n",
              "\n",
              "    .colab-df-convert {\n",
              "      background-color: #E8F0FE;\n",
              "      border: none;\n",
              "      border-radius: 50%;\n",
              "      cursor: pointer;\n",
              "      display: none;\n",
              "      fill: #1967D2;\n",
              "      height: 32px;\n",
              "      padding: 0 0 0 0;\n",
              "      width: 32px;\n",
              "    }\n",
              "\n",
              "    .colab-df-convert:hover {\n",
              "      background-color: #E2EBFA;\n",
              "      box-shadow: 0px 1px 2px rgba(60, 64, 67, 0.3), 0px 1px 3px 1px rgba(60, 64, 67, 0.15);\n",
              "      fill: #174EA6;\n",
              "    }\n",
              "\n",
              "    [theme=dark] .colab-df-convert {\n",
              "      background-color: #3B4455;\n",
              "      fill: #D2E3FC;\n",
              "    }\n",
              "\n",
              "    [theme=dark] .colab-df-convert:hover {\n",
              "      background-color: #434B5C;\n",
              "      box-shadow: 0px 1px 3px 1px rgba(0, 0, 0, 0.15);\n",
              "      filter: drop-shadow(0px 1px 2px rgba(0, 0, 0, 0.3));\n",
              "      fill: #FFFFFF;\n",
              "    }\n",
              "  </style>\n",
              "\n",
              "      <script>\n",
              "        const buttonEl =\n",
              "          document.querySelector('#df-04602a6c-6681-4e1c-98a8-58c16922479f button.colab-df-convert');\n",
              "        buttonEl.style.display =\n",
              "          google.colab.kernel.accessAllowed ? 'block' : 'none';\n",
              "\n",
              "        async function convertToInteractive(key) {\n",
              "          const element = document.querySelector('#df-04602a6c-6681-4e1c-98a8-58c16922479f');\n",
              "          const dataTable =\n",
              "            await google.colab.kernel.invokeFunction('convertToInteractive',\n",
              "                                                     [key], {});\n",
              "          if (!dataTable) return;\n",
              "\n",
              "          const docLinkHtml = 'Like what you see? Visit the ' +\n",
              "            '<a target=\"_blank\" href=https://colab.research.google.com/notebooks/data_table.ipynb>data table notebook</a>'\n",
              "            + ' to learn more about interactive tables.';\n",
              "          element.innerHTML = '';\n",
              "          dataTable['output_type'] = 'display_data';\n",
              "          await google.colab.output.renderOutput(dataTable, element);\n",
              "          const docLink = document.createElement('div');\n",
              "          docLink.innerHTML = docLinkHtml;\n",
              "          element.appendChild(docLink);\n",
              "        }\n",
              "      </script>\n",
              "    </div>\n",
              "  </div>\n",
              "  "
            ]
          },
          "metadata": {},
          "execution_count": 3
        }
      ],
      "source": [
        "df.head(2)"
      ]
    },
    {
      "cell_type": "code",
      "execution_count": 4,
      "id": "5554adff",
      "metadata": {
        "id": "5554adff"
      },
      "outputs": [],
      "source": [
        "ML=['Machine Learning', 'Machine Learning ']\n",
        "for title in ML:\n",
        "    df['title scraped for'].replace(title,'Machine Learning Engineer', inplace = True)"
      ]
    },
    {
      "cell_type": "code",
      "execution_count": 5,
      "id": "b15d405e",
      "metadata": {
        "id": "b15d405e"
      },
      "outputs": [],
      "source": [
        "# Dropping records with missing values for lower salary range\n",
        "df.dropna(subset=[\"lower_salary\"], inplace = True)"
      ]
    },
    {
      "cell_type": "code",
      "execution_count": 6,
      "id": "9e516b9e",
      "metadata": {
        "id": "9e516b9e"
      },
      "outputs": [],
      "source": [
        "# Columns to drop\n",
        "columns_to_drop = [\"company\", \"location\", \"State\", \"age\"]"
      ]
    },
    {
      "cell_type": "code",
      "execution_count": 7,
      "id": "9ab014b4",
      "metadata": {
        "id": "9ab014b4"
      },
      "outputs": [],
      "source": [
        "# Drop unnecessary columns\n",
        "df.drop(columns_to_drop, axis=\"columns\", inplace = True)"
      ]
    },
    {
      "cell_type": "code",
      "execution_count": 8,
      "id": "06b3e5f3",
      "metadata": {
        "id": "06b3e5f3"
      },
      "outputs": [],
      "source": [
        "# Selecting Job posting with years of experience less than 20 which is the 95th percentile of the Years of experience\n",
        "df = df.query(\"year_of_exp <= 20 \")"
      ]
    },
    {
      "cell_type": "code",
      "execution_count": 9,
      "id": "098f9dac",
      "metadata": {
        "id": "098f9dac"
      },
      "outputs": [],
      "source": [
        "# Defining a function the determines the Position based on the Years of Experience\n",
        "def position_based_on_yoe(df_YOE):\n",
        "    if df_YOE < 4:\n",
        "        return \"Entry Level\"\n",
        "    elif df_YOE > 4 and df_YOE < 7:\n",
        "        return \"Mid-Level\"\n",
        "    else:\n",
        "        return \"Senior Level\"\n",
        "        "
      ]
    },
    {
      "cell_type": "code",
      "execution_count": 10,
      "id": "7538399f",
      "metadata": {
        "id": "7538399f"
      },
      "outputs": [],
      "source": [
        "# Filling the missing values for Position with \"Position based on Years of experience\"\n",
        "df[\"Position_based_on_YOE\"] = df.year_of_exp.apply(position_based_on_yoe)\n",
        "df.reset_index(drop = True, inplace = True)\n",
        "\n",
        "for i in range(df.shape[0]):\n",
        "    if df.iloc[i,2] is np.nan:\n",
        "        df.iloc[i,2] = df.iloc[i,-1]\n",
        "        \n",
        "df.drop('Position_based_on_YOE', axis= \"columns\", inplace = True)"
      ]
    },
    {
      "cell_type": "code",
      "execution_count": 11,
      "id": "43d5bd81",
      "metadata": {
        "id": "43d5bd81"
      },
      "outputs": [],
      "source": [
        "# Replace \"hs\" with \"high school diploma\" in eligibility\n",
        "df.eligibility.replace(\"hs\",'high school diploma', inplace = True)\n",
        "\n",
        "# Fill missing values for eligibility with \"high school diploma\"\n",
        "df.eligibility.fillna('high school diploma', inplace = True)"
      ]
    },
    {
      "cell_type": "code",
      "execution_count": 12,
      "id": "abb91b42",
      "metadata": {
        "id": "abb91b42"
      },
      "outputs": [],
      "source": [
        "# Fill missing values for contract_type with the mode of contract_type\n",
        "df.contract_type.fillna(df.contract_type.mode()[0], inplace = True)"
      ]
    },
    {
      "cell_type": "code",
      "execution_count": 13,
      "id": "21dd96de",
      "metadata": {
        "id": "21dd96de"
      },
      "outputs": [],
      "source": [
        "# Creating an exchange rate for each country currency with respect to UD dollars\n",
        "Exchange_rate = {\"Nigeria\": 427.88,\n",
        "\"India\": 79.97,\n",
        "\"USA\": 1,\n",
        "\"UK\": 1.17}\n",
        "df[\"Exchange_rate\"] = df.Country.map(Exchange_rate)\n",
        "\n",
        "# Converting the salary currency for each Job to US dollars\n",
        "df.upper_salary = df.upper_salary / df.Exchange_rate\n",
        "df.lower_salary = df.lower_salary / df.Exchange_rate\n",
        "\n",
        "df.drop('Exchange_rate', axis= \"columns\", inplace = True)"
      ]
    },
    {
      "cell_type": "markdown",
      "id": "a4979c6b",
      "metadata": {
        "id": "a4979c6b"
      },
      "source": [
        "On exploring the salary for missing Payment frequency, it was discovered that the salary far exceeds the salary for hourly payment frequency and is far below the salary for minthly payment frequency. \n",
        "\n",
        "So the the missing values for payment frequency will be filled with \"Weekly\""
      ]
    },
    {
      "cell_type": "code",
      "execution_count": 14,
      "id": "df5ea3aa",
      "metadata": {
        "id": "df5ea3aa"
      },
      "outputs": [],
      "source": [
        "# Filling the missing values for payment frequency with \"Weekly\"\n",
        "df.payment_frequency.fillna(\"Weekly\", inplace = True)"
      ]
    },
    {
      "cell_type": "code",
      "execution_count": 15,
      "id": "a5c8ff99",
      "metadata": {
        "colab": {
          "base_uri": "https://localhost:8080/"
        },
        "id": "a5c8ff99",
        "outputId": "9608ab72-bd00-4691-f86b-91120ac65945"
      },
      "outputs": [
        {
          "output_type": "execute_result",
          "data": {
            "text/plain": [
              "(1837, 11)"
            ]
          },
          "metadata": {},
          "execution_count": 15
        }
      ],
      "source": [
        "df.shape"
      ]
    },
    {
      "cell_type": "code",
      "execution_count": 16,
      "id": "de126303",
      "metadata": {
        "id": "de126303"
      },
      "outputs": [],
      "source": [
        "Frequency_to_yearly = {\"Hourly\": 40 * 52,\n",
        "\"Weekly\": 52,\n",
        "\"Monthly\": 12,\n",
        "\"Yearly\": 1}\n",
        "df[\"Frequency_to_yearly\"] = df.payment_frequency.map(Frequency_to_yearly)\n",
        "\n",
        "# Standardizing the payment frequency to Yearly\n",
        "df.upper_salary = df.upper_salary * df[\"Frequency_to_yearly\"]\n",
        "df.lower_salary = df.lower_salary * df[\"Frequency_to_yearly\"]\n",
        "df.drop('Frequency_to_yearly', axis= \"columns\", inplace = True)"
      ]
    },
    {
      "cell_type": "code",
      "execution_count": 17,
      "id": "291277a4",
      "metadata": {
        "id": "291277a4"
      },
      "outputs": [],
      "source": [
        "df.drop([\"skills_list\",'title_cleaned','payment_frequency'], axis=\"columns\", inplace = True)"
      ]
    },
    {
      "cell_type": "code",
      "execution_count": 18,
      "id": "89ee374f",
      "metadata": {
        "id": "89ee374f"
      },
      "outputs": [],
      "source": [
        "categorical_columns = [\"title scraped for\",'Country','Position','contract_type','eligibility']\n",
        "df[categorical_columns] = df[categorical_columns].astype('category')\n",
        "df6 = df.copy()\n",
        "for x in categorical_columns:\n",
        "        df[x] = df[x].cat.codes\n",
        "   "
      ]
    },
    {
      "cell_type": "markdown",
      "id": "b0a72624",
      "metadata": {
        "id": "b0a72624"
      },
      "source": [
        "### Categorical Column Coding map"
      ]
    },
    {
      "cell_type": "code",
      "execution_count": 26,
      "id": "d9a70334",
      "metadata": {
        "id": "d9a70334"
      },
      "outputs": [],
      "source": [
        "# Create dict for categorical columns\n",
        "feature_dict = {}\n",
        "for col in df.drop([\"lower_salary\", \"upper_salary\"], axis=\"columns\").columns:\n",
        "  if col in categorical_columns:\n",
        "    feature_dict[col] = dict(enumerate(df6[col].cat.categories))\n",
        "  else:\n",
        "    feature_dict[col] = None\n",
        "# Title_scrapped_for  = dict(enumerate(df6['title scraped for'].cat.categories))\n",
        "# COUNTRY  = dict(enumerate(df6['Country'].cat.categories))\n",
        "# POSITION = dict(enumerate(df6['Position'].cat.categories))\n",
        "# #PAYMENT_FREQUENCY = dict(enumerate(df6['payment_frequency'].cat.categories))\n",
        "# CONTRACT_TYPE = dict(enumerate(df6['contract_type'].cat.categories))\n",
        "# ELIGIBILTY = dict(enumerate(df6['eligibility'].cat.categories))\n",
        "pickle.dump(feature_dict, open('features.pkl', 'wb'))"
      ]
    },
    {
      "cell_type": "code",
      "execution_count": 27,
      "id": "e7d18699",
      "metadata": {
        "colab": {
          "base_uri": "https://localhost:8080/"
        },
        "id": "e7d18699",
        "outputId": "e24c5559-d7c8-491e-b9bf-85524b41e6de"
      },
      "outputs": [
        {
          "output_type": "execute_result",
          "data": {
            "text/plain": [
              "{'title scraped for': {0: 'Business Analyst',\n",
              "  1: 'Data Analyst',\n",
              "  2: 'Data Scientist',\n",
              "  3: 'Machine Learning Engineer',\n",
              "  4: 'Web Developer'},\n",
              " 'Country': {0: 'India', 1: 'Nigeria', 2: 'UK', 3: 'USA'},\n",
              " 'Position': {0: 'Entry Level', 1: 'Mid-Level', 2: 'Senior Level'},\n",
              " 'year_of_exp': None,\n",
              " 'contract_type': {0: 'Contract', 1: 'Full-time'},\n",
              " 'eligibility': {0: 'doctorate',\n",
              "  1: 'high school diploma',\n",
              "  2: 'postgraduate',\n",
              "  3: 'undergraduate'}}"
            ]
          },
          "metadata": {},
          "execution_count": 27
        }
      ],
      "source": [
        "feature_dict"
      ]
    },
    {
      "cell_type": "code",
      "execution_count": null,
      "id": "22ca14bf",
      "metadata": {
        "colab": {
          "base_uri": "https://localhost:8080/"
        },
        "id": "22ca14bf",
        "outputId": "4c73e73c-91d0-409a-ac2c-c53064c4298f"
      },
      "outputs": [
        {
          "output_type": "execute_result",
          "data": {
            "text/plain": [
              "{0: 'India', 1: 'Nigeria', 2: 'UK', 3: 'USA'}"
            ]
          },
          "metadata": {},
          "execution_count": 21
        }
      ],
      "source": [
        "COUNTRY"
      ]
    },
    {
      "cell_type": "code",
      "execution_count": null,
      "id": "0931f6d8",
      "metadata": {
        "colab": {
          "base_uri": "https://localhost:8080/"
        },
        "id": "0931f6d8",
        "outputId": "149d21a0-2efe-4a5a-c0ff-fa8b538d4336"
      },
      "outputs": [
        {
          "output_type": "execute_result",
          "data": {
            "text/plain": [
              "{0: 'doctorate',\n",
              " 1: 'high school diploma',\n",
              " 2: 'postgraduate',\n",
              " 3: 'undergraduate'}"
            ]
          },
          "metadata": {},
          "execution_count": 22
        }
      ],
      "source": [
        "ELIGIBILTY"
      ]
    },
    {
      "cell_type": "code",
      "execution_count": null,
      "id": "00662299",
      "metadata": {
        "id": "00662299"
      },
      "outputs": [],
      "source": [
        "#PAYMENT_FREQUENCY"
      ]
    },
    {
      "cell_type": "code",
      "execution_count": null,
      "id": "8a0d6c3f",
      "metadata": {
        "colab": {
          "base_uri": "https://localhost:8080/"
        },
        "id": "8a0d6c3f",
        "outputId": "d5c27335-87ce-4abf-cc8a-50c9816d6b0b"
      },
      "outputs": [
        {
          "output_type": "execute_result",
          "data": {
            "text/plain": [
              "{0: 'Contract', 1: 'Full-time'}"
            ]
          },
          "metadata": {},
          "execution_count": 24
        }
      ],
      "source": [
        "CONTRACT_TYPE"
      ]
    },
    {
      "cell_type": "code",
      "execution_count": null,
      "id": "f2491fd8",
      "metadata": {
        "colab": {
          "base_uri": "https://localhost:8080/"
        },
        "id": "f2491fd8",
        "outputId": "f5d040b5-4b65-4049-eb4a-2c08c8a80b36"
      },
      "outputs": [
        {
          "output_type": "stream",
          "name": "stdout",
          "text": [
            "[IterativeImputer] Completing matrix with shape (1837, 8)\n",
            "[IterativeImputer] Ending imputation round 1/20, elapsed time 0.04\n",
            "[IterativeImputer] Change: 501873.82142142946, scaled tolerance: 1600.0 \n",
            "[IterativeImputer] Ending imputation round 2/20, elapsed time 0.08\n",
            "[IterativeImputer] Change: 0.0, scaled tolerance: 1600.0 \n",
            "[IterativeImputer] Early stopping criterion reached.\n"
          ]
        }
      ],
      "source": [
        "# Fill the missing values for upper salary using an iterative imputer\n",
        "from sklearn.experimental import enable_iterative_imputer\n",
        "from sklearn.impute       import IterativeImputer\n",
        "#from catboost             import CatBoostRegressor\n",
        "\n",
        "imputer = IterativeImputer(\n",
        "                            verbose   = 2,\n",
        "                            max_iter  = 20,\n",
        "                            imputation_order = 'descending' )\n",
        "\n",
        "\n",
        "df2 = pd.DataFrame(imputer.fit_transform(df), columns = df.columns) # preserve the column nam"
      ]
    },
    {
      "cell_type": "markdown",
      "id": "6e795dba",
      "metadata": {
        "id": "6e795dba"
      },
      "source": [
        "### Features"
      ]
    },
    {
      "cell_type": "code",
      "execution_count": null,
      "id": "5cd96105",
      "metadata": {
        "colab": {
          "base_uri": "https://localhost:8080/"
        },
        "id": "5cd96105",
        "outputId": "76873fd2-909f-4a62-862c-c417bb7f1fd4"
      },
      "outputs": [
        {
          "output_type": "stream",
          "name": "stdout",
          "text": [
            "{0: 'title scraped for', 1: 'Country', 2: 'Position', 3: 'year_of_exp', 4: 'contract_type', 5: 'eligibility'}\n"
          ]
        }
      ],
      "source": [
        "features_dict = {}\n",
        "i = 0\n",
        "for feature in list(df2.drop([\"lower_salary\", \"upper_salary\"], axis=\"columns\").columns):\n",
        "    features_dict[i] = feature\n",
        "    i +=1\n",
        "    \n",
        "print(features_dict)"
      ]
    },
    {
      "cell_type": "code",
      "execution_count": null,
      "id": "d3f59f2c",
      "metadata": {
        "id": "d3f59f2c"
      },
      "outputs": [],
      "source": [
        "# Extracting the features and target variable\n",
        "y = df2[[\"lower_salary\", \"upper_salary\"]].values\n",
        "X = df2.drop([\"lower_salary\", \"upper_salary\"], axis=\"columns\")"
      ]
    },
    {
      "cell_type": "code",
      "execution_count": null,
      "id": "0ce0617d",
      "metadata": {
        "colab": {
          "base_uri": "https://localhost:8080/"
        },
        "id": "0ce0617d",
        "outputId": "d185f428-f900-41d4-b16a-621a788801d5"
      },
      "outputs": [
        {
          "output_type": "stream",
          "name": "stdout",
          "text": [
            "Train set: (1469, 6) (1469, 2)\n",
            "Test set: (368, 6) (368, 2)\n"
          ]
        }
      ],
      "source": [
        "# Normalizing the data\n",
        "X= StandardScaler().fit(X).transform(X)\n",
        "X_train, X_test, y_train, y_test = train_test_split( X, y, test_size=0.2, random_state=4)\n",
        "print ('Train set:', X_train.shape,  y_train.shape)\n",
        "print ('Test set:', X_test.shape,  y_test.shape)"
      ]
    },
    {
      "cell_type": "code",
      "execution_count": null,
      "id": "6a83acb4",
      "metadata": {
        "colab": {
          "base_uri": "https://localhost:8080/"
        },
        "id": "6a83acb4",
        "outputId": "eca0b026-4b89-443f-f6b1-eac581d40612"
      },
      "outputs": [
        {
          "output_type": "execute_result",
          "data": {
            "text/plain": [
              "LinearRegression()"
            ]
          },
          "metadata": {},
          "execution_count": 29
        }
      ],
      "source": [
        "Lr = LinearRegression()\n",
        "Lr.fit(X_train,y_train)"
      ]
    },
    {
      "cell_type": "code",
      "execution_count": null,
      "id": "b64df61a",
      "metadata": {
        "id": "b64df61a"
      },
      "outputs": [],
      "source": [
        "yhat = Lr.predict(X_test)"
      ]
    },
    {
      "cell_type": "code",
      "execution_count": null,
      "id": "772f5656",
      "metadata": {
        "id": "772f5656"
      },
      "outputs": [],
      "source": [
        "from sklearn.metrics import r2_score, mean_squared_error"
      ]
    },
    {
      "cell_type": "code",
      "execution_count": null,
      "id": "0b744fb8",
      "metadata": {
        "colab": {
          "base_uri": "https://localhost:8080/"
        },
        "id": "0b744fb8",
        "outputId": "0000758c-5f22-4a4b-a9f7-2652fbe1532d"
      },
      "outputs": [
        {
          "output_type": "execute_result",
          "data": {
            "text/plain": [
              "0.5325986125948965"
            ]
          },
          "metadata": {},
          "execution_count": 32
        }
      ],
      "source": [
        "r2_score(y_test, yhat)"
      ]
    },
    {
      "cell_type": "code",
      "execution_count": null,
      "id": "db15cde5",
      "metadata": {
        "id": "db15cde5"
      },
      "outputs": [],
      "source": []
    },
    {
      "cell_type": "code",
      "execution_count": null,
      "id": "372a0924",
      "metadata": {
        "id": "372a0924"
      },
      "outputs": [],
      "source": [
        "filename = 'firstbasicmodel.pkl'\n",
        "pickle.dump(Lr, open(filename, 'wb'))"
      ]
    },
    {
      "cell_type": "code",
      "source": [],
      "metadata": {
        "id": "NbOla3V0aey5"
      },
      "id": "NbOla3V0aey5",
      "execution_count": null,
      "outputs": []
    }
  ],
  "metadata": {
    "kernelspec": {
      "display_name": "Python 3 (ipykernel)",
      "language": "python",
      "name": "python3"
    },
    "language_info": {
      "codemirror_mode": {
        "name": "ipython",
        "version": 3
      },
      "file_extension": ".py",
      "mimetype": "text/x-python",
      "name": "python",
      "nbconvert_exporter": "python",
      "pygments_lexer": "ipython3",
      "version": "3.9.7"
    },
    "colab": {
      "name": "First basic model.ipynb",
      "provenance": [],
      "include_colab_link": true
    }
  },
  "nbformat": 4,
  "nbformat_minor": 5
}
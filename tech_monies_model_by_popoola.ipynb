{
 "cells": [
  {
   "cell_type": "code",
   "execution_count": 1,
   "metadata": {},
   "outputs": [],
   "source": [
    "\n",
    "#Load Libraries\n",
    "import numpy as np\n",
    "import pandas as pd\n",
    "import seaborn as sns\n",
    "import matplotlib.pyplot as plt\n",
    "%matplotlib inline\n"
   ]
  },
  {
   "cell_type": "code",
   "execution_count": 266,
   "metadata": {},
   "outputs": [
    {
     "data": {
      "text/plain": [
       "Machine Learning Engineer    2136\n",
       "Data Scientist               2124\n",
       "Web Developer                1962\n",
       "Business Analyst             1265\n",
       "Data Analyst                 1213\n",
       "Name: title scraped for, dtype: int64"
      ]
     },
     "execution_count": 266,
     "metadata": {},
     "output_type": "execute_result"
    }
   ],
   "source": [
    "df = pd.read_csv('Cleaned Data.csv')\n",
    "\n",
    "ML = ['Machine Learning', 'Machine Learning ']\n",
    "\n",
    "for title in ML:\n",
    "    df['title scraped for'].replace(\n",
    "        title, 'Machine Learning Engineer', inplace=True)\n",
    "\n",
    "df['title scraped for'].value_counts()\n"
   ]
  },
  {
   "cell_type": "code",
   "execution_count": 191,
   "metadata": {},
   "outputs": [
    {
     "data": {
      "text/plain": [
       "company               126\n",
       "location                0\n",
       "title scraped for       0\n",
       "Country                 0\n",
       "State                   0\n",
       "age                  8684\n",
       "Position             6230\n",
       "upper_salary         6303\n",
       "lower_salary         5867\n",
       "payment_frequency    5892\n",
       "year_of_exp          2777\n",
       "contract_type        7433\n",
       "eligibility          3350\n",
       "title_cleaned           1\n",
       "skills_list             0\n",
       "dtype: int64"
      ]
     },
     "execution_count": 191,
     "metadata": {},
     "output_type": "execute_result"
    }
   ],
   "source": [
    "df.isna().sum()\n"
   ]
  },
  {
   "cell_type": "code",
   "execution_count": 267,
   "metadata": {},
   "outputs": [],
   "source": [
    "# Dropping records with missing values for lower salary range\n",
    "\n",
    "df.dropna(subset=[\"lower_salary\"], inplace=True)\n"
   ]
  },
  {
   "cell_type": "code",
   "execution_count": 243,
   "metadata": {},
   "outputs": [
    {
     "data": {
      "text/plain": [
       "(2833, 15)"
      ]
     },
     "execution_count": 243,
     "metadata": {},
     "output_type": "execute_result"
    }
   ],
   "source": [
    "df.shape"
   ]
  },
  {
   "cell_type": "code",
   "execution_count": 268,
   "metadata": {},
   "outputs": [],
   "source": [
    "# Columns to drop\n",
    "columns_to_drop = [\"company\", \"location\", \"State\", \"age\"]\n",
    "\n",
    "# Drop unnecessary columns\n",
    "df.drop(columns_to_drop, axis=\"columns\", inplace=True)\n"
   ]
  },
  {
   "cell_type": "code",
   "execution_count": 269,
   "metadata": {},
   "outputs": [
    {
     "data": {
      "text/plain": [
       "count    1932.000000\n",
       "mean        4.746377\n",
       "std        16.734094\n",
       "min         0.000000\n",
       "25%         1.000000\n",
       "50%         3.000000\n",
       "75%         5.000000\n",
       "max       329.000000\n",
       "Name: year_of_exp, dtype: float64"
      ]
     },
     "execution_count": 269,
     "metadata": {},
     "output_type": "execute_result"
    }
   ],
   "source": [
    "# EDA on years of exprience column\n",
    "df['year_of_exp'].describe()"
   ]
  },
  {
   "cell_type": "code",
   "execution_count": 178,
   "metadata": {},
   "outputs": [
    {
     "data": {
      "text/plain": [
       "(array([1.902e+03, 2.000e+01, 1.000e+00, 5.000e+00, 0.000e+00, 0.000e+00,\n",
       "        0.000e+00, 0.000e+00, 0.000e+00, 4.000e+00]),\n",
       " array([  0. ,  32.9,  65.8,  98.7, 131.6, 164.5, 197.4, 230.3, 263.2,\n",
       "        296.1, 329. ]),\n",
       " <a list of 10 Patch objects>)"
      ]
     },
     "execution_count": 178,
     "metadata": {},
     "output_type": "execute_result"
    },
    {
     "data": {
      "image/png": "[encoded data removed]",
      "text/plain": [
       "<Figure size 432x288 with 1 Axes>"
      ]
     },
     "metadata": {
      "needs_background": "light"
     },
     "output_type": "display_data"
    }
   ],
   "source": [
    "plt.hist(df['year_of_exp'].dropna(), log=True)"
   ]
  },
  {
   "cell_type": "code",
   "execution_count": 270,
   "metadata": {},
   "outputs": [],
   "source": [
    "#replace all values of by above 14years of experience with 10 years\n",
    "for i in df['year_of_exp']:\n",
    "    if i >= 15:\n",
    "        df['year_of_exp'].replace(i,10, inplace= True)\n",
    "    else:\n",
    "        pass\n"
   ]
  },
  {
   "cell_type": "code",
   "execution_count": 285,
   "metadata": {},
   "outputs": [],
   "source": [
    "#fill all the missing with the average years of experience\n",
    "df['year_of_exp'].fillna(df.year_of_exp.mean(), inplace= True)\n"
   ]
  },
  {
   "cell_type": "code",
   "execution_count": 275,
   "metadata": {},
   "outputs": [],
   "source": [
    "# Defining a function the determines the Position based on the Years of Experience\n",
    "def position_based_on_yoe(df_YOE):\n",
    "    if df_YOE < 4:\n",
    "        return \"Entry Level\"\n",
    "    elif df_YOE > 4 and df_YOE < 7:\n",
    "        return \"Mid-Level\"\n",
    "    else:\n",
    "        return \"Senior Level\"\n"
   ]
  },
  {
   "cell_type": "code",
   "execution_count": 276,
   "metadata": {},
   "outputs": [],
   "source": [
    "# Filling the missing values for Position with \"Position based on Years of experience\"\n",
    "df[\"Position_based_on_YOE\"] = df.year_of_exp.apply(position_based_on_yoe)\n",
    "df.reset_index(drop=True, inplace=True)\n",
    "\n",
    "for i in range(df.shape[0]):\n",
    "    if df.iloc[i, 2] is np.nan:\n",
    "        df.iloc[i, 2] = df.iloc[i, -1]\n",
    "\n",
    "\n",
    "df.drop('Position_based_on_YOE', axis=\"columns\", inplace=True)\n"
   ]
  },
  {
   "cell_type": "code",
   "execution_count": 277,
   "metadata": {},
   "outputs": [],
   "source": [
    "# Replace \"hs\" with \"high school diploma\" in eligibility\n",
    "df.eligibility.replace(\"hs\", 'high school diploma', inplace=True)\n",
    "\n",
    "\n",
    "# Fill missing values for eligibility with \"high school diploma\"\n",
    "df.eligibility.fillna('undergraduate', inplace=True)\n",
    "\n",
    "\n",
    "# Fill missing values for contract_type with the mode of contract_type\n",
    "df.contract_type.fillna(df.contract_type.mode()[0], inplace=True)\n",
    "\n",
    "# Fill missiong values for payment_frequency with Monthly\n",
    "df['payment_frequency'] = df['payment_frequency'].fillna('Monthly')\n"
   ]
  },
  {
   "cell_type": "code",
   "execution_count": 278,
   "metadata": {},
   "outputs": [],
   "source": [
    "# Creating an exchange rate for each country currency with respect to UD dollars\n",
    "Exchange_rate = {\"Nigeria\": 423.42,\n",
    "                 \"India\": 79.97,\n",
    "                 \"USA\": 1,\n",
    "                 \"UK\": 1.17}\n",
    "df[\"Exchange_rate\"] = df.Country.map(Exchange_rate)\n",
    "\n",
    "# Converting the salary currency for each Job to US dollars\n",
    "df.upper_salary = df.upper_salary / df.Exchange_rate\n",
    "df.lower_salary = df.lower_salary / df.Exchange_rate\n",
    "\n",
    "df.drop('Exchange_rate', axis=\"columns\", inplace=True)\n"
   ]
  },
  {
   "cell_type": "code",
   "execution_count": 218,
   "metadata": {},
   "outputs": [
    {
     "data": {
      "text/plain": [
       "(2833, 15)"
      ]
     },
     "execution_count": 218,
     "metadata": {},
     "output_type": "execute_result"
    }
   ],
   "source": [
    "df.shape\n",
    "\n"
   ]
  },
  {
   "cell_type": "code",
   "execution_count": 279,
   "metadata": {},
   "outputs": [
    {
     "name": "stderr",
     "output_type": "stream",
     "text": [
      "c:\\Users\\POPOOLA KAYODE\\anaconda3\\lib\\site-packages\\pandas\\core\\generic.py:6746: SettingWithCopyWarning: \n",
      "A value is trying to be set on a copy of a slice from a DataFrame\n",
      "\n",
      "See the caveats in the documentation: https://pandas.pydata.org/pandas-docs/stable/user_guide/indexing.html#returning-a-view-versus-a-copy\n",
      "  self._update_inplace(new_data)\n",
      "c:\\Users\\POPOOLA KAYODE\\anaconda3\\lib\\site-packages\\pandas\\core\\generic.py:6245: SettingWithCopyWarning: \n",
      "A value is trying to be set on a copy of a slice from a DataFrame\n",
      "\n",
      "See the caveats in the documentation: https://pandas.pydata.org/pandas-docs/stable/user_guide/indexing.html#returning-a-view-versus-a-copy\n",
      "  self._update_inplace(new_data)\n",
      "c:\\Users\\POPOOLA KAYODE\\anaconda3\\lib\\site-packages\\pandas\\core\\frame.py:4172: SettingWithCopyWarning: \n",
      "A value is trying to be set on a copy of a slice from a DataFrame\n",
      "\n",
      "See the caveats in the documentation: https://pandas.pydata.org/pandas-docs/stable/user_guide/indexing.html#returning-a-view-versus-a-copy\n",
      "  method=method,\n",
      "c:\\Users\\POPOOLA KAYODE\\anaconda3\\lib\\site-packages\\pandas\\core\\frame.py:4153: SettingWithCopyWarning: \n",
      "A value is trying to be set on a copy of a slice from a DataFrame\n",
      "\n",
      "See the caveats in the documentation: https://pandas.pydata.org/pandas-docs/stable/user_guide/indexing.html#returning-a-view-versus-a-copy\n",
      "  downcast=downcast,\n"
     ]
    }
   ],
   "source": [
    "#Change of all position of senior job role to senior entry\n",
    "\n",
    "df[df['title_cleaned'].str.lower().str.contains('senior')]['Position'].replace(\n",
    "    'Mid-Level', 'Senior Level', inplace=True)\n",
    "\n",
    "df[df['title_cleaned'].str.lower().str.contains('senior')]['Position'].replace(\n",
    "    'Entry Level', 'Senior Level', inplace= True)\n",
    "\n",
    "df[df['title_cleaned'].str.lower().str.contains('senior')]['Position'].fillna(\n",
    "    'Senior Level', inplace=True)\n",
    "\n",
    "#Change of all position of junior job role to entry entry\n",
    "df[df['title_cleaned'].str.lower().str.contains('junior')].replace(\n",
    "    'Mid-Level', 'Entry Level', inplace=True)\n",
    "\n",
    "df[df['title_cleaned'].str.lower().str.contains('junior')].replace(\n",
    "    'Senior Level', 'Entry Level', inplace=True)\n",
    "\n",
    "df[df['title_cleaned'].str.lower().str.contains('junior')].fillna('Entry Level', inplace=True)\n"
   ]
  },
  {
   "cell_type": "code",
   "execution_count": 286,
   "metadata": {},
   "outputs": [
    {
     "data": {
      "text/plain": [
       "title scraped for      0\n",
       "Country                0\n",
       "Position               0\n",
       "upper_salary         436\n",
       "lower_salary           0\n",
       "payment_frequency      0\n",
       "year_of_exp            0\n",
       "contract_type          0\n",
       "eligibility            0\n",
       "dtype: int64"
      ]
     },
     "execution_count": 286,
     "metadata": {},
     "output_type": "execute_result"
    }
   ],
   "source": [
    "df.isna().sum()\n"
   ]
  },
  {
   "cell_type": "code",
   "execution_count": 280,
   "metadata": {},
   "outputs": [],
   "source": [
    "Frequency_to_yearly = {\"Hourly\": 40 * 52,\n",
    "                       \"Weekly\": 52,\n",
    "                       \"Monthly\": 12,\n",
    "                       \"Yearly\": 1}\n",
    "df[\"Frequency_to_yearly\"] = df.payment_frequency.map(Frequency_to_yearly)\n",
    "\n",
    "\n"
   ]
  },
  {
   "cell_type": "code",
   "execution_count": 281,
   "metadata": {},
   "outputs": [],
   "source": [
    "# Standardizing the payment frequency to Yearly\n",
    "df.upper_salary = df.upper_salary * df[\"Frequency_to_yearly\"]\n",
    "df.lower_salary = df.lower_salary * df[\"Frequency_to_yearly\"]\n",
    "df.drop('Frequency_to_yearly', axis=\"columns\", inplace=True)\n",
    "\n",
    "\n",
    "df.drop([\"skills_list\",'title_cleaned'], axis=\"columns\", inplace = True)"
   ]
  },
  {
   "cell_type": "code",
   "execution_count": 282,
   "metadata": {},
   "outputs": [],
   "source": [
    "categorical_columns = [\"title scraped for\", 'Country',\n",
    "                       'Position', 'contract_type', 'eligibility', 'payment_frequency']\n",
    "df[categorical_columns] = df[categorical_columns].astype('category')\n",
    "df6 = df.copy()\n",
    "for x in categorical_columns:\n",
    "    df[x] = df[x].cat.codes\n"
   ]
  },
  {
   "cell_type": "code",
   "execution_count": 283,
   "metadata": {},
   "outputs": [],
   "source": [
    "feature_dict = {}\n",
    "for col in df.drop([\"lower_salary\", \"upper_salary\"], axis=\"columns\").columns:\n",
    "  if col in categorical_columns:\n",
    "    feature_dict[col] = dict(enumerate(df6[col].cat.categories))\n",
    "  else:\n",
    "    feature_dict[col] = None\n"
   ]
  },
  {
   "cell_type": "code",
   "execution_count": 257,
   "metadata": {},
   "outputs": [
    {
     "data": {
      "text/plain": [
       "<matplotlib.axes._subplots.AxesSubplot at 0x28233bb9d08>"
      ]
     },
     "execution_count": 257,
     "metadata": {},
     "output_type": "execute_result"
    },
    {
     "data": {
      "image/png": "[encoded data removed]",
      "text/plain": [
       "<Figure size 432x288 with 1 Axes>"
      ]
     },
     "metadata": {
      "needs_background": "light"
     },
     "output_type": "display_data"
    }
   ],
   "source": [
    "df.lower_salary.plot(kind = 'box')\n",
    "\n",
    "#there are outlier present in the lower salary"
   ]
  },
  {
   "cell_type": "code",
   "execution_count": 258,
   "metadata": {},
   "outputs": [
    {
     "data": {
      "text/html": [
       "<div>\n",
       "<style scoped>\n",
       "    .dataframe tbody tr th:only-of-type {\n",
       "        vertical-align: middle;\n",
       "    }\n",
       "\n",
       "    .dataframe tbody tr th {\n",
       "        vertical-align: top;\n",
       "    }\n",
       "\n",
       "    .dataframe thead th {\n",
       "        text-align: right;\n",
       "    }\n",
       "</style>\n",
       "<table border=\"1\" class=\"dataframe\">\n",
       "  <thead>\n",
       "    <tr style=\"text-align: right;\">\n",
       "      <th></th>\n",
       "      <th>title scraped for</th>\n",
       "      <th>Country</th>\n",
       "      <th>Position</th>\n",
       "      <th>upper_salary</th>\n",
       "      <th>lower_salary</th>\n",
       "      <th>payment_frequency</th>\n",
       "      <th>year_of_exp</th>\n",
       "      <th>contract_type</th>\n",
       "      <th>eligibility</th>\n",
       "    </tr>\n",
       "  </thead>\n",
       "  <tbody>\n",
       "    <tr>\n",
       "      <th>title scraped for</th>\n",
       "      <td>1.000000</td>\n",
       "      <td>-0.180571</td>\n",
       "      <td>-0.059181</td>\n",
       "      <td>-0.138424</td>\n",
       "      <td>-0.099318</td>\n",
       "      <td>-0.069452</td>\n",
       "      <td>-0.098420</td>\n",
       "      <td>0.064952</td>\n",
       "      <td>0.038723</td>\n",
       "    </tr>\n",
       "    <tr>\n",
       "      <th>Country</th>\n",
       "      <td>-0.180571</td>\n",
       "      <td>1.000000</td>\n",
       "      <td>0.210764</td>\n",
       "      <td>0.761643</td>\n",
       "      <td>0.626342</td>\n",
       "      <td>0.317561</td>\n",
       "      <td>0.292318</td>\n",
       "      <td>-0.090250</td>\n",
       "      <td>-0.080522</td>\n",
       "    </tr>\n",
       "    <tr>\n",
       "      <th>Position</th>\n",
       "      <td>-0.059181</td>\n",
       "      <td>0.210764</td>\n",
       "      <td>1.000000</td>\n",
       "      <td>0.275572</td>\n",
       "      <td>0.209818</td>\n",
       "      <td>0.182235</td>\n",
       "      <td>0.526490</td>\n",
       "      <td>-0.021694</td>\n",
       "      <td>-0.021961</td>\n",
       "    </tr>\n",
       "    <tr>\n",
       "      <th>upper_salary</th>\n",
       "      <td>-0.138424</td>\n",
       "      <td>0.761643</td>\n",
       "      <td>0.275572</td>\n",
       "      <td>1.000000</td>\n",
       "      <td>0.808623</td>\n",
       "      <td>0.221448</td>\n",
       "      <td>0.300975</td>\n",
       "      <td>-0.094842</td>\n",
       "      <td>-0.067636</td>\n",
       "    </tr>\n",
       "    <tr>\n",
       "      <th>lower_salary</th>\n",
       "      <td>-0.099318</td>\n",
       "      <td>0.626342</td>\n",
       "      <td>0.209818</td>\n",
       "      <td>0.808623</td>\n",
       "      <td>1.000000</td>\n",
       "      <td>0.142872</td>\n",
       "      <td>0.225813</td>\n",
       "      <td>-0.081178</td>\n",
       "      <td>-0.051901</td>\n",
       "    </tr>\n",
       "    <tr>\n",
       "      <th>payment_frequency</th>\n",
       "      <td>-0.069452</td>\n",
       "      <td>0.317561</td>\n",
       "      <td>0.182235</td>\n",
       "      <td>0.221448</td>\n",
       "      <td>0.142872</td>\n",
       "      <td>1.000000</td>\n",
       "      <td>0.206582</td>\n",
       "      <td>0.289276</td>\n",
       "      <td>-0.064514</td>\n",
       "    </tr>\n",
       "    <tr>\n",
       "      <th>year_of_exp</th>\n",
       "      <td>-0.098420</td>\n",
       "      <td>0.292318</td>\n",
       "      <td>0.526490</td>\n",
       "      <td>0.300975</td>\n",
       "      <td>0.225813</td>\n",
       "      <td>0.206582</td>\n",
       "      <td>1.000000</td>\n",
       "      <td>0.015560</td>\n",
       "      <td>-0.015245</td>\n",
       "    </tr>\n",
       "    <tr>\n",
       "      <th>contract_type</th>\n",
       "      <td>0.064952</td>\n",
       "      <td>-0.090250</td>\n",
       "      <td>-0.021694</td>\n",
       "      <td>-0.094842</td>\n",
       "      <td>-0.081178</td>\n",
       "      <td>0.289276</td>\n",
       "      <td>0.015560</td>\n",
       "      <td>1.000000</td>\n",
       "      <td>0.021224</td>\n",
       "    </tr>\n",
       "    <tr>\n",
       "      <th>eligibility</th>\n",
       "      <td>0.038723</td>\n",
       "      <td>-0.080522</td>\n",
       "      <td>-0.021961</td>\n",
       "      <td>-0.067636</td>\n",
       "      <td>-0.051901</td>\n",
       "      <td>-0.064514</td>\n",
       "      <td>-0.015245</td>\n",
       "      <td>0.021224</td>\n",
       "      <td>1.000000</td>\n",
       "    </tr>\n",
       "  </tbody>\n",
       "</table>\n",
       "</div>"
      ],
      "text/plain": [
       "                   title scraped for   Country  Position  upper_salary  \\\n",
       "title scraped for           1.000000 -0.180571 -0.059181     -0.138424   \n",
       "Country                    -0.180571  1.000000  0.210764      0.761643   \n",
       "Position                   -0.059181  0.210764  1.000000      0.275572   \n",
       "upper_salary               -0.138424  0.761643  0.275572      1.000000   \n",
       "lower_salary               -0.099318  0.626342  0.209818      0.808623   \n",
       "payment_frequency          -0.069452  0.317561  0.182235      0.221448   \n",
       "year_of_exp                -0.098420  0.292318  0.526490      0.300975   \n",
       "contract_type               0.064952 -0.090250 -0.021694     -0.094842   \n",
       "eligibility                 0.038723 -0.080522 -0.021961     -0.067636   \n",
       "\n",
       "                   lower_salary  payment_frequency  year_of_exp  \\\n",
       "title scraped for     -0.099318          -0.069452    -0.098420   \n",
       "Country                0.626342           0.317561     0.292318   \n",
       "Position               0.209818           0.182235     0.526490   \n",
       "upper_salary           0.808623           0.221448     0.300975   \n",
       "lower_salary           1.000000           0.142872     0.225813   \n",
       "payment_frequency      0.142872           1.000000     0.206582   \n",
       "year_of_exp            0.225813           0.206582     1.000000   \n",
       "contract_type         -0.081178           0.289276     0.015560   \n",
       "eligibility           -0.051901          -0.064514    -0.015245   \n",
       "\n",
       "                   contract_type  eligibility  \n",
       "title scraped for       0.064952     0.038723  \n",
       "Country                -0.090250    -0.080522  \n",
       "Position               -0.021694    -0.021961  \n",
       "upper_salary           -0.094842    -0.067636  \n",
       "lower_salary           -0.081178    -0.051901  \n",
       "payment_frequency       0.289276    -0.064514  \n",
       "year_of_exp             0.015560    -0.015245  \n",
       "contract_type           1.000000     0.021224  \n",
       "eligibility             0.021224     1.000000  "
      ]
     },
     "execution_count": 258,
     "metadata": {},
     "output_type": "execute_result"
    }
   ],
   "source": [
    "df.corr()"
   ]
  },
  {
   "cell_type": "code",
   "execution_count": 259,
   "metadata": {},
   "outputs": [],
   "source": [
    "from sklearn.linear_model import LinearRegression\n",
    "from sklearn.model_selection import train_test_split\n",
    "from sklearn.preprocessing import StandardScaler\n"
   ]
  },
  {
   "cell_type": "code",
   "execution_count": 260,
   "metadata": {},
   "outputs": [
    {
     "name": "stdout",
     "output_type": "stream",
     "text": [
      "[IterativeImputer] Completing matrix with shape (2833, 9)\n",
      "[IterativeImputer] Ending imputation round 1/20, elapsed time 0.05\n",
      "[IterativeImputer] Change: 549124.9318755025, scaled tolerance: 1600.0 \n",
      "[IterativeImputer] Ending imputation round 2/20, elapsed time 0.11\n",
      "[IterativeImputer] Change: 0.0, scaled tolerance: 1600.0 \n",
      "[IterativeImputer] Early stopping criterion reached.\n"
     ]
    }
   ],
   "source": [
    "from sklearn.experimental import enable_iterative_imputer\n",
    "from sklearn.impute import IterativeImputer\n",
    "#from catboost             import CatBoostRegressor\n",
    "\n",
    "imputer = IterativeImputer(\n",
    "    verbose=2,\n",
    "    max_iter=20,\n",
    "    imputation_order='descending')\n",
    "\n",
    "\n",
    "df2 = pd.DataFrame(imputer.fit_transform(df), columns=df.columns)\n"
   ]
  },
  {
   "cell_type": "code",
   "execution_count": 261,
   "metadata": {},
   "outputs": [
    {
     "name": "stdout",
     "output_type": "stream",
     "text": [
      "{0: 'title scraped for', 1: 'Country', 2: 'Position', 3: 'payment_frequency', 4: 'year_of_exp', 5: 'contract_type', 6: 'eligibility'}\n"
     ]
    }
   ],
   "source": [
    "features_dict = {}\n",
    "i = 0\n",
    "for feature in list(df2.drop([\"lower_salary\", \"upper_salary\"], axis=\"columns\").columns):\n",
    "    features_dict[i] = feature\n",
    "    i += 1\n",
    "\n",
    "print(features_dict)\n"
   ]
  },
  {
   "cell_type": "code",
   "execution_count": 262,
   "metadata": {},
   "outputs": [],
   "source": [
    "# Extracting the features and target variable\n",
    "y = df2[[\"lower_salary\", \"upper_salary\"]].values\n",
    "X = df2.drop([\"lower_salary\", \"upper_salary\"], axis=\"columns\")\n"
   ]
  },
  {
   "cell_type": "code",
   "execution_count": 263,
   "metadata": {},
   "outputs": [
    {
     "name": "stdout",
     "output_type": "stream",
     "text": [
      "Train set: (2266, 7) (2266, 2)\n",
      "Test set: (567, 7) (567, 2)\n"
     ]
    }
   ],
   "source": [
    "# Normalizing the data\n",
    "X = StandardScaler().fit(X).transform(X)\n",
    "\n",
    "X_train, X_test, y_train, y_test = train_test_split(\n",
    "    X, y, test_size=0.2, random_state=4)\n",
    "print('Train set:', X_train.shape,  y_train.shape)\n",
    "print('Test set:', X_test.shape,  y_test.shape)\n"
   ]
  },
  {
   "cell_type": "code",
   "execution_count": 264,
   "metadata": {},
   "outputs": [
    {
     "data": {
      "text/plain": [
       "LinearRegression(copy_X=True, fit_intercept=True, n_jobs=None, normalize=False)"
      ]
     },
     "execution_count": 264,
     "metadata": {},
     "output_type": "execute_result"
    }
   ],
   "source": [
    "Lr = LinearRegression()\n",
    "Lr.fit(X_train,y_train)"
   ]
  },
  {
   "cell_type": "code",
   "execution_count": 265,
   "metadata": {},
   "outputs": [
    {
     "data": {
      "text/plain": [
       "0.6780517943625439"
      ]
     },
     "execution_count": 265,
     "metadata": {},
     "output_type": "execute_result"
    }
   ],
   "source": [
    "from sklearn.metrics import r2_score, mean_squared_error\n",
    "yhat = Lr.predict(X_test)\n",
    "r2_score(y_test, yhat)\n"
   ]
  },
  {
   "cell_type": "code",
   "execution_count": null,
   "metadata": {},
   "outputs": [],
   "source": []
  }
 ],
 "metadata": {
  "kernelspec": {
   "display_name": "Python 3.7.6 ('base')",
   "language": "python",
   "name": "python3"
  },
  "language_info": {
   "codemirror_mode": {
    "name": "ipython",
    "version": 3
   },
   "file_extension": ".py",
   "mimetype": "text/x-python",
   "name": "python",
   "nbconvert_exporter": "python",
   "pygments_lexer": "ipython3",
   "version": "3.7.6"
  },
  "orig_nbformat": 4,
  "vscode": {
   "interpreter": {
    "hash": "3bebb22f63198bf80843c5f196436f6f24dfb94b5336df4481cd2bc8a7de29d6"
   }
  }
 },
 "nbformat": 4,
 "nbformat_minor": 2
}
